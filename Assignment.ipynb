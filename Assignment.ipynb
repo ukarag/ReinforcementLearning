{
 "cells": [
  {
   "cell_type": "markdown",
   "id": "02944396",
   "metadata": {
    "id": "02944396"
   },
   "source": [
    "# Assignment"
   ]
  },
  {
   "cell_type": "code",
   "execution_count": 1,
   "id": "c9652bc6",
   "metadata": {
    "id": "c9652bc6"
   },
   "outputs": [],
   "source": [
    "# Import \n",
    "\n",
    "import numpy as np\n",
    "import matplotlib.pyplot as plt\n",
    "from degree_freedom_queen import *\n",
    "from degree_freedom_king1 import *\n",
    "from degree_freedom_king2 import *\n",
    "from generate_game import *\n",
    "from Chess_env import *\n",
    "\n",
    "\n",
    "size_board = 4"
   ]
  },
  {
   "cell_type": "markdown",
   "id": "0bceca7c",
   "metadata": {
    "id": "0bceca7c"
   },
   "source": [
    "## The Environment\n",
    "\n",
    "You can find the environment in the file Chess_env, which contains the class Chess_env. To define an object, you need to provide the board size considered as input. In our example, size_board=4. \n",
    "Chess_env is composed by the following methods:\n",
    "\n",
    "1. Initialise_game. The method initialises an episode by placing the three pieces considered (Agent's king and queen, enemy's king) in the chess board. The outputs of the method are described below in order.\n",
    "\n",
    "     S $\\;$ A matrix representing the board locations filled with 4 numbers: 0, no piece in that position; 1, location of the \n",
    "     agent's king; 2 location of the queen; 3 location of the enemy king.\n",
    "     \n",
    "     X $\\;$ The features, that is the input to the neural network. See the assignment for more information regarding the            definition of the features adopted. To personalise this, go into the Features method of the class Chess_env() and change        accordingly.\n",
    "     \n",
    "     allowed_a $\\;$ The allowed actions that the agent can make. The agent is moving a king, with a total number of 8                possible actions, and a queen, with a total number of $(board_{size}-1)\\times 8$ actions. The total number of possible actions correspond      to the sum of the two, but not all actions are allowed in a given position (movements to locations outside the borders or      against chess rules). Thus, the variable allowed_a is a vector that is one (zero) for an action that the agent can (can't)      make. Be careful, apply the policy considered on the actions that are allowed only.\n",
    "     \n",
    "\n",
    "2. OneStep. The method performs a one step update of the system. Given as input the action selected by the agent, it updates the chess board by performing that action and the response of the enemy king (which is a random allowed action in the settings considered). The first three outputs are the same as for the Initialise_game method, but the variables are computed for the position reached after the update of the system. The fourth and fifth outputs are:\n",
    "\n",
    "     R $\\;$ The reward. To change this, look at the OneStep method of the class where the rewards are set.\n",
    "     \n",
    "     Done $\\;$ A variable that is 1 if the episode has ended (checkmate or draw).\n",
    "     \n",
    "     \n",
    "3. Features. Given the chessboard position, the method computes the features.\n",
    "\n",
    "This information and a quick analysis of the class should be all you need to get going. The other functions that the class exploits are uncommented and constitute an example on how not to write a python code. You can take a look at them if you want, but it is not necessary.\n",
    "\n",
    "\n",
    "\n",
    "\n"
   ]
  },
  {
   "cell_type": "code",
   "execution_count": 2,
   "id": "9593a299",
   "metadata": {
    "id": "9593a299"
   },
   "outputs": [],
   "source": [
    "## INITIALISE THE ENVIRONMENT\n",
    "\n",
    "env=Chess_Env(size_board)"
   ]
  },
  {
   "cell_type": "code",
   "execution_count": 3,
   "id": "bbc05bfd",
   "metadata": {
    "colab": {
     "base_uri": "https://localhost:8080/"
    },
    "id": "bbc05bfd",
    "outputId": "e9bc20c8-dc0f-4940-bf97-ee8cb5df3202"
   },
   "outputs": [
    {
     "name": "stdout",
     "output_type": "stream",
     "text": [
      "[[0 0 0 0]\n",
      " [0 2 0 0]\n",
      " [0 1 0 3]\n",
      " [0 0 0 0]]\n",
      "check?  0\n",
      "dofk2  0\n",
      "\n",
      "[[0 0 0 0]\n",
      " [2 0 0 0]\n",
      " [0 1 0 0]\n",
      " [0 0 0 3]]\n",
      "0  0\n",
      "check?  0\n",
      "dofk2  1\n",
      "\n",
      "[[0 2 0 0]\n",
      " [0 0 0 0]\n",
      " [0 1 0 0]\n",
      " [0 0 0 3]]\n",
      "0.0  1\n",
      "check?  0\n",
      "dofk2  0\n"
     ]
    }
   ],
   "source": [
    "## PRINT 5 STEPS OF AN EPISODE CONSIDERING A RANDOM AGENT\n",
    "\n",
    "S,X,allowed_a=env.Initialise_game()                       # INTIALISE GAME\n",
    "\n",
    "print(S)                                                  # PRINT CHESS BOARD (SEE THE DESCRIPTION ABOVE)\n",
    "\n",
    "print('check? ',env.check)                                # PRINT VARIABLE THAT TELLS IF ENEMY KING IS IN CHECK (1) OR NOT (0)\n",
    "print('dofk2 ',np.sum(env.dfk2_constrain).astype(int))    # PRINT THE NUMBER OF LOCATIONS THAT THE ENEMY KING CAN MOVE TO\n",
    "\n",
    "\n",
    "for i in range(5):\n",
    "    \n",
    "    a,_=np.where(allowed_a==1)                  # FIND WHAT THE ALLOWED ACTIONS ARE\n",
    "    a_agent=np.random.permutation(a)[0]         # MAKE A RANDOM ACTION\n",
    "\n",
    "    S,X,allowed_a,R,Done=env.OneStep(a_agent)   # UPDATE THE ENVIRONMENT\n",
    "\n",
    "    ## PRINT CHESS BOARD AND VARIABLES\n",
    "    print('')\n",
    "    print(S)\n",
    "    print(R,'', Done)\n",
    "    print('check? ',env.check)\n",
    "    print('dofk2 ',np.sum(env.dfk2_constrain).astype(int))\n",
    "    \n",
    "    \n",
    "    # TERMINATE THE EPISODE IF Done=True (DRAW OR CHECKMATE)\n",
    "    if Done:\n",
    "        break\n",
    "        \n"
   ]
  },
  {
   "cell_type": "code",
   "execution_count": 4,
   "id": "fc16cf7b",
   "metadata": {
    "colab": {
     "base_uri": "https://localhost:8080/"
    },
    "id": "fc16cf7b",
    "outputId": "600124c7-ae66-4e43-befe-e054d5a73bba"
   },
   "outputs": [
    {
     "name": "stdout",
     "output_type": "stream",
     "text": [
      "Random_Agent, Average reward: 0.197 Number of steps:  7.228\n"
     ]
    }
   ],
   "source": [
    "# PERFORM N_episodes=1000 EPISODES MAKING RANDOM ACTIONS AND COMPUTE THE AVERAGE REWARD AND NUMBER OF MOVES \n",
    "\n",
    "S,X,allowed_a=env.Initialise_game()\n",
    "N_episodes=1000\n",
    "\n",
    "# VARIABLES WHERE TO SAVE THE FINAL REWARD IN AN EPISODE AND THE NUMBER OF MOVES \n",
    "R_save_random = np.zeros([N_episodes, 1])\n",
    "N_moves_save_random = np.zeros([N_episodes, 1])\n",
    "\n",
    "for n in range(N_episodes):\n",
    "    \n",
    "    S,X,allowed_a=env.Initialise_game()     # INITIALISE GAME\n",
    "    Done=0                                  # SET Done=0 AT THE BEGINNING\n",
    "    i=1                                     # COUNTER FOR THE NUMBER OF ACTIONS (MOVES) IN AN EPISODE\n",
    "    \n",
    "    # UNTIL THE EPISODE IS NOT OVER...(Done=0)\n",
    "    while Done==0:\n",
    "        \n",
    "        # SAME AS THE CELL BEFORE, BUT SAVING THE RESULTS WHEN THE EPISODE TERMINATES \n",
    "        \n",
    "        a_base,_=np.where(allowed_a==1)\n",
    "        \n",
    "        a_agent_base=np.random.permutation(a_base)[0]\n",
    "\n",
    "        S,X,allowed_a,R,Done=env.OneStep(a_agent_base)\n",
    "                \n",
    "        if Done:\n",
    "            \n",
    "            R_save_random[n]=np.copy(R)\n",
    "            N_moves_save_random[n]=np.copy(i)\n",
    "\n",
    "            break\n",
    "\n",
    "        i=i+1                               # UPDATE THE COUNTER\n",
    "\n",
    "\n",
    "\n",
    "# AS YOU SEE, THE PERFORMANCE OF A RANDOM AGENT ARE NOT GREAT, SINCE THE MAJORITY OF THE POSITIONS END WITH A DRAW \n",
    "# (THE ENEMY KING IS NOT IN CHECK AND CAN'T MOVE)\n",
    "\n",
    "print('Random_Agent, Average reward:',np.mean(R_save_random),'Number of steps: ',np.mean(N_moves_save_random))\n",
    "\n"
   ]
  },
  {
   "cell_type": "code",
   "execution_count": 9,
   "id": "ece20429",
   "metadata": {
    "id": "ece20429",
    "colab": {
     "base_uri": "https://localhost:8080/"
    },
    "outputId": "8b17ee36-01f4-4333-eb88-e9ccdc6c8a5d"
   },
   "outputs": [],
   "source": [
    "# INITIALISE THE PARAMETERS OF YOUR NEURAL NETWORK AND...\n",
    "# PLEASE CONSIDER TO USE A MASK OF ONE FOR THE ACTION MADE AND ZERO OTHERWISE IF YOU ARE NOT USING VANILLA GRADIENT DESCENT...\n",
    "# WE SUGGEST A NETWORK WITH ONE HIDDEN LAYER WITH SIZE 200. \n",
    "\n",
    "import tensorflow as tf\n",
    "from tensorflow import keras\n",
    "from collections import deque\n",
    "\n",
    "S,X,allowed_a=env.Initialise_game()\n",
    "\n",
    "N_episodes = 5000 # THE NUMBER OF GAMES TO BE PLAYED \n",
    "max_T = 200 # maximum number of actions per episode\n",
    "# SAVING VARIABLES\n",
    "R_save = np.zeros([N_episodes, max_T ])\n",
    "N_moves_save = np.zeros([N_episodes])\n",
    "\n"
   ]
  },
  {
   "cell_type": "code",
   "execution_count": 10,
   "outputs": [],
   "source": [
    "def build_model():\n",
    "    init = tf.keras.initializers.HeUniform()\n",
    "    model = keras.Sequential()\n",
    "    model.add(keras.layers.Dense(24, input_shape=(np.shape(X)), activation='relu', kernel_initializer=init))\n",
    "    model.add(keras.layers.Dense(200, activation='relu', kernel_initializer=init))\n",
    "    model.add(keras.layers.Dense(32, activation='linear', kernel_initializer=init))\n",
    "    model.compile(loss=tf.keras.losses.Huber(), optimizer=tf.keras.optimizers.Adam(lr=0.001), metrics=['accuracy'])\n",
    "    return model"
   ],
   "metadata": {
    "collapsed": false,
    "pycharm": {
     "name": "#%%\n"
    }
   }
  },
  {
   "cell_type": "code",
   "execution_count": 26,
   "outputs": [],
   "source": [
    "# initialize parameters\n",
    "epsilon_0 = 0.2     # STARTING VALUE OF EPSILON FOR THE EPSILON-GREEDY POLICY\n",
    "beta = 0.00005      # THE PARAMETER SETS HOW QUICKLY THE VALUE OF EPSILON IS DECAYING (SEE epsilon_f BELOW)\n",
    "gamma = 0.85        # THE DISCOUNT FACTOR\n",
    "eta = 0.0035        # THE LEARNING RATE\n",
    "memory = deque(maxlen=2000)\n",
    "N_a=np.shape(allowed_a)[0]   # TOTAL NUMBER OF POSSIBLE ACTIONS\n",
    "N_in=np.shape(X)[0]    ## INPUT SIZE\n",
    "\n",
    "Qtable = np.random.randn(1, N_a)/1000"
   ],
   "metadata": {
    "collapsed": false,
    "pycharm": {
     "name": "#%%\n"
    }
   }
  },
  {
   "cell_type": "code",
   "execution_count": null,
   "id": "Q9Ofb7Gfts0e",
   "metadata": {
    "id": "Q9Ofb7Gfts0e"
   },
   "outputs": [],
   "source": [
    "def EpsilonGreedy_Policy(Qvalues, epsilon, allowed_a):\n",
    "    allowed_ind,_=np.where(allowed_a==1)\n",
    "    Qvalues_allowed = np.take(Qvalues, allowed_ind)\n",
    "    \n",
    "    rand_value=np.random.uniform(0,1)\n",
    "    rand_a=rand_value<epsilon\n",
    "\n",
    "    if rand_a==True:\n",
    "        a = np.random.choice(allowed_ind)\n",
    "    else:\n",
    "        a_q = np.argmax(Qvalues_allowed)\n",
    "        a = allowed_ind[a_q] \n",
    "    return a"
   ]
  },
  {
   "cell_type": "code",
   "execution_count": null,
   "id": "e6ba1f84",
   "metadata": {
    "id": "e6ba1f84"
   },
   "outputs": [],
   "source": [
    "# SARSA\n",
    "\n",
    "eligibility_trace = True\n",
    "if eligibility_trace:\n",
    "    lamb=0.3\n",
    "    eta=0.08\n",
    "\n",
    "\n",
    "for n in range(N_episodes):\n",
    "\n",
    "    epsilon_f = epsilon_0 / (1 + beta * n)   ## DECAYING EPSILON\n",
    "    Done=0                                   ## SET DONE TO ZERO (BEGINNING OF THE EPISODE)\n",
    "    i = 1                                    ## COUNTER FOR NUMBER OF ACTIONS\n",
    "    \n",
    "    S,X,allowed_a=env.Initialise_game()      ## INITIALISE GAME\n",
    " \n",
    "    # add state X to all states\n",
    "    X_all = np.array([X])\n",
    "    ind_x = -1\n",
    "    count = -1\n",
    "    for el in X_all:\n",
    "        count += 1\n",
    "        if np.array_equal(el, X):\n",
    "            ind_x = count \n",
    "\n",
    "    if ind_x == -1:\n",
    "        np.append(X_all, [X], axis=0)\n",
    "        Q = np.random.randn(1, N_a)/1000\n",
    "        np.append(Qtable, Q, axis=0)\n",
    "\n",
    "    Qvalues = np.copy(Qtable[ind_x, :])\n",
    "    \n",
    "    # chose a from Q values with epsilon greedy\n",
    "    a = EpsilonGreedy_Policy(Qvalues, epsilon_0, allowed_a) #make an action\n",
    "\n",
    "    while Done==0:                           ## START THE EPISODE\n",
    "        # take action a\n",
    "        S_next,X_next,allowed_a_next,R,Done=env.OneStep(a)\n",
    "        R_save[n, i-1] = np.copy(R)\n",
    "        N_moves_save[n] = np.copy(i)\n",
    "        \n",
    "        ## THE EPISODE HAS ENDED, UPDATE...BE CAREFUL, THIS IS THE LAST STEP OF THE EPISODE\n",
    "        if Done==1 or i >= max_T:\n",
    "                   \n",
    "            break\n",
    "           \n",
    "        \n",
    "        \n",
    "        # IF THE EPISODE IS NOT OVER...\n",
    "        else:\n",
    "            \n",
    "            ## ONLY TO PUT SUMETHING\n",
    "            PIPPO=1\n",
    "        \n",
    "        #check if state X is in the Q table by finding index of X_all and select state as Q values\n",
    "        # otherwise append row (X) to the Q table with random values and append X to X_all\n",
    "        ind_x_next = -1\n",
    "        count = -1\n",
    "        for el in X_all:\n",
    "            count += 1\n",
    "            if np.array_equal(el, X_next):\n",
    "                ind_x_next = count \n",
    "                \n",
    "        if ind_x_next == -1:\n",
    "            np.append(X_all, [X_next], axis=0)\n",
    "            Q = np.random.randn(1, N_a)/1000\n",
    "            np.append(Qtable, Q, axis=0)\n",
    "            \n",
    "        Qvalues = np.copy(Qtable[ind_x_next, :])\n",
    "\n",
    "        # chose a next from Q values with epsilon greedy\n",
    "        a_next = EpsilonGreedy_Policy(Qvalues, epsilon_f, allowed_a_next) #make an action\n",
    "        \n",
    "        # Compute the delta\n",
    "        delta=R+gamma*Qtable[ind_x_next, a_next]-Qtable[ind_x, a]\n",
    "        \n",
    "        # Update the Qvalues\n",
    "        Qtable[ind_x, a]=Qtable[ind_x, a]+eta*delta\n",
    "\n",
    "        # NEXT STATE AND CO. BECOME ACTUAL STATE...    \n",
    "        a=np.copy(a_next)\n",
    "        S=np.copy(S_next)\n",
    "        X=np.copy(X_next)\n",
    "        allowed_a=np.copy(allowed_a_next)\n",
    "        ind_x = np.copy(ind_x_next)\n",
    "        i += 1  # UPDATE COUNTER FOR NUMBER OF ACTIONS\n",
    "\n"
   ]
  },
  {
   "cell_type": "code",
   "execution_count": 39,
   "outputs": [],
   "source": [
    "def greedy(model, X, epsilon, allowed_a):\n",
    "    allowed_ind,_=np.where(allowed_a==1)\n",
    "    print(allowed_ind)\n",
    "\n",
    "    rand_value=np.random.uniform(0,1)\n",
    "\n",
    "    if rand_value < epsilon:\n",
    "        a = np.random.choice(allowed_ind)\n",
    "    else:\n",
    "        predicted = model.predict(X)\n",
    "        predicted_allowed = np.take(predicted, allowed_ind)\n",
    "        a_p = np.argmax(predicted_allowed)\n",
    "        a = allowed_ind[a_p]\n",
    "\n",
    "    return a"
   ],
   "metadata": {
    "collapsed": false,
    "pycharm": {
     "name": "#%%\n"
    }
   }
  },
  {
   "cell_type": "code",
   "execution_count": 14,
   "outputs": [],
   "source": [
    "import random\n",
    "\n",
    "def replay(model, batch_size):\n",
    "    minibatch = random.sample(memory, batch_size)\n",
    "    for X, a, R, X_next, Done in minibatch:\n",
    "        target = R\n",
    "        if Done == 0:\n",
    "            target = (R + gamma *\n",
    "                      np.amax(model.predict(X_next)[0]))\n",
    "        target_f = model.predict(X)\n",
    "        target_f[0][a] = target\n",
    "        model.fit(X, target_f, epochs=1, verbose=0)\n",
    "\n"
   ],
   "metadata": {
    "collapsed": false,
    "pycharm": {
     "name": "#%%\n"
    }
   }
  },
  {
   "cell_type": "code",
   "execution_count": 15,
   "outputs": [],
   "source": [
    "def load(model, name):\n",
    "    model.load_weights(name)"
   ],
   "metadata": {
    "collapsed": false,
    "pycharm": {
     "name": "#%%\n"
    }
   }
  },
  {
   "cell_type": "code",
   "execution_count": 16,
   "outputs": [],
   "source": [
    "def save(model, name):\n",
    "    model.save_weights(name)"
   ],
   "metadata": {
    "collapsed": false,
    "pycharm": {
     "name": "#%%\n"
    }
   }
  },
  {
   "cell_type": "code",
   "execution_count": 45,
   "outputs": [
    {
     "name": "stdout",
     "output_type": "stream",
     "text": [
      "[ 3  6  9 12 15 18 21 24 26 28 30]\n",
      "0 [0. 0. 0. 0. 0. 0. 0. 0. 0. 0. 0. 0. 0. 0. 0. 1. 0. 0. 0. 0. 0. 0. 1. 0.\n",
      " 0. 0. 0. 0. 0. 0. 0. 0. 0. 0. 0. 0. 0. 0. 0. 0. 0. 0. 0. 0. 0. 1. 0. 0.\n",
      " 1. 0. 0. 1. 0. 0. 0. 0. 0. 0.]\n",
      "[ 0  1  3  6  9 10 12 18 21 25]\n",
      "0 [0. 0. 0. 0. 0. 0. 0. 0. 0. 0. 0. 0. 0. 0. 0. 1. 0. 1. 0. 0. 0. 0. 0. 0.\n",
      " 0. 0. 0. 0. 0. 0. 0. 0. 0. 0. 0. 0. 0. 0. 0. 0. 1. 0. 0. 0. 0. 0. 0. 0.\n",
      " 1. 0. 0. 1. 0. 0. 0. 0. 0. 0.]\n"
     ]
    },
    {
     "name": "stderr",
     "output_type": "stream",
     "text": [
      "Exception ignored in: <function ScopedTFGraph.__del__ at 0x00000148E42633A0>\n",
      "Traceback (most recent call last):\n",
      "  File \"C:\\Users\\ulkuk\\anaconda3\\lib\\site-packages\\tensorflow\\python\\framework\\c_api_util.py\", line 54, in __del__\n",
      "    self.deleter(self.graph)\n",
      "KeyboardInterrupt: \n"
     ]
    },
    {
     "name": "stdout",
     "output_type": "stream",
     "text": [
      "[ 6  7  9 12 13 25 27 31]\n",
      "0 [0. 0. 0. 0. 0. 0. 0. 0. 0. 0. 1. 0. 0. 0. 0. 0. 0. 1. 0. 0. 0. 0. 0. 0.\n",
      " 0. 0. 0. 0. 0. 0. 0. 0. 0. 0. 0. 0. 0. 0. 0. 0. 0. 0. 0. 0. 1. 0. 0. 0.\n",
      " 1. 0. 0. 1. 0. 0. 0. 0. 0. 0.]\n"
     ]
    },
    {
     "ename": "KeyboardInterrupt",
     "evalue": "",
     "output_type": "error",
     "traceback": [
      "\u001B[1;31m---------------------------------------------------------------------------\u001B[0m",
      "\u001B[1;31mKeyboardInterrupt\u001B[0m                         Traceback (most recent call last)",
      "\u001B[1;32m<ipython-input-45-678b4967fcc2>\u001B[0m in \u001B[0;36m<module>\u001B[1;34m\u001B[0m\n\u001B[0;32m     28\u001B[0m \u001B[1;33m\u001B[0m\u001B[0m\n\u001B[0;32m     29\u001B[0m         \u001B[1;32mif\u001B[0m \u001B[0mlen\u001B[0m\u001B[1;33m(\u001B[0m\u001B[0mmemory\u001B[0m\u001B[1;33m)\u001B[0m \u001B[1;33m>\u001B[0m \u001B[0mbatch_size\u001B[0m\u001B[1;33m:\u001B[0m\u001B[1;33m\u001B[0m\u001B[1;33m\u001B[0m\u001B[0m\n\u001B[1;32m---> 30\u001B[1;33m             \u001B[0mreplay\u001B[0m\u001B[1;33m(\u001B[0m\u001B[0mmodel\u001B[0m\u001B[1;33m,\u001B[0m \u001B[0mbatch_size\u001B[0m\u001B[1;33m)\u001B[0m\u001B[1;33m\u001B[0m\u001B[1;33m\u001B[0m\u001B[0m\n\u001B[0m\u001B[0;32m     31\u001B[0m             \u001B[0mepsilon_0\u001B[0m \u001B[1;33m=\u001B[0m \u001B[0mepsilon_0\u001B[0m\u001B[1;33m/\u001B[0m \u001B[1;33m(\u001B[0m\u001B[1;36m1\u001B[0m \u001B[1;33m+\u001B[0m \u001B[0mbeta\u001B[0m \u001B[1;33m*\u001B[0m \u001B[0me\u001B[0m\u001B[1;33m)\u001B[0m\u001B[1;33m\u001B[0m\u001B[1;33m\u001B[0m\u001B[0m\n\u001B[0;32m     32\u001B[0m \u001B[1;33m\u001B[0m\u001B[0m\n",
      "\u001B[1;32m<ipython-input-14-717de6daada8>\u001B[0m in \u001B[0;36mreplay\u001B[1;34m(model, batch_size)\u001B[0m\n\u001B[0;32m      7\u001B[0m         \u001B[1;32mif\u001B[0m \u001B[0mDone\u001B[0m \u001B[1;33m==\u001B[0m \u001B[1;36m0\u001B[0m\u001B[1;33m:\u001B[0m\u001B[1;33m\u001B[0m\u001B[1;33m\u001B[0m\u001B[0m\n\u001B[0;32m      8\u001B[0m             target = (R + gamma *\n\u001B[1;32m----> 9\u001B[1;33m                       np.amax(model.predict(X_next)[0]))\n\u001B[0m\u001B[0;32m     10\u001B[0m         \u001B[0mtarget_f\u001B[0m \u001B[1;33m=\u001B[0m \u001B[0mmodel\u001B[0m\u001B[1;33m.\u001B[0m\u001B[0mpredict\u001B[0m\u001B[1;33m(\u001B[0m\u001B[0mX\u001B[0m\u001B[1;33m)\u001B[0m\u001B[1;33m\u001B[0m\u001B[1;33m\u001B[0m\u001B[0m\n\u001B[0;32m     11\u001B[0m         \u001B[0mtarget_f\u001B[0m\u001B[1;33m[\u001B[0m\u001B[1;36m0\u001B[0m\u001B[1;33m]\u001B[0m\u001B[1;33m[\u001B[0m\u001B[0ma\u001B[0m\u001B[1;33m]\u001B[0m \u001B[1;33m=\u001B[0m \u001B[0mtarget\u001B[0m\u001B[1;33m\u001B[0m\u001B[1;33m\u001B[0m\u001B[0m\n",
      "\u001B[1;32m~\\anaconda3\\lib\\site-packages\\tensorflow\\python\\keras\\engine\\training.py\u001B[0m in \u001B[0;36m_method_wrapper\u001B[1;34m(self, *args, **kwargs)\u001B[0m\n\u001B[0;32m    128\u001B[0m       raise ValueError('{} is not supported in multi-worker mode.'.format(\n\u001B[0;32m    129\u001B[0m           method.__name__))\n\u001B[1;32m--> 130\u001B[1;33m     \u001B[1;32mreturn\u001B[0m \u001B[0mmethod\u001B[0m\u001B[1;33m(\u001B[0m\u001B[0mself\u001B[0m\u001B[1;33m,\u001B[0m \u001B[1;33m*\u001B[0m\u001B[0margs\u001B[0m\u001B[1;33m,\u001B[0m \u001B[1;33m**\u001B[0m\u001B[0mkwargs\u001B[0m\u001B[1;33m)\u001B[0m\u001B[1;33m\u001B[0m\u001B[1;33m\u001B[0m\u001B[0m\n\u001B[0m\u001B[0;32m    131\u001B[0m \u001B[1;33m\u001B[0m\u001B[0m\n\u001B[0;32m    132\u001B[0m   return tf_decorator.make_decorator(\n",
      "\u001B[1;32m~\\anaconda3\\lib\\site-packages\\tensorflow\\python\\keras\\engine\\training.py\u001B[0m in \u001B[0;36mpredict\u001B[1;34m(self, x, batch_size, verbose, steps, callbacks, max_queue_size, workers, use_multiprocessing)\u001B[0m\n\u001B[0;32m   1567\u001B[0m     \u001B[1;32mwith\u001B[0m \u001B[0mself\u001B[0m\u001B[1;33m.\u001B[0m\u001B[0mdistribute_strategy\u001B[0m\u001B[1;33m.\u001B[0m\u001B[0mscope\u001B[0m\u001B[1;33m(\u001B[0m\u001B[1;33m)\u001B[0m\u001B[1;33m:\u001B[0m\u001B[1;33m\u001B[0m\u001B[1;33m\u001B[0m\u001B[0m\n\u001B[0;32m   1568\u001B[0m       \u001B[1;31m# Creates a `tf.data.Dataset` and handles batch and epoch iteration.\u001B[0m\u001B[1;33m\u001B[0m\u001B[1;33m\u001B[0m\u001B[1;33m\u001B[0m\u001B[0m\n\u001B[1;32m-> 1569\u001B[1;33m       data_handler = data_adapter.DataHandler(\n\u001B[0m\u001B[0;32m   1570\u001B[0m           \u001B[0mx\u001B[0m\u001B[1;33m=\u001B[0m\u001B[0mx\u001B[0m\u001B[1;33m,\u001B[0m\u001B[1;33m\u001B[0m\u001B[1;33m\u001B[0m\u001B[0m\n\u001B[0;32m   1571\u001B[0m           \u001B[0mbatch_size\u001B[0m\u001B[1;33m=\u001B[0m\u001B[0mbatch_size\u001B[0m\u001B[1;33m,\u001B[0m\u001B[1;33m\u001B[0m\u001B[1;33m\u001B[0m\u001B[0m\n",
      "\u001B[1;32m~\\anaconda3\\lib\\site-packages\\tensorflow\\python\\keras\\engine\\data_adapter.py\u001B[0m in \u001B[0;36m__init__\u001B[1;34m(self, x, y, sample_weight, batch_size, steps_per_epoch, initial_epoch, epochs, shuffle, class_weight, max_queue_size, workers, use_multiprocessing, model, steps_per_execution)\u001B[0m\n\u001B[0;32m   1103\u001B[0m \u001B[1;33m\u001B[0m\u001B[0m\n\u001B[0;32m   1104\u001B[0m     \u001B[0madapter_cls\u001B[0m \u001B[1;33m=\u001B[0m \u001B[0mselect_data_adapter\u001B[0m\u001B[1;33m(\u001B[0m\u001B[0mx\u001B[0m\u001B[1;33m,\u001B[0m \u001B[0my\u001B[0m\u001B[1;33m)\u001B[0m\u001B[1;33m\u001B[0m\u001B[1;33m\u001B[0m\u001B[0m\n\u001B[1;32m-> 1105\u001B[1;33m     self._adapter = adapter_cls(\n\u001B[0m\u001B[0;32m   1106\u001B[0m         \u001B[0mx\u001B[0m\u001B[1;33m,\u001B[0m\u001B[1;33m\u001B[0m\u001B[1;33m\u001B[0m\u001B[0m\n\u001B[0;32m   1107\u001B[0m         \u001B[0my\u001B[0m\u001B[1;33m,\u001B[0m\u001B[1;33m\u001B[0m\u001B[1;33m\u001B[0m\u001B[0m\n",
      "\u001B[1;32m~\\anaconda3\\lib\\site-packages\\tensorflow\\python\\keras\\engine\\data_adapter.py\u001B[0m in \u001B[0;36m__init__\u001B[1;34m(self, x, y, sample_weights, sample_weight_modes, batch_size, epochs, steps, shuffle, **kwargs)\u001B[0m\n\u001B[0;32m    360\u001B[0m       \u001B[1;32mreturn\u001B[0m \u001B[0mflat_dataset\u001B[0m\u001B[1;33m\u001B[0m\u001B[1;33m\u001B[0m\u001B[0m\n\u001B[0;32m    361\u001B[0m \u001B[1;33m\u001B[0m\u001B[0m\n\u001B[1;32m--> 362\u001B[1;33m     \u001B[0mindices_dataset\u001B[0m \u001B[1;33m=\u001B[0m \u001B[0mindices_dataset\u001B[0m\u001B[1;33m.\u001B[0m\u001B[0mflat_map\u001B[0m\u001B[1;33m(\u001B[0m\u001B[0mslice_batch_indices\u001B[0m\u001B[1;33m)\u001B[0m\u001B[1;33m\u001B[0m\u001B[1;33m\u001B[0m\u001B[0m\n\u001B[0m\u001B[0;32m    363\u001B[0m \u001B[1;33m\u001B[0m\u001B[0m\n\u001B[0;32m    364\u001B[0m     \u001B[0mdataset\u001B[0m \u001B[1;33m=\u001B[0m \u001B[0mself\u001B[0m\u001B[1;33m.\u001B[0m\u001B[0mslice_inputs\u001B[0m\u001B[1;33m(\u001B[0m\u001B[0mindices_dataset\u001B[0m\u001B[1;33m,\u001B[0m \u001B[0minputs\u001B[0m\u001B[1;33m)\u001B[0m\u001B[1;33m\u001B[0m\u001B[1;33m\u001B[0m\u001B[0m\n",
      "\u001B[1;32m~\\anaconda3\\lib\\site-packages\\tensorflow\\python\\data\\ops\\dataset_ops.py\u001B[0m in \u001B[0;36mflat_map\u001B[1;34m(self, map_func)\u001B[0m\n\u001B[0;32m   1725\u001B[0m       \u001B[0mDataset\u001B[0m\u001B[1;33m:\u001B[0m \u001B[0mA\u001B[0m\u001B[0;31m \u001B[0m\u001B[0;31m`\u001B[0m\u001B[0mDataset\u001B[0m\u001B[0;31m`\u001B[0m\u001B[1;33m.\u001B[0m\u001B[1;33m\u001B[0m\u001B[1;33m\u001B[0m\u001B[0m\n\u001B[0;32m   1726\u001B[0m     \"\"\"\n\u001B[1;32m-> 1727\u001B[1;33m     \u001B[1;32mreturn\u001B[0m \u001B[0mFlatMapDataset\u001B[0m\u001B[1;33m(\u001B[0m\u001B[0mself\u001B[0m\u001B[1;33m,\u001B[0m \u001B[0mmap_func\u001B[0m\u001B[1;33m)\u001B[0m\u001B[1;33m\u001B[0m\u001B[1;33m\u001B[0m\u001B[0m\n\u001B[0m\u001B[0;32m   1728\u001B[0m \u001B[1;33m\u001B[0m\u001B[0m\n\u001B[0;32m   1729\u001B[0m   def interleave(self,\n",
      "\u001B[1;32m~\\anaconda3\\lib\\site-packages\\tensorflow\\python\\data\\ops\\dataset_ops.py\u001B[0m in \u001B[0;36m__init__\u001B[1;34m(self, input_dataset, map_func)\u001B[0m\n\u001B[0;32m   4127\u001B[0m               type(self._map_func.output_structure)))\n\u001B[0;32m   4128\u001B[0m     \u001B[0mself\u001B[0m\u001B[1;33m.\u001B[0m\u001B[0m_structure\u001B[0m \u001B[1;33m=\u001B[0m \u001B[0mself\u001B[0m\u001B[1;33m.\u001B[0m\u001B[0m_map_func\u001B[0m\u001B[1;33m.\u001B[0m\u001B[0moutput_structure\u001B[0m\u001B[1;33m.\u001B[0m\u001B[0m_element_spec\u001B[0m  \u001B[1;31m# pylint: disable=protected-access\u001B[0m\u001B[1;33m\u001B[0m\u001B[1;33m\u001B[0m\u001B[0m\n\u001B[1;32m-> 4129\u001B[1;33m     variant_tensor = gen_dataset_ops.flat_map_dataset(\n\u001B[0m\u001B[0;32m   4130\u001B[0m         \u001B[0minput_dataset\u001B[0m\u001B[1;33m.\u001B[0m\u001B[0m_variant_tensor\u001B[0m\u001B[1;33m,\u001B[0m  \u001B[1;31m# pylint: disable=protected-access\u001B[0m\u001B[1;33m\u001B[0m\u001B[1;33m\u001B[0m\u001B[0m\n\u001B[0;32m   4131\u001B[0m         \u001B[0mself\u001B[0m\u001B[1;33m.\u001B[0m\u001B[0m_map_func\u001B[0m\u001B[1;33m.\u001B[0m\u001B[0mfunction\u001B[0m\u001B[1;33m.\u001B[0m\u001B[0mcaptured_inputs\u001B[0m\u001B[1;33m,\u001B[0m\u001B[1;33m\u001B[0m\u001B[1;33m\u001B[0m\u001B[0m\n",
      "\u001B[1;32m~\\anaconda3\\lib\\site-packages\\tensorflow\\python\\ops\\gen_dataset_ops.py\u001B[0m in \u001B[0;36mflat_map_dataset\u001B[1;34m(input_dataset, other_arguments, f, output_types, output_shapes, name)\u001B[0m\n\u001B[0;32m   2025\u001B[0m   \u001B[1;32mif\u001B[0m \u001B[0mtld\u001B[0m\u001B[1;33m.\u001B[0m\u001B[0mis_eager\u001B[0m\u001B[1;33m:\u001B[0m\u001B[1;33m\u001B[0m\u001B[1;33m\u001B[0m\u001B[0m\n\u001B[0;32m   2026\u001B[0m     \u001B[1;32mtry\u001B[0m\u001B[1;33m:\u001B[0m\u001B[1;33m\u001B[0m\u001B[1;33m\u001B[0m\u001B[0m\n\u001B[1;32m-> 2027\u001B[1;33m       _result = pywrap_tfe.TFE_Py_FastPathExecute(\n\u001B[0m\u001B[0;32m   2028\u001B[0m         \u001B[0m_ctx\u001B[0m\u001B[1;33m.\u001B[0m\u001B[0m_context_handle\u001B[0m\u001B[1;33m,\u001B[0m \u001B[0mtld\u001B[0m\u001B[1;33m.\u001B[0m\u001B[0mdevice_name\u001B[0m\u001B[1;33m,\u001B[0m \u001B[1;34m\"FlatMapDataset\"\u001B[0m\u001B[1;33m,\u001B[0m \u001B[0mname\u001B[0m\u001B[1;33m,\u001B[0m\u001B[1;33m\u001B[0m\u001B[1;33m\u001B[0m\u001B[0m\n\u001B[0;32m   2029\u001B[0m         \u001B[0mtld\u001B[0m\u001B[1;33m.\u001B[0m\u001B[0mop_callbacks\u001B[0m\u001B[1;33m,\u001B[0m \u001B[0minput_dataset\u001B[0m\u001B[1;33m,\u001B[0m \u001B[0mother_arguments\u001B[0m\u001B[1;33m,\u001B[0m \u001B[1;34m\"f\"\u001B[0m\u001B[1;33m,\u001B[0m \u001B[0mf\u001B[0m\u001B[1;33m,\u001B[0m\u001B[1;33m\u001B[0m\u001B[1;33m\u001B[0m\u001B[0m\n",
      "\u001B[1;31mKeyboardInterrupt\u001B[0m: "
     ]
    }
   ],
   "source": [
    "\n",
    "S,X,allowed_a=env.Initialise_game()\n",
    "\n",
    "N_a=np.shape(allowed_a)[0]   # TOTAL NUMBER OF POSSIBLE ACTIONS\n",
    "N_in=np.shape(X)[0]    ## INPUT SIZE\n",
    "\n",
    "model = build_model()\n",
    "batch_size = 32\n",
    "\n",
    "for e in range(N_episodes):\n",
    "    S, X, allowed_a = env.Initialise_game()\n",
    "    X = np.reshape(X, [1, N_in])\n",
    "    for time in range(500):\n",
    "        a = greedy(model, X, epsilon_0, allowed_a)\n",
    "        S_next, X_next, allowed_a_next, R, Done = env.OneStep(a)\n",
    "        print(Done, X_next)\n",
    "\n",
    "        if Done == 1:\n",
    "            print(\"episode: {}/{}, score: {}, e: {:.2}\"\n",
    "                  .format(e, N_episodes, time, epsilon_0))\n",
    "            break\n",
    "\n",
    "\n",
    "        X_next = np.reshape(X_next, [1, N_in])\n",
    "        #next_state = np.reshape(next_state, [1, N_a])\n",
    "        memory.append((X, a, R, X_next, Done))\n",
    "        X = X_next\n",
    "        allowed_a = allowed_a_next\n",
    "\n",
    "        if len(memory) > batch_size:\n",
    "            replay(model, batch_size)\n",
    "            epsilon_0 = epsilon_0/ (1 + beta * e)\n",
    "\n",
    "    # if e % 10 == 0:\n",
    "    #     agent.save(\"./save/cartpole-dqn.h5\")"
   ],
   "metadata": {
    "collapsed": false,
    "pycharm": {
     "name": "#%%\n"
    }
   }
  },
  {
   "cell_type": "code",
   "execution_count": 52,
   "id": "a9e1cd9b",
   "metadata": {
    "colab": {
     "base_uri": "https://localhost:8080/",
     "height": 1000
    },
    "id": "a9e1cd9b",
    "outputId": "6589cd00-fdf8-4ee6-f83f-90d9fbc0a671"
   },
   "outputs": [
    {
     "output_type": "execute_result",
     "data": {
      "text/plain": [
       "[<matplotlib.lines.Line2D at 0x7f0d85a22790>,\n",
       " <matplotlib.lines.Line2D at 0x7f0d8151d410>,\n",
       " <matplotlib.lines.Line2D at 0x7f0d8151d590>,\n",
       " <matplotlib.lines.Line2D at 0x7f0d85bc7450>,\n",
       " <matplotlib.lines.Line2D at 0x7f0d82806fd0>,\n",
       " <matplotlib.lines.Line2D at 0x7f0d852cd7d0>,\n",
       " <matplotlib.lines.Line2D at 0x7f0d852cd550>,\n",
       " <matplotlib.lines.Line2D at 0x7f0d852cdd10>,\n",
       " <matplotlib.lines.Line2D at 0x7f0d82806950>,\n",
       " <matplotlib.lines.Line2D at 0x7f0d82806990>,\n",
       " <matplotlib.lines.Line2D at 0x7f0d8151d9d0>,\n",
       " <matplotlib.lines.Line2D at 0x7f0d81737890>,\n",
       " <matplotlib.lines.Line2D at 0x7f0d857cd250>,\n",
       " <matplotlib.lines.Line2D at 0x7f0d854abe10>,\n",
       " <matplotlib.lines.Line2D at 0x7f0d82947150>,\n",
       " <matplotlib.lines.Line2D at 0x7f0d85ae11d0>,\n",
       " <matplotlib.lines.Line2D at 0x7f0d851e5210>,\n",
       " <matplotlib.lines.Line2D at 0x7f0df03533d0>,\n",
       " <matplotlib.lines.Line2D at 0x7f0d8529ef10>,\n",
       " <matplotlib.lines.Line2D at 0x7f0d85b6fad0>,\n",
       " <matplotlib.lines.Line2D at 0x7f0df01969d0>,\n",
       " <matplotlib.lines.Line2D at 0x7f0d84f67990>,\n",
       " <matplotlib.lines.Line2D at 0x7f0d857d90d0>,\n",
       " <matplotlib.lines.Line2D at 0x7f0d84275c50>,\n",
       " <matplotlib.lines.Line2D at 0x7f0d84e3a550>,\n",
       " <matplotlib.lines.Line2D at 0x7f0d84e3a690>,\n",
       " <matplotlib.lines.Line2D at 0x7f0d84e3ad90>,\n",
       " <matplotlib.lines.Line2D at 0x7f0d853126d0>,\n",
       " <matplotlib.lines.Line2D at 0x7f0d85175990>,\n",
       " <matplotlib.lines.Line2D at 0x7f0d8295af50>,\n",
       " <matplotlib.lines.Line2D at 0x7f0e81568ed0>,\n",
       " <matplotlib.lines.Line2D at 0x7f0d84e7d710>,\n",
       " <matplotlib.lines.Line2D at 0x7f0d84e7dad0>,\n",
       " <matplotlib.lines.Line2D at 0x7f0d84e7dc50>,\n",
       " <matplotlib.lines.Line2D at 0x7f0d84e7d590>,\n",
       " <matplotlib.lines.Line2D at 0x7f0d84e7d3d0>,\n",
       " <matplotlib.lines.Line2D at 0x7f0e813d32d0>,\n",
       " <matplotlib.lines.Line2D at 0x7f0d81598a10>,\n",
       " <matplotlib.lines.Line2D at 0x7f0d82956890>,\n",
       " <matplotlib.lines.Line2D at 0x7f0d816df990>,\n",
       " <matplotlib.lines.Line2D at 0x7f0d8503d7d0>,\n",
       " <matplotlib.lines.Line2D at 0x7f0d8597a550>,\n",
       " <matplotlib.lines.Line2D at 0x7f0d8597a510>,\n",
       " <matplotlib.lines.Line2D at 0x7f0d81580750>,\n",
       " <matplotlib.lines.Line2D at 0x7f0d81580b10>,\n",
       " <matplotlib.lines.Line2D at 0x7f0d85981310>,\n",
       " <matplotlib.lines.Line2D at 0x7f0e813d7350>,\n",
       " <matplotlib.lines.Line2D at 0x7f0e814c79d0>,\n",
       " <matplotlib.lines.Line2D at 0x7f0d8524c4d0>,\n",
       " <matplotlib.lines.Line2D at 0x7f0d857b9650>,\n",
       " <matplotlib.lines.Line2D at 0x7f0d85b56790>,\n",
       " <matplotlib.lines.Line2D at 0x7f0d85897290>,\n",
       " <matplotlib.lines.Line2D at 0x7f0e81683ad0>,\n",
       " <matplotlib.lines.Line2D at 0x7f0d8175df10>,\n",
       " <matplotlib.lines.Line2D at 0x7f0d8175d390>,\n",
       " <matplotlib.lines.Line2D at 0x7f0d8175ded0>,\n",
       " <matplotlib.lines.Line2D at 0x7f0d8279aa50>,\n",
       " <matplotlib.lines.Line2D at 0x7f0d857a0b90>,\n",
       " <matplotlib.lines.Line2D at 0x7f0d857a0bd0>,\n",
       " <matplotlib.lines.Line2D at 0x7f0d84b36450>,\n",
       " <matplotlib.lines.Line2D at 0x7f0df0008d50>,\n",
       " <matplotlib.lines.Line2D at 0x7f0df0008850>,\n",
       " <matplotlib.lines.Line2D at 0x7f0d84b20d10>,\n",
       " <matplotlib.lines.Line2D at 0x7f0d84b20ed0>,\n",
       " <matplotlib.lines.Line2D at 0x7f0d8082ee90>,\n",
       " <matplotlib.lines.Line2D at 0x7f0d8082ea50>,\n",
       " <matplotlib.lines.Line2D at 0x7f0df01b7510>,\n",
       " <matplotlib.lines.Line2D at 0x7f0d8525e390>,\n",
       " <matplotlib.lines.Line2D at 0x7f0d8152b090>,\n",
       " <matplotlib.lines.Line2D at 0x7f0d857a4210>,\n",
       " <matplotlib.lines.Line2D at 0x7f0d857a4710>,\n",
       " <matplotlib.lines.Line2D at 0x7f0d859c36d0>,\n",
       " <matplotlib.lines.Line2D at 0x7f0d81610b50>,\n",
       " <matplotlib.lines.Line2D at 0x7f0d807d1790>,\n",
       " <matplotlib.lines.Line2D at 0x7f0d85ad9bd0>,\n",
       " <matplotlib.lines.Line2D at 0x7f0d85ad9f10>,\n",
       " <matplotlib.lines.Line2D at 0x7f0d85ad9190>,\n",
       " <matplotlib.lines.Line2D at 0x7f0d85a15a90>,\n",
       " <matplotlib.lines.Line2D at 0x7f0d8528df50>,\n",
       " <matplotlib.lines.Line2D at 0x7f0d8528db10>,\n",
       " <matplotlib.lines.Line2D at 0x7f0d8528de10>,\n",
       " <matplotlib.lines.Line2D at 0x7f0d8528d0d0>,\n",
       " <matplotlib.lines.Line2D at 0x7f0d8528d710>,\n",
       " <matplotlib.lines.Line2D at 0x7f0d8528d1d0>,\n",
       " <matplotlib.lines.Line2D at 0x7f0e8173ced0>,\n",
       " <matplotlib.lines.Line2D at 0x7f0d827e0b90>,\n",
       " <matplotlib.lines.Line2D at 0x7f0d827e0ed0>,\n",
       " <matplotlib.lines.Line2D at 0x7f0d827e0190>,\n",
       " <matplotlib.lines.Line2D at 0x7f0d827e0f50>,\n",
       " <matplotlib.lines.Line2D at 0x7f0d827e0610>,\n",
       " <matplotlib.lines.Line2D at 0x7f0d827e0990>,\n",
       " <matplotlib.lines.Line2D at 0x7f0d85182050>,\n",
       " <matplotlib.lines.Line2D at 0x7f0e81286210>,\n",
       " <matplotlib.lines.Line2D at 0x7f0d857ce050>,\n",
       " <matplotlib.lines.Line2D at 0x7f0d857cec10>,\n",
       " <matplotlib.lines.Line2D at 0x7f0d81749350>,\n",
       " <matplotlib.lines.Line2D at 0x7f0d81749fd0>,\n",
       " <matplotlib.lines.Line2D at 0x7f0d81749390>,\n",
       " <matplotlib.lines.Line2D at 0x7f0d817493d0>,\n",
       " <matplotlib.lines.Line2D at 0x7f0d81749e50>,\n",
       " <matplotlib.lines.Line2D at 0x7f0d859eaa90>,\n",
       " <matplotlib.lines.Line2D at 0x7f0d828027d0>,\n",
       " <matplotlib.lines.Line2D at 0x7f0d85a75490>,\n",
       " <matplotlib.lines.Line2D at 0x7f0d85bc2750>,\n",
       " <matplotlib.lines.Line2D at 0x7f0d85bc2d50>,\n",
       " <matplotlib.lines.Line2D at 0x7f0d85bc2690>,\n",
       " <matplotlib.lines.Line2D at 0x7f0df01201d0>,\n",
       " <matplotlib.lines.Line2D at 0x7f0df0120490>,\n",
       " <matplotlib.lines.Line2D at 0x7f0df01206d0>,\n",
       " <matplotlib.lines.Line2D at 0x7f0df0120e10>,\n",
       " <matplotlib.lines.Line2D at 0x7f0df0120cd0>,\n",
       " <matplotlib.lines.Line2D at 0x7f0d81542f10>,\n",
       " <matplotlib.lines.Line2D at 0x7f0d8164d790>,\n",
       " <matplotlib.lines.Line2D at 0x7f0d8164dfd0>,\n",
       " <matplotlib.lines.Line2D at 0x7f0d8164dd90>,\n",
       " <matplotlib.lines.Line2D at 0x7f0d8164dc10>,\n",
       " <matplotlib.lines.Line2D at 0x7f0d8164dcd0>,\n",
       " <matplotlib.lines.Line2D at 0x7f0d8164d490>,\n",
       " <matplotlib.lines.Line2D at 0x7f0d8164d3d0>,\n",
       " <matplotlib.lines.Line2D at 0x7f0d856c94d0>,\n",
       " <matplotlib.lines.Line2D at 0x7f0d856c9f90>,\n",
       " <matplotlib.lines.Line2D at 0x7f0d856c9490>,\n",
       " <matplotlib.lines.Line2D at 0x7f0d856c9550>,\n",
       " <matplotlib.lines.Line2D at 0x7f0d814e5750>,\n",
       " <matplotlib.lines.Line2D at 0x7f0d814e5f90>,\n",
       " <matplotlib.lines.Line2D at 0x7f0d814e51d0>,\n",
       " <matplotlib.lines.Line2D at 0x7f0d814e59d0>,\n",
       " <matplotlib.lines.Line2D at 0x7f0d814e5290>,\n",
       " <matplotlib.lines.Line2D at 0x7f0d814e5d10>,\n",
       " <matplotlib.lines.Line2D at 0x7f0d814e5a50>,\n",
       " <matplotlib.lines.Line2D at 0x7f0d814e5a10>,\n",
       " <matplotlib.lines.Line2D at 0x7f0d814e5590>,\n",
       " <matplotlib.lines.Line2D at 0x7f0d84f9ff90>,\n",
       " <matplotlib.lines.Line2D at 0x7f0d84f9f950>,\n",
       " <matplotlib.lines.Line2D at 0x7f0d84f9f2d0>,\n",
       " <matplotlib.lines.Line2D at 0x7f0d84f9f550>,\n",
       " <matplotlib.lines.Line2D at 0x7f0d84f9fcd0>,\n",
       " <matplotlib.lines.Line2D at 0x7f0d84f9f250>,\n",
       " <matplotlib.lines.Line2D at 0x7f0d85b4f2d0>,\n",
       " <matplotlib.lines.Line2D at 0x7f0d816211d0>,\n",
       " <matplotlib.lines.Line2D at 0x7f0d85682750>,\n",
       " <matplotlib.lines.Line2D at 0x7f0d85682090>,\n",
       " <matplotlib.lines.Line2D at 0x7f0d85682990>,\n",
       " <matplotlib.lines.Line2D at 0x7f0d81628790>,\n",
       " <matplotlib.lines.Line2D at 0x7f0d816289d0>,\n",
       " <matplotlib.lines.Line2D at 0x7f0d81628a90>,\n",
       " <matplotlib.lines.Line2D at 0x7f0d81628dd0>,\n",
       " <matplotlib.lines.Line2D at 0x7f0d81628ed0>,\n",
       " <matplotlib.lines.Line2D at 0x7f0d81628d90>,\n",
       " <matplotlib.lines.Line2D at 0x7f0d816280d0>,\n",
       " <matplotlib.lines.Line2D at 0x7f0d816285d0>,\n",
       " <matplotlib.lines.Line2D at 0x7f0d816286d0>,\n",
       " <matplotlib.lines.Line2D at 0x7f0d8142e9d0>,\n",
       " <matplotlib.lines.Line2D at 0x7f0d8142e1d0>,\n",
       " <matplotlib.lines.Line2D at 0x7f0d8142e310>,\n",
       " <matplotlib.lines.Line2D at 0x7f0d8142ecd0>,\n",
       " <matplotlib.lines.Line2D at 0x7f0d8142e250>,\n",
       " <matplotlib.lines.Line2D at 0x7f0d81504650>,\n",
       " <matplotlib.lines.Line2D at 0x7f0d81504d90>,\n",
       " <matplotlib.lines.Line2D at 0x7f0d81504610>,\n",
       " <matplotlib.lines.Line2D at 0x7f0d852a9950>,\n",
       " <matplotlib.lines.Line2D at 0x7f0d852a9190>,\n",
       " <matplotlib.lines.Line2D at 0x7f0d852a9750>,\n",
       " <matplotlib.lines.Line2D at 0x7f0d816ea410>,\n",
       " <matplotlib.lines.Line2D at 0x7f0d816ea310>,\n",
       " <matplotlib.lines.Line2D at 0x7f0d816eae90>,\n",
       " <matplotlib.lines.Line2D at 0x7f0d816ea910>,\n",
       " <matplotlib.lines.Line2D at 0x7f0d816ea810>,\n",
       " <matplotlib.lines.Line2D at 0x7f0d816ea150>,\n",
       " <matplotlib.lines.Line2D at 0x7f0d84b9c6d0>,\n",
       " <matplotlib.lines.Line2D at 0x7f0d84b9c910>,\n",
       " <matplotlib.lines.Line2D at 0x7f0d84b9c4d0>,\n",
       " <matplotlib.lines.Line2D at 0x7f0d827b81d0>,\n",
       " <matplotlib.lines.Line2D at 0x7f0d827b8490>,\n",
       " <matplotlib.lines.Line2D at 0x7f0d827b8810>,\n",
       " <matplotlib.lines.Line2D at 0x7f0d827b82d0>,\n",
       " <matplotlib.lines.Line2D at 0x7f0d8527c990>,\n",
       " <matplotlib.lines.Line2D at 0x7f0d8527c410>,\n",
       " <matplotlib.lines.Line2D at 0x7f0d8527c290>,\n",
       " <matplotlib.lines.Line2D at 0x7f0d8527cc10>,\n",
       " <matplotlib.lines.Line2D at 0x7f0d851072d0>,\n",
       " <matplotlib.lines.Line2D at 0x7f0d85107e10>,\n",
       " <matplotlib.lines.Line2D at 0x7f0d85107050>,\n",
       " <matplotlib.lines.Line2D at 0x7f0d85107b90>,\n",
       " <matplotlib.lines.Line2D at 0x7f0d85107450>,\n",
       " <matplotlib.lines.Line2D at 0x7f0d85107690>,\n",
       " <matplotlib.lines.Line2D at 0x7f0d85107a50>,\n",
       " <matplotlib.lines.Line2D at 0x7f0d851075d0>,\n",
       " <matplotlib.lines.Line2D at 0x7f0d85285a50>,\n",
       " <matplotlib.lines.Line2D at 0x7f0d85285550>,\n",
       " <matplotlib.lines.Line2D at 0x7f0d85285310>,\n",
       " <matplotlib.lines.Line2D at 0x7f0d85285490>,\n",
       " <matplotlib.lines.Line2D at 0x7f0d85285210>,\n",
       " <matplotlib.lines.Line2D at 0x7f0d85285110>,\n",
       " <matplotlib.lines.Line2D at 0x7f0d85285bd0>,\n",
       " <matplotlib.lines.Line2D at 0x7f0d85676050>,\n",
       " <matplotlib.lines.Line2D at 0x7f0d85676c10>,\n",
       " <matplotlib.lines.Line2D at 0x7f0d85676410>,\n",
       " <matplotlib.lines.Line2D at 0x7f0d85676210>,\n",
       " <matplotlib.lines.Line2D at 0x7f0d85676290>]"
      ]
     },
     "metadata": {},
     "execution_count": 52
    },
    {
     "output_type": "display_data",
     "data": {
      "text/plain": [
       "<Figure size 432x288 with 1 Axes>"
      ],
      "image/png": "[encoded data removed]"
     },
     "metadata": {
      "needs_background": "light"
     }
    }
   ],
   "source": [
    "import matplotlib.pyplot as plt\n",
    "\n",
    "fig, ax = plt.subplots(figsize=(6,4))\n",
    "ax.xlim=()\n",
    "ax.ylim=()\n",
    "\n",
    "ax.plot(np.linspace(1, N_episodes, num=N_episodes), R_save)\n"
   ]
  },
  {
   "cell_type": "code",
   "execution_count": 55,
   "id": "880d3ce8",
   "metadata": {
    "colab": {
     "base_uri": "https://localhost:8080/"
    },
    "id": "880d3ce8",
    "outputId": "44ef90bc-b2ff-46e5-8e81-b0c850a65246"
   },
   "outputs": [
    {
     "output_type": "execute_result",
     "data": {
      "text/plain": [
       "9.1294"
      ]
     },
     "metadata": {},
     "execution_count": 55
    }
   ],
   "source": [
    "np.average(N_moves_save)"
   ]
  },
  {
   "cell_type": "code",
   "execution_count": 56,
   "id": "427425ff",
   "metadata": {
    "colab": {
     "base_uri": "https://localhost:8080/",
     "height": 282
    },
    "id": "427425ff",
    "outputId": "2eb0e3f4-0fdd-42a3-d32e-d2037b86bca5"
   },
   "outputs": [
    {
     "output_type": "execute_result",
     "data": {
      "text/plain": [
       "[<matplotlib.lines.Line2D at 0x7f0d8427a210>]"
      ]
     },
     "metadata": {},
     "execution_count": 56
    },
    {
     "output_type": "display_data",
     "data": {
      "text/plain": [
       "<Figure size 432x288 with 1 Axes>"
      ],
      "image/png": "[encoded data removed]"
     },
     "metadata": {
      "needs_background": "light"
     }
    }
   ],
   "source": [
    "fig, ax = plt.subplots(figsize=(6,4))\n",
    "ax.xlim=()\n",
    "ax.ylim=()\n",
    "\n",
    "ax.plot(np.linspace(1, N_episodes, num=N_episodes), N_moves_save)"
   ]
  },
  {
   "cell_type": "code",
   "source": [
    ""
   ],
   "metadata": {
    "id": "p01bMjfpxSC_"
   },
   "id": "p01bMjfpxSC_",
   "execution_count": null,
   "outputs": []
  }
 ],
 "metadata": {
  "accelerator": "GPU",
  "colab": {
   "name": "Assignment.ipynb",
   "provenance": [],
   "collapsed_sections": []
  },
  "kernelspec": {
   "display_name": "Python 3",
   "language": "python",
   "name": "python3"
  },
  "language_info": {
   "codemirror_mode": {
    "name": "ipython",
    "version": 3
   },
   "file_extension": ".py",
   "mimetype": "text/x-python",
   "name": "python",
   "nbconvert_exporter": "python",
   "pygments_lexer": "ipython3",
   "version": "3.8.8"
  }
 },
 "nbformat": 4,
 "nbformat_minor": 5
}