{
  "cells": [
    {
      "cell_type": "markdown",
      "id": "02944396",
      "metadata": {
        "id": "02944396"
      },
      "source": [
        "# Assignment"
      ]
    },
    {
      "cell_type": "code",
      "execution_count": 5,
      "id": "c9652bc6",
      "metadata": {
        "id": "c9652bc6"
      },
      "outputs": [],
      "source": [
        "# Import \n",
        "\n",
        "import numpy as np\n",
        "import matplotlib.pyplot as plt\n",
        "from degree_freedom_queen import *\n",
        "from degree_freedom_king1 import *\n",
        "from degree_freedom_king2 import *\n",
        "from generate_game import *\n",
        "from Chess_env import *\n",
        "import pandas as pd\n",
        "import tensorflow as tf\n",
        "from tensorflow import keras\n",
        "from collections import deque\n",
        "import random\n",
        "\n",
        "\n",
        "size_board = 4"
      ]
    },
    {
      "cell_type": "markdown",
      "id": "0bceca7c",
      "metadata": {
        "id": "0bceca7c"
      },
      "source": [
        "## The Environment\n",
        "\n",
        "You can find the environment in the file Chess_env, which contains the class Chess_env. To define an object, you need to provide the board size considered as input. In our example, size_board=4. \n",
        "Chess_env is composed by the following methods:\n",
        "\n",
        "1. Initialise_game. The method initialises an episode by placing the three pieces considered (Agent's king and queen, enemy's king) in the chess board. The outputs of the method are described below in order.\n",
        "\n",
        "     S $\\;$ A matrix representing the board locations filled with 4 numbers: 0, no piece in that position; 1, location of the \n",
        "     agent's king; 2 location of the queen; 3 location of the enemy king.\n",
        "     \n",
        "     X $\\;$ The features, that is the input to the neural network. See the assignment for more information regarding the            definition of the features adopted. To personalise this, go into the Features method of the class Chess_env() and change        accordingly.\n",
        "     \n",
        "     allowed_a $\\;$ The allowed actions that the agent can make. The agent is moving a king, with a total number of 8                possible actions, and a queen, with a total number of $(board_{size}-1)\\times 8$ actions. The total number of possible actions correspond      to the sum of the two, but not all actions are allowed in a given position (movements to locations outside the borders or      against chess rules). Thus, the variable allowed_a is a vector that is one (zero) for an action that the agent can (can't)      make. Be careful, apply the policy considered on the actions that are allowed only.\n",
        "     \n",
        "\n",
        "2. OneStep. The method performs a one step update of the system. Given as input the action selected by the agent, it updates the chess board by performing that action and the response of the enemy king (which is a random allowed action in the settings considered). The first three outputs are the same as for the Initialise_game method, but the variables are computed for the position reached after the update of the system. The fourth and fifth outputs are:\n",
        "\n",
        "     R $\\;$ The reward. To change this, look at the OneStep method of the class where the rewards are set.\n",
        "     \n",
        "     Done $\\;$ A variable that is 1 if the episode has ended (checkmate or draw).\n",
        "     \n",
        "     \n",
        "3. Features. Given the chessboard position, the method computes the features.\n",
        "\n",
        "This information and a quick analysis of the class should be all you need to get going. The other functions that the class exploits are uncommented and constitute an example on how not to write a python code. You can take a look at them if you want, but it is not necessary.\n",
        "\n",
        "\n",
        "\n",
        "\n"
      ]
    },
    {
      "cell_type": "code",
      "execution_count": 6,
      "id": "9593a299",
      "metadata": {
        "id": "9593a299"
      },
      "outputs": [],
      "source": [
        "## INITIALISE THE ENVIRONMENT\n",
        "\n",
        "env=Chess_Env(size_board)"
      ]
    },
    {
      "cell_type": "code",
      "execution_count": 7,
      "id": "bbc05bfd",
      "metadata": {
        "colab": {
          "base_uri": "https://localhost:8080/"
        },
        "id": "bbc05bfd",
        "outputId": "f08305ba-9cbc-4aa5-c2d4-026362364bc9"
      },
      "outputs": [
        {
          "output_type": "stream",
          "name": "stdout",
          "text": [
            "[[0 0 0 0]\n",
            " [3 0 0 0]\n",
            " [0 0 2 0]\n",
            " [0 0 0 1]]\n",
            "check?  0\n",
            "dofk2  1\n",
            "\n",
            "[[0 0 0 0]\n",
            " [0 0 0 2]\n",
            " [0 3 0 0]\n",
            " [0 0 0 1]]\n",
            "0  0\n",
            "check?  0\n",
            "dofk2  2\n",
            "\n",
            "[[0 0 0 0]\n",
            " [0 0 0 2]\n",
            " [3 0 0 1]\n",
            " [0 0 0 0]]\n",
            "0  0\n",
            "check?  0\n",
            "dofk2  2\n",
            "\n",
            "[[0 0 0 0]\n",
            " [0 0 2 0]\n",
            " [0 0 0 1]\n",
            " [0 3 0 0]]\n",
            "0  0\n",
            "check?  0\n",
            "dofk2  1\n",
            "\n",
            "[[0 0 0 0]\n",
            " [2 0 0 0]\n",
            " [0 0 0 1]\n",
            " [0 3 0 0]]\n",
            "0.0  1\n",
            "check?  0\n",
            "dofk2  0\n"
          ]
        }
      ],
      "source": [
        "## PRINT 5 STEPS OF AN EPISODE CONSIDERING A RANDOM AGENT\n",
        "\n",
        "S,X,allowed_a=env.Initialise_game()                       # INTIALISE GAME\n",
        "\n",
        "print(S)                                                  # PRINT CHESS BOARD (SEE THE DESCRIPTION ABOVE)\n",
        "\n",
        "print('check? ',env.check)                                # PRINT VARIABLE THAT TELLS IF ENEMY KING IS IN CHECK (1) OR NOT (0)\n",
        "print('dofk2 ',np.sum(env.dfk2_constrain).astype(int))    # PRINT THE NUMBER OF LOCATIONS THAT THE ENEMY KING CAN MOVE TO\n",
        "\n",
        "\n",
        "for i in range(5):\n",
        "    \n",
        "    a,_=np.where(allowed_a==1)                  # FIND WHAT THE ALLOWED ACTIONS ARE\n",
        "    a_agent=np.random.permutation(a)[0]         # MAKE A RANDOM ACTION\n",
        "\n",
        "    S,X,allowed_a,R,Done=env.OneStep(a_agent)   # UPDATE THE ENVIRONMENT\n",
        "\n",
        "    ## PRINT CHESS BOARD AND VARIABLES\n",
        "    print('')\n",
        "    print(S)\n",
        "    print(R,'', Done)\n",
        "    print('check? ',env.check)\n",
        "    print('dofk2 ',np.sum(env.dfk2_constrain).astype(int))\n",
        "    \n",
        "    \n",
        "    # TERMINATE THE EPISODE IF Done=True (DRAW OR CHECKMATE)\n",
        "    if Done:\n",
        "        break\n",
        "        \n"
      ]
    },
    {
      "cell_type": "code",
      "execution_count": 8,
      "id": "fc16cf7b",
      "metadata": {
        "colab": {
          "base_uri": "https://localhost:8080/"
        },
        "id": "fc16cf7b",
        "outputId": "950656d5-46a4-4d9c-ec87-7e4ac6a69c03"
      },
      "outputs": [
        {
          "output_type": "stream",
          "name": "stdout",
          "text": [
            "Random_Agent, Average reward: 0.196 Number of steps:  7.338\n"
          ]
        }
      ],
      "source": [
        "# PERFORM N_episodes=1000 EPISODES MAKING RANDOM ACTIONS AND COMPUTE THE AVERAGE REWARD AND NUMBER OF MOVES \n",
        "\n",
        "S,X,allowed_a=env.Initialise_game()\n",
        "N_episodes=1000\n",
        "\n",
        "# VARIABLES WHERE TO SAVE THE FINAL REWARD IN AN EPISODE AND THE NUMBER OF MOVES \n",
        "R_save_random = np.zeros([N_episodes, 1])\n",
        "N_moves_save_random = np.zeros([N_episodes, 1])\n",
        "\n",
        "for n in range(N_episodes):\n",
        "    \n",
        "    S,X,allowed_a=env.Initialise_game()     # INITIALISE GAME\n",
        "    Done=0                                  # SET Done=0 AT THE BEGINNING\n",
        "    i=1                                     # COUNTER FOR THE NUMBER OF ACTIONS (MOVES) IN AN EPISODE\n",
        "    \n",
        "    # UNTIL THE EPISODE IS NOT OVER...(Done=0)\n",
        "    while Done==0:\n",
        "        \n",
        "        # SAME AS THE CELL BEFORE, BUT SAVING THE RESULTS WHEN THE EPISODE TERMINATES \n",
        "        \n",
        "        a_base,_=np.where(allowed_a==1)\n",
        "        \n",
        "        a_agent_base=np.random.permutation(a_base)[0]\n",
        "\n",
        "        S,X,allowed_a,R,Done=env.OneStep(a_agent_base)\n",
        "                \n",
        "        if Done:\n",
        "            \n",
        "            R_save_random[n]=np.copy(R)\n",
        "            N_moves_save_random[n]=np.copy(i)\n",
        "\n",
        "            break\n",
        "\n",
        "        i=i+1                               # UPDATE THE COUNTER\n",
        "\n",
        "\n",
        "\n",
        "# AS YOU SEE, THE PERFORMANCE OF A RANDOM AGENT ARE NOT GREAT, SINCE THE MAJORITY OF THE POSITIONS END WITH A DRAW \n",
        "# (THE ENEMY KING IS NOT IN CHECK AND CAN'T MOVE)\n",
        "\n",
        "print('Random_Agent, Average reward:',np.mean(R_save_random),'Number of steps: ',np.mean(N_moves_save_random))\n",
        "\n"
      ]
    },
    {
      "cell_type": "markdown",
      "source": [
        "## Agent"
      ],
      "metadata": {
        "id": "poBSG0WWLYY7"
      },
      "id": "poBSG0WWLYY7"
    },
    {
      "cell_type": "code",
      "source": [
        "class GeneralAgent:\n",
        "\n",
        "    def build_model(self):\n",
        "        model = keras.Sequential()\n",
        "        model.add(keras.layers.Dense(200, input_shape=(np.shape(X)), activation='relu'))\n",
        "        model.add(keras.layers.Dense(32, activation='linear'))\n",
        "        model.compile(loss=\"mse\", optimizer=tf.keras.optimizers.Adam(learning_rate=0.001), metrics=['accuracy'])\n",
        "        return model\n",
        "\n",
        "    \n",
        "    def epsilon_greedy(self, X, allowed_a, epsilon):\n",
        "        allowed_ind,_=np.where(allowed_a==1)\n",
        "\n",
        "        rand_value=np.random.uniform(0,1)\n",
        "\n",
        "        if rand_value < epsilon:\n",
        "            a = np.random.choice(allowed_ind)\n",
        "        else:\n",
        "            X_reshape = np.reshape(X, (1, self.N_in))\n",
        "            predicted = self.model.predict(X_reshape)\n",
        "            predicted_allowed = np.take(predicted, allowed_ind)\n",
        "            a_p = np.argmax(predicted_allowed)\n",
        "            a = allowed_ind[a_p]\n",
        "\n",
        "        return a\n",
        "\n",
        "    \n",
        "    def load(self, name):\n",
        "        self.model.load_weights(name)\n",
        "    \n",
        "    def save(self, name):\n",
        "        self.model.save_weights(name)\n",
        "        "
      ],
      "metadata": {
        "id": "VoHukTXELbJl"
      },
      "id": "VoHukTXELbJl",
      "execution_count": 63,
      "outputs": []
    },
    {
      "cell_type": "markdown",
      "id": "UCCobONHL6pk",
      "metadata": {
        "id": "UCCobONHL6pk"
      },
      "source": [
        "## Task 3: SARSA"
      ]
    },
    {
      "cell_type": "markdown",
      "source": [
        "**Agent for SARSA**"
      ],
      "metadata": {
        "id": "x0HMio4VquNb"
      },
      "id": "x0HMio4VquNb"
    },
    {
      "cell_type": "code",
      "source": [
        "class SarsaAgent(GeneralAgent):\n",
        "    def __init__(self, N_a, N_in):\n",
        "        # SAVING VARIABLES\n",
        "        # initialize parameters\n",
        "        self.N_a = N_a\n",
        "        self.N_in = N_in\n",
        "\n",
        "        self.epsilon = 0.2     # STARTING VALUE OF EPSILON FOR THE EPSILON-GREEDY POLICY\n",
        "        self.epsilon_min = 0.01\n",
        "        self.beta = 0.00005      # THE PARAMETER SETS HOW QUICKLY THE VALUE OF EPSILON IS DECAYING (SEE epsilon_f BELOW)\n",
        "        self.gamma = 0.85        # THE DISCOUNT FACTOR\n",
        "        self.eta = 0.0035        # THE LEARNING RATE\n",
        "\n",
        "        self.R_save = np.zeros([N_episodes])\n",
        "        self.N_moves_save = np.zeros([N_episodes])\n",
        "\n",
        "        self.model = self.build_model()\n",
        "\n",
        "    def train_model(self, X, a, R, X_next, a_next, Done):        \n",
        "        target = R\n",
        "        X_reshape = np.reshape(X, (1, N_in))\n",
        "        target_f = self.model.predict(X_reshape)\n",
        "\n",
        "        if Done == 0:\n",
        "            target = (R + self.gamma * self.model.predict(np.array([X_next]))[0])[a_next]\n",
        "\n",
        "        target_f[0][a] = target\n",
        "        self.model.fit(X_reshape, target_f, epochs=1, verbose=0)\n"
      ],
      "metadata": {
        "id": "hnXppL4OqS2E"
      },
      "id": "hnXppL4OqS2E",
      "execution_count": 64,
      "outputs": []
    },
    {
      "cell_type": "markdown",
      "id": "GrROZg5EMQLI",
      "metadata": {
        "id": "GrROZg5EMQLI"
      },
      "source": [
        "**SARSA algorithm**"
      ]
    },
    {
      "cell_type": "code",
      "execution_count": null,
      "id": "e6ba1f84",
      "metadata": {
        "id": "e6ba1f84"
      },
      "outputs": [],
      "source": [
        "# SARSA\n",
        "\n",
        "S,X,allowed_a=env.Initialise_game()\n",
        "\n",
        "N_a=np.shape(allowed_a)[0]   # TOTAL NUMBER OF POSSIBLE ACTIONS\n",
        "N_in = np.shape(X)[0]\n",
        "N_episodes = 5000\n",
        "sarsa_agent = SarsaAgent(N_a, N_in)\n",
        "max_T = 200\n",
        "\n",
        "for n in range(N_episodes):\n",
        "    epsilon = sarsa_agent.epsilon / (1 + sarsa_agent.beta * n)\n",
        "    Done = 0                                   ## SET DONE TO ZERO (BEGINNING OF THE EPISODE)\n",
        "    \n",
        "    S, X, allowed_a = env.Initialise_game()      ## INITIALISE GAME\n",
        "\n",
        "    a = sarsa_agent.epsilon_greedy(X, allowed_a, epsilon)   #make an action\n",
        "\n",
        "    time = 1\n",
        "    \n",
        "    while Done == 0:\n",
        "        # take action a\n",
        "        S_next, X_next, allowed_a_next, R, Done = env.OneStep(a)  \n",
        "        if time == max_T:\n",
        "            Done = 1    \n",
        "        if Done == 0:\n",
        "            a_next = sarsa_agent.epsilon_greedy(X_next, allowed_a_next, epsilon) #make an action\n",
        "        sarsa_agent.train_model(X, a, R, X_next, a_next, Done)\n",
        "\n",
        "        ## THE EPISODE HAS ENDED, UPDATE...BE CAREFUL, THIS IS THE LAST STEP OF THE EPISODE\n",
        "        if Done == 1:\n",
        "            sarsa_agent.R_save[n] = np.copy(R)\n",
        "            sarsa_agent.N_moves_save[n] = np.copy(time)\n",
        "            print(\"episode: {}/{}, moves average: {}, reward average: {}\"\n",
        "                  .format(n, N_episodes,  sarsa_agent.N_moves_save[n-100:n].mean() if n > 100 else 0, \n",
        "                          sarsa_agent.R_save[n-100:n].mean() if n > 100 else 0))\n",
        "            break\n",
        "        \n",
        "        \n",
        "        X = X_next\n",
        "        allowed_a = allowed_a_next\n",
        "        a = a_next\n",
        "        time += 1\n",
        "        # if n % 100:\n",
        "        #    agent.save(\"sarsachess\")"
      ]
    },
    {
      "cell_type": "markdown",
      "id": "V-ke9H36LlWd",
      "metadata": {
        "id": "V-ke9H36LlWd"
      },
      "source": [
        "## Task 5: Deep Q-Learning "
      ]
    },
    {
      "cell_type": "markdown",
      "source": [
        "**Deep Q-Learning Agent**"
      ],
      "metadata": {
        "id": "b1V85R_AvJVI"
      },
      "id": "b1V85R_AvJVI"
    },
    {
      "cell_type": "code",
      "source": [
        "class DQNAgent(GeneralAgent):\n",
        "    def __init__(self, N_a, N_in):\n",
        "        # SAVING VARIABLES\n",
        "        # initialize parameters\n",
        "        self.N_a = N_a\n",
        "        self.N_in = N_in\n",
        "\n",
        "        self.epsilon = 0.2     # STARTING VALUE OF EPSILON FOR THE EPSILON-GREEDY POLICY\n",
        "        self.epsilon_min = 0.01\n",
        "        self.beta = 0.00005      # THE PARAMETER SETS HOW QUICKLY THE VALUE OF EPSILON IS DECAYING (SEE epsilon_f BELOW)\n",
        "        self.gamma = 0.85        # THE DISCOUNT FACTOR\n",
        "        self.eta = 0.0035        # THE LEARNING RATE\n",
        "\n",
        "        self.R_save = np.zeros([N_episodes])\n",
        "        self.N_moves_save = np.zeros([N_episodes])\n",
        "\n",
        "        self.model = self.build_model()\n",
        "\n",
        "        self.memory = deque(maxlen=2000)\n",
        "        self.batch_size = 32\n",
        "\n",
        "    def train_model(self):\n",
        "        target = R\n",
        "        if Done == 0:\n",
        "            target = (R + self.gamma *\n",
        "                        np.amax(self.model.predict(np.array([X_next]))[0]))\n",
        "        X_reshape = np.reshape(X, (1, N_in))\n",
        "        target_f = self.model.predict(X_reshape)\n",
        "        target_f[0][a] = target\n",
        "        self.model.fit(X_reshape, target_f, epochs=1, verbose=0)\n",
        "\n",
        "    def replay(self): \n",
        "        minibatch = random.sample(self.memory, self.batch_size)\n",
        "        for X, a, R, X_next, Done in minibatch:\n",
        "            self.train_model()\n",
        "\n",
        "    def memorize(self, state, action, reward, next_state, done):\n",
        "        self.memory.append((state, action, reward, next_state, done))\n"
      ],
      "metadata": {
        "id": "6vEItTnXvQw9"
      },
      "id": "6vEItTnXvQw9",
      "execution_count": 67,
      "outputs": []
    },
    {
      "cell_type": "markdown",
      "id": "yMk2YlCkMr6W",
      "metadata": {
        "id": "yMk2YlCkMr6W"
      },
      "source": [
        "**Training Q-Learning algorithm with Experience Replay**"
      ]
    },
    {
      "cell_type": "code",
      "execution_count": null,
      "id": "Tda1-6DYLLuQ",
      "metadata": {
        "id": "Tda1-6DYLLuQ"
      },
      "outputs": [],
      "source": [
        "# Q_Learning\n",
        "\n",
        "S,X,allowed_a=env.Initialise_game()\n",
        "\n",
        "N_a=np.shape(allowed_a)[0]   # TOTAL NUMBER OF POSSIBLE ACTIONS\n",
        "N_in=np.shape(X)[0]    ## INPUT SIZE\n",
        "N_episodes = 5000\n",
        "q_agent = DQNAgent(N_a, N_in)\n",
        "\n",
        "n_steps = 0\n",
        "max_T = 200\n",
        "\n",
        "for e in range(N_episodes):\n",
        "    epsilon = q_agent.epsilon / (1 + q_agent.beta * e)\n",
        "    Done = 0\n",
        "    S, X, allowed_a = env.Initialise_game() # select state X randomly\n",
        "    time = 1\n",
        "\n",
        "    while Done == 0:\n",
        "        a = q_agent.epsilon_greedy(X, allowed_a, epsilon) #choose a from X \n",
        "        S_next, X_next, allowed_a_next, R, Done = env.OneStep(a) # take action\n",
        "        q_agent.memorize(X, a, R, X_next, Done) # append results to memory\n",
        "\n",
        "        if time == max_T:\n",
        "            Done = 1\n",
        "\n",
        "        if len(q_agent.memory) > q_agent.batch_size and n_steps%100 == 0:\n",
        "            q_agent.train_model()\n",
        "\n",
        "        if Done == 1:\n",
        "            q_agent.R_save[e] = np.copy(R)\n",
        "            q_agent.N_moves_save[e] = np.copy(time)\n",
        "            print(\"episode: {}/{}, moves average: {}, reward average: {}\"\n",
        "                  .format(e, N_episodes,  q_agent.N_moves_save[e-100:e].mean() if e > 100 else 0, \n",
        "                          q_agent.R_save[e-100:e].mean() if e > 100 else 0))\n",
        "            break\n",
        "\n",
        "        X = X_next\n",
        "        allowed_a = allowed_a_next\n",
        "        time += 1\n",
        "        n_steps += 1\n",
        "\n",
        "\n",
        "    #if e % 10 == 0:\n",
        "        #qagent.save(\"testchess.h5\")"
      ]
    },
    {
      "cell_type": "markdown",
      "source": [
        "**Training Q-Learning algorithm without Experience Replay**"
      ],
      "metadata": {
        "id": "iWVa9Vj9WdvI"
      },
      "id": "iWVa9Vj9WdvI"
    },
    {
      "cell_type": "code",
      "source": [
        "# Q_Learning without replay\n",
        "\n",
        "S,X,allowed_a=env.Initialise_game()\n",
        "\n",
        "N_a=np.shape(allowed_a)[0]   # TOTAL NUMBER OF POSSIBLE ACTIONS\n",
        "N_in=np.shape(X)[0]    ## INPUT SIZE\n",
        "N_episodes = 5000\n",
        "qlearning_agent = DQNAgent(N_a, N_in)\n",
        "\n",
        "n_steps = 0\n",
        "max_T = 200\n",
        "\n",
        "for e in range(N_episodes):\n",
        "    epsilon = qlearning_agent.epsilon / (1 + qlearning_agent.beta * e)\n",
        "    Done = 0\n",
        "    S, X, allowed_a = env.Initialise_game() # select state X randomly\n",
        "    time = 1\n",
        "\n",
        "    while Done == 0:\n",
        "        a = qlearning_agent.epsilon_greedy(X, allowed_a, epsilon) #choose a from X \n",
        "        S_next, X_next, allowed_a_next, R, Done = env.OneStep(a) # take action\n",
        "\n",
        "        if time == max_T:\n",
        "            Done = 1\n",
        "\n",
        "        qlearning_agent.train_model()\n",
        "\n",
        "        if Done == 1:\n",
        "            qlearning_agent.R_save[e] = np.copy(R)\n",
        "            qlearning_agent.N_moves_save[e] = np.copy(time)\n",
        "            print(\"episode: {}/{}, moves average: {}, reward average: {}\"\n",
        "                  .format(e, N_episodes,  qlearning_agent.N_moves_save[e-100:e].mean() if e > 100 else 0, \n",
        "                          qlearning_agent.R_save[e-100:e].mean() if e > 100 else 0))\n",
        "            break\n",
        "\n",
        "        X = X_next\n",
        "        allowed_a = allowed_a_next\n",
        "        time += 1\n",
        "        n_steps += 1\n",
        "\n",
        "\n",
        "    #if e % 10 == 0:\n",
        "        #qagent.save(\"testchess.h5\")"
      ],
      "metadata": {
        "id": "gg39gL9wQcQ7"
      },
      "id": "gg39gL9wQcQ7",
      "execution_count": null,
      "outputs": []
    },
    {
      "cell_type": "markdown",
      "id": "iDQyBs2owUCt",
      "metadata": {
        "id": "iDQyBs2owUCt"
      },
      "source": [
        "## Plots"
      ]
    },
    {
      "cell_type": "code",
      "execution_count": 78,
      "id": "9gNPSRDUAUpy",
      "metadata": {
        "id": "9gNPSRDUAUpy"
      },
      "outputs": [],
      "source": [
        "# create a dataframe\n",
        "df_n_moves_qlearning = pd.DataFrame({'moves': qlearning_agent.N_moves_save})\n",
        "df_n_moves_sarsa = pd.DataFrame({'moves': sarsa_agent.N_moves_save})\n",
        "df_n_moves_qlearning_replay = pd.DataFrame({'moves': q_agent.N_moves_save})\n",
        "\n",
        "df_reward_qlearning = pd.DataFrame({'rewards': qlearning_agent.R_save})\n",
        "df_reward_sarsa = pd.DataFrame({'rewards': sarsa_agent.R_save})\n",
        "df_reward_qlearning_replay = pd.DataFrame({'rewards': q_agent.R_save})\n",
        " \n",
        "# finding EMA\n",
        "ema_n_moves_qlearning = df_n_moves_qlearning.ewm(com=5000).mean()\n",
        "ema_n_moves_sarsa = df_n_moves_sarsa.ewm(com=5000).mean() \n",
        "ema_n_moves_qlearning_replay = df_n_moves_qlearning_replay.ewm(com=5000).mean()\n",
        "\n",
        "ema_reward_qlearning = df_reward_qlearning.ewm(com=1000).mean()\n",
        "ema_reward_sarsa = df_reward_sarsa.ewm(com=5000).mean()\n",
        "ema_reward_qlearning_replay = df_reward_qlearning_replay.ewm(com=1000).mean()\n",
        "\n",
        "# plotting color\n",
        "sarsa_color = \"blue\"\n",
        "qlearning_color = \"green\"\n",
        "qlearning_replay_color = \"lightgreen\""
      ]
    },
    {
      "cell_type": "markdown",
      "id": "kVdmps6WAXQv",
      "metadata": {
        "id": "kVdmps6WAXQv"
      },
      "source": [
        "### Number of Moves per Game vs Training Time\n",
        "**Q Learning**"
      ]
    },
    {
      "cell_type": "code",
      "execution_count": 59,
      "id": "p01bMjfpxSC_",
      "metadata": {
        "colab": {
          "base_uri": "https://localhost:8080/",
          "height": 295
        },
        "id": "p01bMjfpxSC_",
        "outputId": "eb85e085-bf82-4709-f6cb-8775d4af610a"
      },
      "outputs": [
        {
          "output_type": "display_data",
          "data": {
            "text/plain": [
              "<Figure size 432x288 with 1 Axes>"
            ],
            "image/png": "[encoded data removed]"
          },
          "metadata": {
            "needs_background": "light"
          }
        }
      ],
      "source": [
        "plt.plot(ema_n_moves_qlearning[:1500], label=\"Q-Learning\", color=qlearning_color)\n",
        "plt.xlabel(\"Episodes\")\n",
        "plt.ylabel(\"Moves\")\n",
        "plt.title(\"Number of Moves per Game\")\n",
        "plt.legend()\n",
        "plt.savefig(\"moves_qlearning.pdf\")\n",
        "plt.show()"
      ]
    },
    {
      "cell_type": "markdown",
      "id": "SrDHdY5O4WPB",
      "metadata": {
        "id": "SrDHdY5O4WPB"
      },
      "source": [
        "**SARSA**"
      ]
    },
    {
      "cell_type": "code",
      "execution_count": 24,
      "id": "r7r8TyzY0u5z",
      "metadata": {
        "colab": {
          "base_uri": "https://localhost:8080/",
          "height": 295
        },
        "id": "r7r8TyzY0u5z",
        "outputId": "c187bbb3-e59c-425d-90b0-39b5c736c6af"
      },
      "outputs": [
        {
          "output_type": "display_data",
          "data": {
            "text/plain": [
              "<Figure size 432x288 with 1 Axes>"
            ],
            "image/png": "[encoded data removed]"
          },
          "metadata": {
            "needs_background": "light"
          }
        }
      ],
      "source": [
        "plt.plot(ema_n_moves_sarsa[:1000], label=\"SARSA\", color=sarsa_color)\n",
        "plt.xlabel(\"Episodes\")\n",
        "plt.ylabel(\"Moves\")\n",
        "plt.title(\"Number of Moves per Game\")\n",
        "plt.legend()\n",
        "plt.savefig(\"moves_sarsa.pdf\")\n",
        "plt.show()"
      ]
    },
    {
      "cell_type": "markdown",
      "id": "W7B2Mu2a-5RS",
      "metadata": {
        "id": "W7B2Mu2a-5RS"
      },
      "source": [
        "**Comparison**"
      ]
    },
    {
      "cell_type": "code",
      "execution_count": 75,
      "id": "kfMUMIBV-3y5",
      "metadata": {
        "colab": {
          "base_uri": "https://localhost:8080/",
          "height": 295
        },
        "id": "kfMUMIBV-3y5",
        "outputId": "39daf7c6-2fc7-4526-89f6-31dfb99cc356"
      },
      "outputs": [
        {
          "output_type": "display_data",
          "data": {
            "text/plain": [
              "<Figure size 432x288 with 1 Axes>"
            ],
            "image/png": "[encoded data removed]"
          },
          "metadata": {
            "needs_background": "light"
          }
        }
      ],
      "source": [
        "plt.plot(ema_n_moves_sarsa, label=\"SARSA\", color=sarsa_color)\n",
        "plt.plot(ema_n_moves_qlearning, label=\"Q-Learning\", color=qlearning_color)\n",
        "plt.plot(ema_n_moves_qlearning_replay, label=\"Q-Learning with Experience Replay\", color=qlearning_replay_color)\n",
        "plt.xlabel(\"Episodes\")\n",
        "plt.ylabel(\"Moves (EMA)\")\n",
        "plt.title(\"Comparison: Number of Moves per Game\")\n",
        "plt.legend()\n",
        "plt.savefig(\"moves_comparison.pdf\")\n",
        "plt.show()"
      ]
    },
    {
      "cell_type": "markdown",
      "id": "jj7l7bqIwY2S",
      "metadata": {
        "id": "jj7l7bqIwY2S"
      },
      "source": [
        "### Reward per game vs training time\n",
        "**Q Learning**"
      ]
    },
    {
      "cell_type": "code",
      "execution_count": 72,
      "id": "C_fqerxxXNNy",
      "metadata": {
        "colab": {
          "base_uri": "https://localhost:8080/",
          "height": 295
        },
        "id": "C_fqerxxXNNy",
        "outputId": "fa6ed349-977b-475d-c864-4b8b122640f3"
      },
      "outputs": [
        {
          "output_type": "display_data",
          "data": {
            "text/plain": [
              "<Figure size 432x288 with 1 Axes>"
            ],
            "image/png": "[encoded data removed]"
          },
          "metadata": {
            "needs_background": "light"
          }
        }
      ],
      "source": [
        "plt.plot(ema_reward_qlearning, label=\"Q-Learning\", color=qlearning_replay_color)\n",
        "plt.xlabel(\"Episodes\")\n",
        "plt.ylabel(\"Reward\")\n",
        "plt.title(\"Reward per Game\")\n",
        "plt.legend()\n",
        "plt.savefig(\"reward_qlearning.pdf\")\n",
        "plt.show()"
      ]
    },
    {
      "cell_type": "markdown",
      "id": "O6oisKxp4sA-",
      "metadata": {
        "id": "O6oisKxp4sA-"
      },
      "source": [
        "**SARSA**"
      ]
    },
    {
      "cell_type": "code",
      "execution_count": 73,
      "id": "CGKkmhy6Zody",
      "metadata": {
        "colab": {
          "base_uri": "https://localhost:8080/",
          "height": 295
        },
        "id": "CGKkmhy6Zody",
        "outputId": "a85859b5-d334-43d2-dfb5-0c1ddd06a309"
      },
      "outputs": [
        {
          "output_type": "display_data",
          "data": {
            "text/plain": [
              "<Figure size 432x288 with 1 Axes>"
            ],
            "image/png": "[encoded data removed]"
          },
          "metadata": {
            "needs_background": "light"
          }
        }
      ],
      "source": [
        "plt.plot(ema_reward_sarsa, label=\"SARSA\", color=sarsa_color)\n",
        "plt.xlabel(\"Episodes\")\n",
        "plt.ylabel(\"Reward\")\n",
        "plt.title(\"Reward per Game\")\n",
        "plt.legend()\n",
        "plt.savefig(\"reward_sarsa.pdf\")\n",
        "plt.show()"
      ]
    },
    {
      "cell_type": "markdown",
      "id": "N0pbW4t_DSeO",
      "metadata": {
        "id": "N0pbW4t_DSeO"
      },
      "source": [
        "**Comparison**"
      ]
    },
    {
      "cell_type": "code",
      "execution_count": 80,
      "id": "vf2mC1ur08iG",
      "metadata": {
        "colab": {
          "base_uri": "https://localhost:8080/",
          "height": 295
        },
        "id": "vf2mC1ur08iG",
        "outputId": "ba8b8bd7-9f6b-412a-ff6e-9b2bc47e2403"
      },
      "outputs": [
        {
          "output_type": "display_data",
          "data": {
            "text/plain": [
              "<Figure size 432x288 with 1 Axes>"
            ],
            "image/png": "[encoded data removed]"
          },
          "metadata": {
            "needs_background": "light"
          }
        }
      ],
      "source": [
        "plt.plot(ema_reward_sarsa, label=\"SARSA\", color=sarsa_color)\n",
        "plt.plot(ema_reward_qlearning, label=\"Q-Learning without Replay\", color=qlearning_color)\n",
        "plt.plot(ema_reward_qlearning_replay, label=\"Q-Learning with Replay\", color=qlearning_replay_color)\n",
        "plt.xlabel(\"Episodes\")\n",
        "plt.ylabel(\"Reward\")\n",
        "plt.title(\"Comparison: Reward per Game\")\n",
        "plt.legend()\n",
        "plt.savefig(\"reward_comparison.pdf\")\n",
        "plt.show()"
      ]
    },
    {
      "cell_type": "markdown",
      "source": [
        "# Obsolete"
      ],
      "metadata": {
        "id": "VaZ6V1ASKX4n"
      },
      "id": "VaZ6V1ASKX4n"
    },
    {
      "cell_type": "code",
      "execution_count": null,
      "id": "df5ef6e7",
      "metadata": {
        "id": "df5ef6e7"
      },
      "outputs": [],
      "source": [
        "# SAVING VARIABLES\n",
        "# initialize parameters\n",
        "epsilon_0 = 0.2     # STARTING VALUE OF EPSILON FOR THE EPSILON-GREEDY POLICY\n",
        "beta = 0.00005      # THE PARAMETER SETS HOW QUICKLY THE VALUE OF EPSILON IS DECAYING (SEE epsilon_f BELOW)\n",
        "gamma = 0.85        # THE DISCOUNT FACTOR\n",
        "eta = 0.0035        # THE LEARNING RATE\n",
        "#memory = deque(maxlen=2000)\n",
        "n_steps = 0\n",
        "\n",
        "S,X,allowed_a=env.Initialise_game()\n",
        "\n",
        "N_a=np.shape(allowed_a)[0]   # TOTAL NUMBER OF POSSIBLE ACTIONS\n",
        "N_in=np.shape(X)[0]    ## INPUT SIZE\n",
        "\n",
        "Qtable = np.random.randn(1, N_a)/1000\n",
        "\n",
        "R_Sarsa = np.zeros([N_episodes])\n",
        "N_moves_Sarsa = np.zeros([N_episodes])"
      ]
    },
    {
      "cell_type": "code",
      "execution_count": null,
      "id": "ae9f9504",
      "metadata": {
        "id": "ae9f9504"
      },
      "outputs": [],
      "source": [
        "def greedyReshaped(model, X, epsilon, allowed_a):\n",
        "    allowed_ind,_=np.where(allowed_a==1)\n",
        "\n",
        "    rand_value=np.random.uniform(0,1)\n",
        "\n",
        "    if rand_value < epsilon:\n",
        "        a = np.random.choice(allowed_ind)\n",
        "    else:\n",
        "        import pdb;\n",
        "        #pdb.set_trace();\n",
        "        X_reshape = np.reshape(X, (1, N_in))\n",
        "        predicted = model.predict(X_reshape)\n",
        "        predicted_allowed = np.take(predicted, allowed_ind)\n",
        "        a_p = np.argmax(predicted_allowed)\n",
        "        a = allowed_ind[a_p]\n",
        "\n",
        "    return a"
      ]
    },
    {
      "cell_type": "code",
      "execution_count": null,
      "id": "XMzwViUIEfDn",
      "metadata": {
        "id": "XMzwViUIEfDn"
      },
      "outputs": [],
      "source": [
        "import random\n",
        "\n",
        "def replaySarsa(model, batch_size):\n",
        "    minibatch = random.sample(memory, batch_size)\n",
        "    for X, a, a_next, R, X_next, Done in minibatch:\n",
        "        target = R\n",
        "        if Done == 0:\n",
        "            target = (R + gamma * model.predict(np.array([X_next]))[0])[a_next]\n",
        "        X_reshape = np.reshape(X, (1, N_in))\n",
        "        target_f = model.predict(X_reshape)\n",
        "        target_f[0][a] = target\n",
        "        model.fit(X_reshape, target_f, epochs=1, verbose=0)"
      ]
    },
    {
      "cell_type": "markdown",
      "id": "2399741c",
      "metadata": {
        "id": "2399741c"
      },
      "source": [
        "**SARSA with memory**"
      ]
    },
    {
      "cell_type": "code",
      "execution_count": null,
      "id": "57d28a37",
      "metadata": {
        "id": "57d28a37"
      },
      "outputs": [],
      "source": [
        "# SARSA\n",
        "\n",
        "# SAVING VARIABLES\n",
        "# initialize parameters\n",
        "epsilon_0 = 0.2     # STARTING VALUE OF EPSILON FOR THE EPSILON-GREEDY POLICY\n",
        "beta = 0.00005      # THE PARAMETER SETS HOW QUICKLY THE VALUE OF EPSILON IS DECAYING (SEE epsilon_f BELOW)\n",
        "gamma = 0.85        # THE DISCOUNT FACTOR\n",
        "eta = 0.0035        # THE LEARNING RATE\n",
        "memory = deque(maxlen=2000)\n",
        "\n",
        "S,X,allowed_a=env.Initialise_game()\n",
        "\n",
        "N_a=np.shape(allowed_a)[0]   # TOTAL NUMBER OF POSSIBLE ACTIONS\n",
        "\n",
        "R_Sarsa = np.zeros([N_episodes])\n",
        "N_moves_Sarsa = np.zeros([N_episodes])\n",
        "\n",
        "model = build_model()\n",
        "batch_size = 32\n",
        "\n",
        "for n in range(N_episodes):\n",
        "\n",
        "    Done=0                                   ## SET DONE TO ZERO (BEGINNING OF THE EPISODE)\n",
        "    \n",
        "    S, X, allowed_a = env.Initialise_game()      ## INITIALISE GAME\n",
        "    epsilon_f = epsilon_0\n",
        "    a = greedyReshaped(model, X, epsilon_f, allowed_a)   #make an action\n",
        "    \n",
        "    for time in range(max_T):\n",
        "        # take action a\n",
        "        S_next, X_next, allowed_a_next, R, Done = env.OneStep(a)\n",
        "        R_Sarsa[n] += np.copy(R)\n",
        "        N_moves_Sarsa[n] = np.copy(time+1)\n",
        "        \n",
        "        ## THE EPISODE HAS ENDED, UPDATE...BE CAREFUL, THIS IS THE LAST STEP OF THE EPISODE\n",
        "        if Done==1:\n",
        "            print(\"episode: {}/{}, score: {}, reward average: {}\"\n",
        "                  .format(n, N_episodes,  N_moves_Sarsa[n], R_Sarsa[n-100:n].mean() if n > 100 else 0))\n",
        "            break\n",
        "            \n",
        "        # chose a with epsilon greedy\n",
        "        a_next = greedyReshaped(model, X_next, epsilon_f, allowed_a_next) #make an action\n",
        "        memory.append((X, a, a_next, R, X_next, Done))\n",
        "        \n",
        "        if len(memory) > batch_size and (time+1)%100 == 0:\n",
        "            replaySarsa(model, batch_size)\n",
        "        \n",
        "        X = X_next\n",
        "        allowed_a = allowed_a_next\n",
        "        a = a_next"
      ]
    }
  ],
  "metadata": {
    "accelerator": "GPU",
    "colab": {
      "collapsed_sections": [
        "0bceca7c"
      ],
      "machine_shape": "hm",
      "name": "Assignment.ipynb",
      "provenance": []
    },
    "kernelspec": {
      "display_name": "Python 3 (ipykernel)",
      "language": "python",
      "name": "python3"
    },
    "language_info": {
      "codemirror_mode": {
        "name": "ipython",
        "version": 3
      },
      "file_extension": ".py",
      "mimetype": "text/x-python",
      "name": "python",
      "nbconvert_exporter": "python",
      "pygments_lexer": "ipython3",
      "version": "3.7.11"
    }
  },
  "nbformat": 4,
  "nbformat_minor": 5
}