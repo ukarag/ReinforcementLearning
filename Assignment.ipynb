{
  "cells": [
    {
      "cell_type": "markdown",
      "metadata": {
        "id": "02944396"
      },
      "source": [
        "# Assignment"
      ],
      "id": "02944396"
    },
    {
      "cell_type": "code",
      "execution_count": 2,
      "metadata": {
        "id": "c9652bc6"
      },
      "outputs": [],
      "source": [
        "# Import \n",
        "\n",
        "import numpy as np\n",
        "import matplotlib.pyplot as plt\n",
        "from degree_freedom_queen import *\n",
        "from degree_freedom_king1 import *\n",
        "from degree_freedom_king2 import *\n",
        "from generate_game import *\n",
        "from Chess_env import *\n",
        "\n",
        "\n",
        "size_board = 4"
      ],
      "id": "c9652bc6"
    },
    {
      "cell_type": "markdown",
      "metadata": {
        "id": "0bceca7c"
      },
      "source": [
        "## The Environment\n",
        "\n",
        "You can find the environment in the file Chess_env, which contains the class Chess_env. To define an object, you need to provide the board size considered as input. In our example, size_board=4. \n",
        "Chess_env is composed by the following methods:\n",
        "\n",
        "1. Initialise_game. The method initialises an episode by placing the three pieces considered (Agent's king and queen, enemy's king) in the chess board. The outputs of the method are described below in order.\n",
        "\n",
        "     S $\\;$ A matrix representing the board locations filled with 4 numbers: 0, no piece in that position; 1, location of the \n",
        "     agent's king; 2 location of the queen; 3 location of the enemy king.\n",
        "     \n",
        "     X $\\;$ The features, that is the input to the neural network. See the assignment for more information regarding the            definition of the features adopted. To personalise this, go into the Features method of the class Chess_env() and change        accordingly.\n",
        "     \n",
        "     allowed_a $\\;$ The allowed actions that the agent can make. The agent is moving a king, with a total number of 8                possible actions, and a queen, with a total number of $(board_{size}-1)\\times 8$ actions. The total number of possible actions correspond      to the sum of the two, but not all actions are allowed in a given position (movements to locations outside the borders or      against chess rules). Thus, the variable allowed_a is a vector that is one (zero) for an action that the agent can (can't)      make. Be careful, apply the policy considered on the actions that are allowed only.\n",
        "     \n",
        "\n",
        "2. OneStep. The method performs a one step update of the system. Given as input the action selected by the agent, it updates the chess board by performing that action and the response of the enemy king (which is a random allowed action in the settings considered). The first three outputs are the same as for the Initialise_game method, but the variables are computed for the position reached after the update of the system. The fourth and fifth outputs are:\n",
        "\n",
        "     R $\\;$ The reward. To change this, look at the OneStep method of the class where the rewards are set.\n",
        "     \n",
        "     Done $\\;$ A variable that is 1 if the episode has ended (checkmate or draw).\n",
        "     \n",
        "     \n",
        "3. Features. Given the chessboard position, the method computes the features.\n",
        "\n",
        "This information and a quick analysis of the class should be all you need to get going. The other functions that the class exploits are uncommented and constitute an example on how not to write a python code. You can take a look at them if you want, but it is not necessary.\n",
        "\n",
        "\n",
        "\n",
        "\n"
      ],
      "id": "0bceca7c"
    },
    {
      "cell_type": "code",
      "execution_count": 3,
      "metadata": {
        "id": "9593a299"
      },
      "outputs": [],
      "source": [
        "## INITIALISE THE ENVIRONMENT\n",
        "\n",
        "env=Chess_Env(size_board)"
      ],
      "id": "9593a299"
    },
    {
      "cell_type": "code",
      "execution_count": 4,
      "metadata": {
        "colab": {
          "base_uri": "https://localhost:8080/"
        },
        "id": "bbc05bfd",
        "outputId": "0126c291-0258-4c20-8462-d3ca7ac442d9"
      },
      "outputs": [
        {
          "output_type": "stream",
          "name": "stdout",
          "text": [
            "[[0 0 0 0]\n",
            " [0 0 0 1]\n",
            " [0 0 2 0]\n",
            " [3 0 0 0]]\n",
            "check?  0\n",
            "dofk2  0\n",
            "\n",
            "[[0 0 0 0]\n",
            " [0 0 0 1]\n",
            " [3 0 0 0]\n",
            " [0 0 2 0]]\n",
            "0  0\n",
            "check?  0\n",
            "dofk2  1\n",
            "\n",
            "[[0 0 0 0]\n",
            " [0 0 2 1]\n",
            " [0 0 0 0]\n",
            " [0 3 0 0]]\n",
            "0  0\n",
            "check?  0\n",
            "dofk2  1\n",
            "\n",
            "[[0 0 0 0]\n",
            " [0 0 0 1]\n",
            " [0 0 2 0]\n",
            " [3 0 0 0]]\n",
            "0  0\n",
            "check?  0\n",
            "dofk2  0\n",
            "\n",
            "[[0 0 1 0]\n",
            " [0 0 0 0]\n",
            " [0 0 2 0]\n",
            " [3 0 0 0]]\n",
            "0.0  1\n",
            "check?  0\n",
            "dofk2  0\n"
          ]
        }
      ],
      "source": [
        "## PRINT 5 STEPS OF AN EPISODE CONSIDERING A RANDOM AGENT\n",
        "\n",
        "S,X,allowed_a=env.Initialise_game()                       # INTIALISE GAME\n",
        "\n",
        "print(S)                                                  # PRINT CHESS BOARD (SEE THE DESCRIPTION ABOVE)\n",
        "\n",
        "print('check? ',env.check)                                # PRINT VARIABLE THAT TELLS IF ENEMY KING IS IN CHECK (1) OR NOT (0)\n",
        "print('dofk2 ',np.sum(env.dfk2_constrain).astype(int))    # PRINT THE NUMBER OF LOCATIONS THAT THE ENEMY KING CAN MOVE TO\n",
        "\n",
        "\n",
        "for i in range(5):\n",
        "    \n",
        "    a,_=np.where(allowed_a==1)                  # FIND WHAT THE ALLOWED ACTIONS ARE\n",
        "    a_agent=np.random.permutation(a)[0]         # MAKE A RANDOM ACTION\n",
        "\n",
        "    S,X,allowed_a,R,Done=env.OneStep(a_agent)   # UPDATE THE ENVIRONMENT\n",
        "\n",
        "    ## PRINT CHESS BOARD AND VARIABLES\n",
        "    print('')\n",
        "    print(S)\n",
        "    print(R,'', Done)\n",
        "    print('check? ',env.check)\n",
        "    print('dofk2 ',np.sum(env.dfk2_constrain).astype(int))\n",
        "    \n",
        "    \n",
        "    # TERMINATE THE EPISODE IF Done=True (DRAW OR CHECKMATE)\n",
        "    if Done:\n",
        "        break\n",
        "        \n"
      ],
      "id": "bbc05bfd"
    },
    {
      "cell_type": "code",
      "execution_count": 5,
      "metadata": {
        "colab": {
          "base_uri": "https://localhost:8080/"
        },
        "id": "fc16cf7b",
        "outputId": "42884c96-87f2-413e-c663-ee26c04d55c7"
      },
      "outputs": [
        {
          "output_type": "stream",
          "name": "stdout",
          "text": [
            "Random_Agent, Average reward: 0.187 Number of steps:  6.625\n"
          ]
        }
      ],
      "source": [
        "# PERFORM N_episodes=1000 EPISODES MAKING RANDOM ACTIONS AND COMPUTE THE AVERAGE REWARD AND NUMBER OF MOVES \n",
        "\n",
        "S,X,allowed_a=env.Initialise_game()\n",
        "N_episodes=1000\n",
        "\n",
        "# VARIABLES WHERE TO SAVE THE FINAL REWARD IN AN EPISODE AND THE NUMBER OF MOVES \n",
        "R_save_random = np.zeros([N_episodes, 1])\n",
        "N_moves_save_random = np.zeros([N_episodes, 1])\n",
        "\n",
        "for n in range(N_episodes):\n",
        "    \n",
        "    S,X,allowed_a=env.Initialise_game()     # INITIALISE GAME\n",
        "    Done=0                                  # SET Done=0 AT THE BEGINNING\n",
        "    i=1                                     # COUNTER FOR THE NUMBER OF ACTIONS (MOVES) IN AN EPISODE\n",
        "    \n",
        "    # UNTIL THE EPISODE IS NOT OVER...(Done=0)\n",
        "    while Done==0:\n",
        "        \n",
        "        # SAME AS THE CELL BEFORE, BUT SAVING THE RESULTS WHEN THE EPISODE TERMINATES \n",
        "        \n",
        "        a_base,_=np.where(allowed_a==1)\n",
        "        \n",
        "        a_agent_base=np.random.permutation(a_base)[0]\n",
        "\n",
        "        S,X,allowed_a,R,Done=env.OneStep(a_agent_base)\n",
        "                \n",
        "        if Done:\n",
        "            \n",
        "            R_save_random[n]=np.copy(R)\n",
        "            N_moves_save_random[n]=np.copy(i)\n",
        "\n",
        "            break\n",
        "\n",
        "        i=i+1                               # UPDATE THE COUNTER\n",
        "\n",
        "\n",
        "\n",
        "# AS YOU SEE, THE PERFORMANCE OF A RANDOM AGENT ARE NOT GREAT, SINCE THE MAJORITY OF THE POSITIONS END WITH A DRAW \n",
        "# (THE ENEMY KING IS NOT IN CHECK AND CAN'T MOVE)\n",
        "\n",
        "print('Random_Agent, Average reward:',np.mean(R_save_random),'Number of steps: ',np.mean(N_moves_save_random))\n",
        "\n"
      ],
      "id": "fc16cf7b"
    },
    {
      "cell_type": "code",
      "execution_count": 6,
      "metadata": {
        "id": "ece20429"
      },
      "outputs": [],
      "source": [
        "# INITIALISE THE PARAMETERS OF YOUR NEURAL NETWORK AND...\n",
        "# PLEASE CONSIDER TO USE A MASK OF ONE FOR THE ACTION MADE AND ZERO OTHERWISE IF YOU ARE NOT USING VANILLA GRADIENT DESCENT...\n",
        "# WE SUGGEST A NETWORK WITH ONE HIDDEN LAYER WITH SIZE 200. \n",
        "\n",
        "import tensorflow as tf\n",
        "from tensorflow import keras\n",
        "from collections import deque\n",
        "\n",
        "S,X,allowed_a=env.Initialise_game()\n",
        "\n",
        "N_episodes = 5000 # THE NUMBER OF GAMES TO BE PLAYED \n",
        "max_T = 200 # maximum number of actions per episode\n",
        "# SAVING VARIABLES\n",
        "R_save = np.zeros([N_episodes, max_T ])\n",
        "N_moves_save = np.zeros([N_episodes])\n",
        "\n"
      ],
      "id": "ece20429"
    },
    {
      "cell_type": "code",
      "execution_count": 7,
      "metadata": {
        "id": "l-flwNIsLLuL"
      },
      "outputs": [],
      "source": [
        "def build_model():\n",
        "    init = tf.keras.initializers.HeUniform()\n",
        "    model = keras.Sequential()\n",
        "    model.add(keras.layers.Dense(24, input_shape=(np.shape(X)), activation='relu', kernel_initializer=init))\n",
        "    model.add(keras.layers.Dense(200, activation='relu', kernel_initializer=init))\n",
        "    model.add(keras.layers.Dense(32, activation='linear', kernel_initializer=init))\n",
        "    model.compile(loss=tf.keras.losses.Huber(), optimizer=tf.keras.optimizers.Adam(lr=0.001), metrics=['accuracy'])\n",
        "    return model"
      ],
      "id": "l-flwNIsLLuL"
    },
    {
      "cell_type": "code",
      "execution_count": 8,
      "metadata": {
        "id": "2IBeCnzSLLuM"
      },
      "outputs": [],
      "source": [
        "# initialize parameters\n",
        "epsilon_0 = 0.2     # STARTING VALUE OF EPSILON FOR THE EPSILON-GREEDY POLICY\n",
        "beta = 0.00005      # THE PARAMETER SETS HOW QUICKLY THE VALUE OF EPSILON IS DECAYING (SEE epsilon_f BELOW)\n",
        "gamma = 0.85        # THE DISCOUNT FACTOR\n",
        "eta = 0.0035        # THE LEARNING RATE\n",
        "memory = deque(maxlen=2000)\n",
        "N_a=np.shape(allowed_a)[0]   # TOTAL NUMBER OF POSSIBLE ACTIONS\n",
        "N_in=np.shape(X)[0]    ## INPUT SIZE\n",
        "\n",
        "Qtable = np.random.randn(1, N_a)/1000"
      ],
      "id": "2IBeCnzSLLuM"
    },
    {
      "cell_type": "code",
      "execution_count": 9,
      "metadata": {
        "id": "Q9Ofb7Gfts0e"
      },
      "outputs": [],
      "source": [
        "def EpsilonGreedy_Policy(Qvalues, epsilon, allowed_a):\n",
        "    allowed_ind,_=np.where(allowed_a==1)\n",
        "    Qvalues_allowed = np.take(Qvalues, allowed_ind)\n",
        "    \n",
        "    rand_value=np.random.uniform(0,1)\n",
        "    rand_a=rand_value<epsilon\n",
        "\n",
        "    if rand_a==True:\n",
        "        a = np.random.choice(allowed_ind)\n",
        "    else:\n",
        "        a_q = np.argmax(Qvalues_allowed)\n",
        "        a = allowed_ind[a_q] \n",
        "    return a"
      ],
      "id": "Q9Ofb7Gfts0e"
    },
    {
      "cell_type": "code",
      "execution_count": null,
      "metadata": {
        "colab": {
          "base_uri": "https://localhost:8080/",
          "height": 433
        },
        "id": "e6ba1f84",
        "outputId": "7f019d8b-9eb9-4d27-aa8c-0994bbf3b2a3"
      },
      "outputs": [
        {
          "ename": "KeyboardInterrupt",
          "evalue": "ignored",
          "output_type": "error",
          "traceback": [
            "\u001b[0;31m---------------------------------------------------------------------------\u001b[0m",
            "\u001b[0;31mKeyboardInterrupt\u001b[0m                         Traceback (most recent call last)",
            "\u001b[0;32m<ipython-input-9-7d6a11b1e65b>\u001b[0m in \u001b[0;36m<module>\u001b[0;34m()\u001b[0m\n\u001b[1;32m     36\u001b[0m     \u001b[0;32mwhile\u001b[0m \u001b[0mDone\u001b[0m\u001b[0;34m==\u001b[0m\u001b[0;36m0\u001b[0m\u001b[0;34m:\u001b[0m                           \u001b[0;31m## START THE EPISODE\u001b[0m\u001b[0;34m\u001b[0m\u001b[0;34m\u001b[0m\u001b[0m\n\u001b[1;32m     37\u001b[0m         \u001b[0;31m# take action a\u001b[0m\u001b[0;34m\u001b[0m\u001b[0;34m\u001b[0m\u001b[0;34m\u001b[0m\u001b[0m\n\u001b[0;32m---> 38\u001b[0;31m         \u001b[0mS_next\u001b[0m\u001b[0;34m,\u001b[0m\u001b[0mX_next\u001b[0m\u001b[0;34m,\u001b[0m\u001b[0mallowed_a_next\u001b[0m\u001b[0;34m,\u001b[0m\u001b[0mR\u001b[0m\u001b[0;34m,\u001b[0m\u001b[0mDone\u001b[0m\u001b[0;34m=\u001b[0m\u001b[0menv\u001b[0m\u001b[0;34m.\u001b[0m\u001b[0mOneStep\u001b[0m\u001b[0;34m(\u001b[0m\u001b[0ma\u001b[0m\u001b[0;34m)\u001b[0m\u001b[0;34m\u001b[0m\u001b[0;34m\u001b[0m\u001b[0m\n\u001b[0m\u001b[1;32m     39\u001b[0m         \u001b[0mR_save\u001b[0m\u001b[0;34m[\u001b[0m\u001b[0mn\u001b[0m\u001b[0;34m,\u001b[0m \u001b[0mi\u001b[0m\u001b[0;34m-\u001b[0m\u001b[0;36m1\u001b[0m\u001b[0;34m]\u001b[0m \u001b[0;34m=\u001b[0m \u001b[0mnp\u001b[0m\u001b[0;34m.\u001b[0m\u001b[0mcopy\u001b[0m\u001b[0;34m(\u001b[0m\u001b[0mR\u001b[0m\u001b[0;34m)\u001b[0m\u001b[0;34m\u001b[0m\u001b[0;34m\u001b[0m\u001b[0m\n\u001b[1;32m     40\u001b[0m         \u001b[0mN_moves_save\u001b[0m\u001b[0;34m[\u001b[0m\u001b[0mn\u001b[0m\u001b[0;34m]\u001b[0m \u001b[0;34m=\u001b[0m \u001b[0mnp\u001b[0m\u001b[0;34m.\u001b[0m\u001b[0mcopy\u001b[0m\u001b[0;34m(\u001b[0m\u001b[0mi\u001b[0m\u001b[0;34m)\u001b[0m\u001b[0;34m\u001b[0m\u001b[0;34m\u001b[0m\u001b[0m\n",
            "\u001b[0;32m/content/Chess_env.py\u001b[0m in \u001b[0;36mOneStep\u001b[0;34m(self, a_agent)\u001b[0m\n\u001b[1;32m    119\u001b[0m \u001b[0;34m\u001b[0m\u001b[0m\n\u001b[1;32m    120\u001b[0m         \u001b[0;31m# Allowed actions for the agent's queen\u001b[0m\u001b[0;34m\u001b[0m\u001b[0;34m\u001b[0m\u001b[0;34m\u001b[0m\u001b[0m\n\u001b[0;32m--> 121\u001b[0;31m         \u001b[0mself\u001b[0m\u001b[0;34m.\u001b[0m\u001b[0mdfq1_constrain\u001b[0m\u001b[0;34m,\u001b[0m \u001b[0mself\u001b[0m\u001b[0;34m.\u001b[0m\u001b[0ma_q1\u001b[0m\u001b[0;34m,\u001b[0m \u001b[0mself\u001b[0m\u001b[0;34m.\u001b[0m\u001b[0mdfq1\u001b[0m  \u001b[0;34m=\u001b[0m \u001b[0mdegree_freedom_queen\u001b[0m\u001b[0;34m(\u001b[0m\u001b[0mself\u001b[0m\u001b[0;34m.\u001b[0m\u001b[0mp_k1\u001b[0m\u001b[0;34m,\u001b[0m \u001b[0mself\u001b[0m\u001b[0;34m.\u001b[0m\u001b[0mp_k2\u001b[0m\u001b[0;34m,\u001b[0m \u001b[0mself\u001b[0m\u001b[0;34m.\u001b[0m\u001b[0mp_q1\u001b[0m\u001b[0;34m,\u001b[0m \u001b[0mself\u001b[0m\u001b[0;34m.\u001b[0m\u001b[0mBoard\u001b[0m\u001b[0;34m)\u001b[0m\u001b[0;34m\u001b[0m\u001b[0;34m\u001b[0m\u001b[0m\n\u001b[0m\u001b[1;32m    122\u001b[0m \u001b[0;34m\u001b[0m\u001b[0m\n\u001b[1;32m    123\u001b[0m         \u001b[0;31m# Allowed actions for the enemy's king\u001b[0m\u001b[0;34m\u001b[0m\u001b[0;34m\u001b[0m\u001b[0;34m\u001b[0m\u001b[0m\n",
            "\u001b[0;32m/content/degree_freedom_queen.py\u001b[0m in \u001b[0;36mdegree_freedom_queen\u001b[0;34m(p_k1, p_k2, p_q1, s)\u001b[0m\n\u001b[1;32m     61\u001b[0m                     \u001b[0;32mif\u001b[0m \u001b[0mp_q1\u001b[0m\u001b[0;34m[\u001b[0m\u001b[0;36m0\u001b[0m\u001b[0;34m]\u001b[0m \u001b[0;34m+\u001b[0m \u001b[0mj\u001b[0m \u001b[0;34m+\u001b[0m \u001b[0;36m1\u001b[0m \u001b[0;34m!=\u001b[0m \u001b[0mk2r\u001b[0m\u001b[0;34m[\u001b[0m\u001b[0mi\u001b[0m\u001b[0;34m,\u001b[0m \u001b[0;36m0\u001b[0m\u001b[0;34m]\u001b[0m \u001b[0;32mor\u001b[0m \u001b[0mp_q1\u001b[0m\u001b[0;34m[\u001b[0m\u001b[0;36m1\u001b[0m\u001b[0;34m]\u001b[0m \u001b[0;34m!=\u001b[0m \u001b[0mk2r\u001b[0m\u001b[0;34m[\u001b[0m\u001b[0mi\u001b[0m\u001b[0;34m,\u001b[0m \u001b[0;36m1\u001b[0m\u001b[0;34m]\u001b[0m\u001b[0;34m:\u001b[0m\u001b[0;34m\u001b[0m\u001b[0;34m\u001b[0m\u001b[0m\n\u001b[1;32m     62\u001b[0m                         \u001b[0mtmp\u001b[0m\u001b[0;34m[\u001b[0m\u001b[0mi\u001b[0m\u001b[0;34m]\u001b[0m \u001b[0;34m=\u001b[0m \u001b[0;36m1\u001b[0m\u001b[0;34m\u001b[0m\u001b[0;34m\u001b[0m\u001b[0m\n\u001b[0;32m---> 63\u001b[0;31m                 \u001b[0;32mif\u001b[0m \u001b[0mnp\u001b[0m\u001b[0;34m.\u001b[0m\u001b[0mall\u001b[0m\u001b[0;34m(\u001b[0m\u001b[0mtmp\u001b[0m\u001b[0;34m)\u001b[0m\u001b[0;34m:\u001b[0m\u001b[0;34m\u001b[0m\u001b[0;34m\u001b[0m\u001b[0m\n\u001b[0m\u001b[1;32m     64\u001b[0m                     \u001b[0mdfQ1\u001b[0m\u001b[0;34m[\u001b[0m\u001b[0mp_q1\u001b[0m\u001b[0;34m[\u001b[0m\u001b[0;36m0\u001b[0m\u001b[0;34m]\u001b[0m \u001b[0;34m+\u001b[0m \u001b[0mj\u001b[0m \u001b[0;34m+\u001b[0m \u001b[0;36m1\u001b[0m\u001b[0;34m,\u001b[0m \u001b[0mp_q1\u001b[0m\u001b[0;34m[\u001b[0m\u001b[0;36m1\u001b[0m\u001b[0;34m]\u001b[0m\u001b[0;34m]\u001b[0m \u001b[0;34m=\u001b[0m \u001b[0;36m1\u001b[0m\u001b[0;34m\u001b[0m\u001b[0;34m\u001b[0m\u001b[0m\n\u001b[1;32m     65\u001b[0m                     \u001b[0ma_q1\u001b[0m\u001b[0;34m[\u001b[0m\u001b[0mj\u001b[0m\u001b[0;34m]\u001b[0m \u001b[0;34m=\u001b[0m \u001b[0;36m1\u001b[0m\u001b[0;34m\u001b[0m\u001b[0;34m\u001b[0m\u001b[0m\n",
            "\u001b[0;32m<__array_function__ internals>\u001b[0m in \u001b[0;36mall\u001b[0;34m(*args, **kwargs)\u001b[0m\n",
            "\u001b[0;32m/usr/local/lib/python3.7/dist-packages/numpy/core/fromnumeric.py\u001b[0m in \u001b[0;36mall\u001b[0;34m(a, axis, out, keepdims, where)\u001b[0m\n\u001b[1;32m   2449\u001b[0m     \"\"\"\n\u001b[1;32m   2450\u001b[0m     return _wrapreduction(a, np.logical_and, 'all', axis, None, out,\n\u001b[0;32m-> 2451\u001b[0;31m                           keepdims=keepdims, where=where)\n\u001b[0m\u001b[1;32m   2452\u001b[0m \u001b[0;34m\u001b[0m\u001b[0m\n\u001b[1;32m   2453\u001b[0m \u001b[0;34m\u001b[0m\u001b[0m\n",
            "\u001b[0;32m/usr/local/lib/python3.7/dist-packages/numpy/core/fromnumeric.py\u001b[0m in \u001b[0;36m_wrapreduction\u001b[0;34m(obj, ufunc, method, axis, dtype, out, **kwargs)\u001b[0m\n\u001b[1;32m     71\u001b[0m                   if v is not np._NoValue}\n\u001b[1;32m     72\u001b[0m \u001b[0;34m\u001b[0m\u001b[0m\n\u001b[0;32m---> 73\u001b[0;31m     \u001b[0;32mif\u001b[0m \u001b[0mtype\u001b[0m\u001b[0;34m(\u001b[0m\u001b[0mobj\u001b[0m\u001b[0;34m)\u001b[0m \u001b[0;32mis\u001b[0m \u001b[0;32mnot\u001b[0m \u001b[0mmu\u001b[0m\u001b[0;34m.\u001b[0m\u001b[0mndarray\u001b[0m\u001b[0;34m:\u001b[0m\u001b[0;34m\u001b[0m\u001b[0;34m\u001b[0m\u001b[0m\n\u001b[0m\u001b[1;32m     74\u001b[0m         \u001b[0;32mtry\u001b[0m\u001b[0;34m:\u001b[0m\u001b[0;34m\u001b[0m\u001b[0;34m\u001b[0m\u001b[0m\n\u001b[1;32m     75\u001b[0m             \u001b[0mreduction\u001b[0m \u001b[0;34m=\u001b[0m \u001b[0mgetattr\u001b[0m\u001b[0;34m(\u001b[0m\u001b[0mobj\u001b[0m\u001b[0;34m,\u001b[0m \u001b[0mmethod\u001b[0m\u001b[0;34m)\u001b[0m\u001b[0;34m\u001b[0m\u001b[0;34m\u001b[0m\u001b[0m\n",
            "\u001b[0;31mKeyboardInterrupt\u001b[0m: "
          ]
        }
      ],
      "source": [
        "# SARSA\n",
        "\n",
        "eligibility_trace = True\n",
        "if eligibility_trace:\n",
        "    lamb=0.3\n",
        "    eta=0.08\n",
        "\n",
        "\n",
        "for n in range(N_episodes):\n",
        "\n",
        "    epsilon_f = epsilon_0 / (1 + beta * n)   ## DECAYING EPSILON\n",
        "    Done=0                                   ## SET DONE TO ZERO (BEGINNING OF THE EPISODE)\n",
        "    i = 1                                    ## COUNTER FOR NUMBER OF ACTIONS\n",
        "    \n",
        "    S,X,allowed_a=env.Initialise_game()      ## INITIALISE GAME\n",
        " \n",
        "    # add state X to all states\n",
        "    X_all = np.array([X])\n",
        "    ind_x = -1\n",
        "    count = -1\n",
        "    for el in X_all:\n",
        "        count += 1\n",
        "        if np.array_equal(el, X):\n",
        "            ind_x = count \n",
        "\n",
        "    if ind_x == -1:\n",
        "        np.append(X_all, [X], axis=0)\n",
        "        Q = np.random.randn(1, N_a)/1000\n",
        "        np.append(Qtable, Q, axis=0)\n",
        "\n",
        "    Qvalues = np.copy(Qtable[ind_x, :])\n",
        "    \n",
        "    # chose a from Q values with epsilon greedy\n",
        "    a = EpsilonGreedy_Policy(Qvalues, epsilon_0, allowed_a) #make an action\n",
        "\n",
        "    while Done==0:                           ## START THE EPISODE\n",
        "        # take action a\n",
        "        S_next,X_next,allowed_a_next,R,Done=env.OneStep(a)\n",
        "        R_save[n, i-1] = np.copy(R)\n",
        "        N_moves_save[n] = np.copy(i)\n",
        "        \n",
        "        ## THE EPISODE HAS ENDED, UPDATE...BE CAREFUL, THIS IS THE LAST STEP OF THE EPISODE\n",
        "        if Done==1 or i >= max_T:\n",
        "                   \n",
        "            break\n",
        "           \n",
        "        \n",
        "        \n",
        "        # IF THE EPISODE IS NOT OVER...\n",
        "        else:\n",
        "            \n",
        "            ## ONLY TO PUT SUMETHING\n",
        "            PIPPO=1\n",
        "        \n",
        "        #check if state X is in the Q table by finding index of X_all and select state as Q values\n",
        "        # otherwise append row (X) to the Q table with random values and append X to X_all\n",
        "        ind_x_next = -1\n",
        "        count = -1\n",
        "        for el in X_all:\n",
        "            count += 1\n",
        "            if np.array_equal(el, X_next):\n",
        "                ind_x_next = count \n",
        "                \n",
        "        if ind_x_next == -1:\n",
        "            np.append(X_all, [X_next], axis=0)\n",
        "            Q = np.random.randn(1, N_a)/1000\n",
        "            np.append(Qtable, Q, axis=0)\n",
        "            \n",
        "        Qvalues = np.copy(Qtable[ind_x_next, :])\n",
        "\n",
        "        # chose a next from Q values with epsilon greedy\n",
        "        a_next = EpsilonGreedy_Policy(Qvalues, epsilon_f, allowed_a_next) #make an action\n",
        "        \n",
        "        # Compute the delta\n",
        "        delta=R+gamma*Qtable[ind_x_next, a_next]-Qtable[ind_x, a]\n",
        "        \n",
        "        # Update the Qvalues\n",
        "        Qtable[ind_x, a]=Qtable[ind_x, a]+eta*delta\n",
        "\n",
        "        # NEXT STATE AND CO. BECOME ACTUAL STATE...    \n",
        "        a=np.copy(a_next)\n",
        "        S=np.copy(S_next)\n",
        "        X=np.copy(X_next)\n",
        "        allowed_a=np.copy(allowed_a_next)\n",
        "        ind_x = np.copy(ind_x_next)\n",
        "        i += 1  # UPDATE COUNTER FOR NUMBER OF ACTIONS\n",
        "\n"
      ],
      "id": "e6ba1f84"
    },
    {
      "cell_type": "code",
      "execution_count": 10,
      "metadata": {
        "id": "aXBL2g5ULLuO"
      },
      "outputs": [],
      "source": [
        "def greedy(model, X, epsilon, allowed_a):\n",
        "    allowed_ind,_=np.where(allowed_a==1)\n",
        "\n",
        "    rand_value=np.random.uniform(0,1)\n",
        "\n",
        "    if rand_value < epsilon:\n",
        "        a = np.random.choice(allowed_ind)\n",
        "    else:\n",
        "        predicted = model.predict(X)\n",
        "        predicted_allowed = np.take(predicted, allowed_ind)\n",
        "        a_p = np.argmax(predicted_allowed)\n",
        "        a = allowed_ind[a_p]\n",
        "\n",
        "    return a"
      ],
      "id": "aXBL2g5ULLuO"
    },
    {
      "cell_type": "code",
      "execution_count": 11,
      "metadata": {
        "id": "nHx8AqZLLLuO"
      },
      "outputs": [],
      "source": [
        "import random\n",
        "\n",
        "def replay(model, batch_size):\n",
        "    minibatch = random.sample(memory, batch_size)\n",
        "    for X, a, R, X_next, Done in minibatch:\n",
        "        target = R\n",
        "        if Done == 0:\n",
        "            target = (R + gamma *\n",
        "                      np.amax(model.predict(X_next)[0]))\n",
        "        target_f = model.predict(X)\n",
        "        target_f[0][a] = target\n",
        "        model.fit(X, target_f, epochs=1, verbose=0)\n",
        "\n"
      ],
      "id": "nHx8AqZLLLuO"
    },
    {
      "cell_type": "code",
      "execution_count": 12,
      "metadata": {
        "id": "aJWromfuLLuP"
      },
      "outputs": [],
      "source": [
        "def load(model, name):\n",
        "    model.load_weights(name)"
      ],
      "id": "aJWromfuLLuP"
    },
    {
      "cell_type": "code",
      "execution_count": 13,
      "metadata": {
        "id": "T5yH0q94LLuP"
      },
      "outputs": [],
      "source": [
        "def save(model, name):\n",
        "    model.save_weights(name)"
      ],
      "id": "T5yH0q94LLuP"
    },
    {
      "cell_type": "code",
      "execution_count": 16,
      "metadata": {
        "colab": {
          "base_uri": "https://localhost:8080/",
          "height": 1000
        },
        "id": "Tda1-6DYLLuQ",
        "outputId": "cb52b120-9d62-4ab9-d3ea-908c39099e6f"
      },
      "outputs": [
        {
          "output_type": "stream",
          "name": "stderr",
          "text": [
            "/usr/local/lib/python3.7/dist-packages/keras/optimizer_v2/adam.py:105: UserWarning: The `lr` argument is deprecated, use `learning_rate` instead.\n",
            "  super(Adam, self).__init__(name, **kwargs)\n"
          ]
        },
        {
          "output_type": "stream",
          "name": "stdout",
          "text": [
            "episode: 0/5000, score: 3, e: 0.18\n",
            "episode: 1/5000, score: 4, e: 0.18\n",
            "episode: 2/5000, score: 1, e: 0.18\n",
            "episode: 3/5000, score: 1, e: 0.18\n",
            "episode: 4/5000, score: 4, e: 0.18\n",
            "episode: 5/5000, score: 1, e: 0.18\n",
            "episode: 6/5000, score: 0, e: 0.18\n",
            "episode: 7/5000, score: 3, e: 0.18\n",
            "episode: 8/5000, score: 1, e: 0.18\n",
            "episode: 9/5000, score: 0, e: 0.18\n",
            "episode: 10/5000, score: 0, e: 0.18\n",
            "episode: 11/5000, score: 1, e: 0.18\n",
            "episode: 12/5000, score: 48, e: 0.18\n",
            "episode: 13/5000, score: 18, e: 0.17\n",
            "episode: 14/5000, score: 22, e: 0.17\n",
            "episode: 15/5000, score: 5, e: 0.17\n",
            "episode: 16/5000, score: 1, e: 0.17\n",
            "episode: 17/5000, score: 0, e: 0.17\n",
            "episode: 18/5000, score: 12, e: 0.17\n",
            "episode: 19/5000, score: 0, e: 0.17\n",
            "episode: 20/5000, score: 1, e: 0.17\n",
            "episode: 21/5000, score: 0, e: 0.17\n",
            "episode: 22/5000, score: 3, e: 0.17\n",
            "episode: 23/5000, score: 24, e: 0.16\n",
            "episode: 24/5000, score: 0, e: 0.16\n",
            "episode: 25/5000, score: 0, e: 0.16\n",
            "episode: 26/5000, score: 0, e: 0.16\n",
            "episode: 27/5000, score: 5, e: 0.16\n",
            "episode: 28/5000, score: 0, e: 0.16\n",
            "episode: 29/5000, score: 3, e: 0.16\n",
            "episode: 30/5000, score: 9, e: 0.16\n",
            "episode: 31/5000, score: 18, e: 0.16\n",
            "episode: 32/5000, score: 1, e: 0.15\n",
            "episode: 33/5000, score: 12, e: 0.15\n",
            "episode: 34/5000, score: 4, e: 0.15\n",
            "episode: 35/5000, score: 23, e: 0.14\n",
            "episode: 36/5000, score: 1, e: 0.14\n",
            "episode: 37/5000, score: 25, e: 0.14\n",
            "episode: 38/5000, score: 0, e: 0.14\n",
            "episode: 39/5000, score: 10, e: 0.14\n",
            "episode: 40/5000, score: 0, e: 0.14\n",
            "episode: 41/5000, score: 4, e: 0.13\n",
            "episode: 42/5000, score: 5, e: 0.13\n",
            "episode: 43/5000, score: 0, e: 0.13\n",
            "episode: 44/5000, score: 3, e: 0.13\n",
            "episode: 45/5000, score: 3, e: 0.13\n",
            "episode: 46/5000, score: 1, e: 0.13\n",
            "episode: 47/5000, score: 23, e: 0.12\n",
            "episode: 48/5000, score: 0, e: 0.12\n",
            "episode: 49/5000, score: 0, e: 0.12\n",
            "episode: 50/5000, score: 4, e: 0.12\n",
            "episode: 51/5000, score: 9, e: 0.12\n",
            "episode: 52/5000, score: 1, e: 0.12\n",
            "episode: 53/5000, score: 14, e: 0.12\n",
            "episode: 54/5000, score: 0, e: 0.12\n",
            "episode: 55/5000, score: 15, e: 0.11\n",
            "episode: 56/5000, score: 0, e: 0.11\n",
            "episode: 57/5000, score: 9, e: 0.11\n",
            "episode: 58/5000, score: 0, e: 0.11\n",
            "episode: 59/5000, score: 17, e: 0.1\n",
            "episode: 60/5000, score: 1, e: 0.1\n",
            "episode: 61/5000, score: 0, e: 0.1\n",
            "episode: 62/5000, score: 0, e: 0.1\n",
            "episode: 63/5000, score: 6, e: 0.1\n",
            "episode: 64/5000, score: 26, e: 0.092\n",
            "episode: 65/5000, score: 2, e: 0.092\n",
            "episode: 66/5000, score: 33, e: 0.082\n",
            "episode: 67/5000, score: 0, e: 0.082\n",
            "episode: 68/5000, score: 0, e: 0.082\n",
            "episode: 69/5000, score: 19, e: 0.077\n",
            "episode: 70/5000, score: 1, e: 0.077\n",
            "episode: 71/5000, score: 86, e: 0.057\n",
            "episode: 72/5000, score: 23, e: 0.052\n",
            "episode: 73/5000, score: 5, e: 0.051\n",
            "episode: 74/5000, score: 0, e: 0.051\n",
            "episode: 75/5000, score: 11, e: 0.049\n",
            "episode: 76/5000, score: 44, e: 0.042\n",
            "episode: 77/5000, score: 10, e: 0.04\n",
            "episode: 78/5000, score: 1, e: 0.04\n",
            "episode: 79/5000, score: 58, e: 0.032\n",
            "episode: 80/5000, score: 12, e: 0.03\n",
            "episode: 81/5000, score: 13, e: 0.029\n",
            "episode: 82/5000, score: 0, e: 0.029\n",
            "episode: 83/5000, score: 1, e: 0.029\n",
            "episode: 84/5000, score: 8, e: 0.028\n",
            "episode: 85/5000, score: 2, e: 0.027\n",
            "episode: 86/5000, score: 26, e: 0.024\n",
            "episode: 87/5000, score: 0, e: 0.024\n",
            "episode: 88/5000, score: 0, e: 0.024\n",
            "episode: 89/5000, score: 4, e: 0.024\n",
            "episode: 90/5000, score: 1, e: 0.024\n",
            "episode: 91/5000, score: 0, e: 0.024\n",
            "episode: 92/5000, score: 7, e: 0.023\n",
            "episode: 93/5000, score: 16, e: 0.022\n",
            "episode: 94/5000, score: 2, e: 0.021\n",
            "episode: 95/5000, score: 0, e: 0.021\n",
            "episode: 96/5000, score: 9, e: 0.02\n",
            "episode: 97/5000, score: 10, e: 0.019\n",
            "episode: 98/5000, score: 0, e: 0.019\n",
            "episode: 99/5000, score: 0, e: 0.019\n",
            "episode: 100/5000, score: 63, e: 0.014\n",
            "episode: 101/5000, score: 1, e: 0.014\n",
            "episode: 102/5000, score: 2, e: 0.014\n",
            "episode: 103/5000, score: 0, e: 0.014\n",
            "episode: 104/5000, score: 0, e: 0.014\n",
            "episode: 105/5000, score: 0, e: 0.014\n"
          ]
        },
        {
          "output_type": "error",
          "ename": "KeyboardInterrupt",
          "evalue": "ignored",
          "traceback": [
            "\u001b[0;31m---------------------------------------------------------------------------\u001b[0m",
            "\u001b[0;31mKeyboardInterrupt\u001b[0m                         Traceback (most recent call last)",
            "\u001b[0;32m<ipython-input-16-35dd9d32d62c>\u001b[0m in \u001b[0;36m<module>\u001b[0;34m()\u001b[0m\n\u001b[1;32m     33\u001b[0m \u001b[0;34m\u001b[0m\u001b[0m\n\u001b[1;32m     34\u001b[0m         \u001b[0;32mif\u001b[0m \u001b[0mlen\u001b[0m\u001b[0;34m(\u001b[0m\u001b[0mmemory\u001b[0m\u001b[0;34m)\u001b[0m \u001b[0;34m>\u001b[0m \u001b[0mbatch_size\u001b[0m\u001b[0;34m:\u001b[0m\u001b[0;34m\u001b[0m\u001b[0;34m\u001b[0m\u001b[0m\n\u001b[0;32m---> 35\u001b[0;31m             \u001b[0mreplay\u001b[0m\u001b[0;34m(\u001b[0m\u001b[0mmodel\u001b[0m\u001b[0;34m,\u001b[0m \u001b[0mbatch_size\u001b[0m\u001b[0;34m)\u001b[0m\u001b[0;34m\u001b[0m\u001b[0;34m\u001b[0m\u001b[0m\n\u001b[0m\u001b[1;32m     36\u001b[0m             \u001b[0mepsilon_0\u001b[0m \u001b[0;34m=\u001b[0m \u001b[0mepsilon_0\u001b[0m\u001b[0;34m/\u001b[0m \u001b[0;34m(\u001b[0m\u001b[0;36m1\u001b[0m \u001b[0;34m+\u001b[0m \u001b[0mbeta\u001b[0m \u001b[0;34m*\u001b[0m \u001b[0me\u001b[0m\u001b[0;34m)\u001b[0m\u001b[0;34m\u001b[0m\u001b[0;34m\u001b[0m\u001b[0m\n\u001b[1;32m     37\u001b[0m \u001b[0;34m\u001b[0m\u001b[0m\n",
            "\u001b[0;32m<ipython-input-11-60492fb4ba25>\u001b[0m in \u001b[0;36mreplay\u001b[0;34m(model, batch_size)\u001b[0m\n\u001b[1;32m     10\u001b[0m         \u001b[0mtarget_f\u001b[0m \u001b[0;34m=\u001b[0m \u001b[0mmodel\u001b[0m\u001b[0;34m.\u001b[0m\u001b[0mpredict\u001b[0m\u001b[0;34m(\u001b[0m\u001b[0mX\u001b[0m\u001b[0;34m)\u001b[0m\u001b[0;34m\u001b[0m\u001b[0;34m\u001b[0m\u001b[0m\n\u001b[1;32m     11\u001b[0m         \u001b[0mtarget_f\u001b[0m\u001b[0;34m[\u001b[0m\u001b[0;36m0\u001b[0m\u001b[0;34m]\u001b[0m\u001b[0;34m[\u001b[0m\u001b[0ma\u001b[0m\u001b[0;34m]\u001b[0m \u001b[0;34m=\u001b[0m \u001b[0mtarget\u001b[0m\u001b[0;34m\u001b[0m\u001b[0;34m\u001b[0m\u001b[0m\n\u001b[0;32m---> 12\u001b[0;31m         \u001b[0mmodel\u001b[0m\u001b[0;34m.\u001b[0m\u001b[0mfit\u001b[0m\u001b[0;34m(\u001b[0m\u001b[0mX\u001b[0m\u001b[0;34m,\u001b[0m \u001b[0mtarget_f\u001b[0m\u001b[0;34m,\u001b[0m \u001b[0mepochs\u001b[0m\u001b[0;34m=\u001b[0m\u001b[0;36m1\u001b[0m\u001b[0;34m,\u001b[0m \u001b[0mverbose\u001b[0m\u001b[0;34m=\u001b[0m\u001b[0;36m0\u001b[0m\u001b[0;34m)\u001b[0m\u001b[0;34m\u001b[0m\u001b[0;34m\u001b[0m\u001b[0m\n\u001b[0m\u001b[1;32m     13\u001b[0m \u001b[0;34m\u001b[0m\u001b[0m\n",
            "\u001b[0;32m/usr/local/lib/python3.7/dist-packages/keras/utils/traceback_utils.py\u001b[0m in \u001b[0;36merror_handler\u001b[0;34m(*args, **kwargs)\u001b[0m\n\u001b[1;32m     62\u001b[0m     \u001b[0mfiltered_tb\u001b[0m \u001b[0;34m=\u001b[0m \u001b[0;32mNone\u001b[0m\u001b[0;34m\u001b[0m\u001b[0;34m\u001b[0m\u001b[0m\n\u001b[1;32m     63\u001b[0m     \u001b[0;32mtry\u001b[0m\u001b[0;34m:\u001b[0m\u001b[0;34m\u001b[0m\u001b[0;34m\u001b[0m\u001b[0m\n\u001b[0;32m---> 64\u001b[0;31m       \u001b[0;32mreturn\u001b[0m \u001b[0mfn\u001b[0m\u001b[0;34m(\u001b[0m\u001b[0;34m*\u001b[0m\u001b[0margs\u001b[0m\u001b[0;34m,\u001b[0m \u001b[0;34m**\u001b[0m\u001b[0mkwargs\u001b[0m\u001b[0;34m)\u001b[0m\u001b[0;34m\u001b[0m\u001b[0;34m\u001b[0m\u001b[0m\n\u001b[0m\u001b[1;32m     65\u001b[0m     \u001b[0;32mexcept\u001b[0m \u001b[0mException\u001b[0m \u001b[0;32mas\u001b[0m \u001b[0me\u001b[0m\u001b[0;34m:\u001b[0m  \u001b[0;31m# pylint: disable=broad-except\u001b[0m\u001b[0;34m\u001b[0m\u001b[0;34m\u001b[0m\u001b[0m\n\u001b[1;32m     66\u001b[0m       \u001b[0mfiltered_tb\u001b[0m \u001b[0;34m=\u001b[0m \u001b[0m_process_traceback_frames\u001b[0m\u001b[0;34m(\u001b[0m\u001b[0me\u001b[0m\u001b[0;34m.\u001b[0m\u001b[0m__traceback__\u001b[0m\u001b[0;34m)\u001b[0m\u001b[0;34m\u001b[0m\u001b[0;34m\u001b[0m\u001b[0m\n",
            "\u001b[0;32m/usr/local/lib/python3.7/dist-packages/keras/engine/training.py\u001b[0m in \u001b[0;36mfit\u001b[0;34m(self, x, y, batch_size, epochs, verbose, callbacks, validation_split, validation_data, shuffle, class_weight, sample_weight, initial_epoch, steps_per_epoch, validation_steps, validation_batch_size, validation_freq, max_queue_size, workers, use_multiprocessing)\u001b[0m\n\u001b[1;32m   1346\u001b[0m           \u001b[0muse_multiprocessing\u001b[0m\u001b[0;34m=\u001b[0m\u001b[0muse_multiprocessing\u001b[0m\u001b[0;34m,\u001b[0m\u001b[0;34m\u001b[0m\u001b[0;34m\u001b[0m\u001b[0m\n\u001b[1;32m   1347\u001b[0m           \u001b[0mmodel\u001b[0m\u001b[0;34m=\u001b[0m\u001b[0mself\u001b[0m\u001b[0;34m,\u001b[0m\u001b[0;34m\u001b[0m\u001b[0;34m\u001b[0m\u001b[0m\n\u001b[0;32m-> 1348\u001b[0;31m           steps_per_execution=self._steps_per_execution)\n\u001b[0m\u001b[1;32m   1349\u001b[0m \u001b[0;34m\u001b[0m\u001b[0m\n\u001b[1;32m   1350\u001b[0m       \u001b[0;31m# Container that configures and calls `tf.keras.Callback`s.\u001b[0m\u001b[0;34m\u001b[0m\u001b[0;34m\u001b[0m\u001b[0;34m\u001b[0m\u001b[0m\n",
            "\u001b[0;32m/usr/local/lib/python3.7/dist-packages/keras/engine/data_adapter.py\u001b[0m in \u001b[0;36mget_data_handler\u001b[0;34m(*args, **kwargs)\u001b[0m\n\u001b[1;32m   1397\u001b[0m   \u001b[0;32mif\u001b[0m \u001b[0mgetattr\u001b[0m\u001b[0;34m(\u001b[0m\u001b[0mkwargs\u001b[0m\u001b[0;34m[\u001b[0m\u001b[0;34m\"model\"\u001b[0m\u001b[0;34m]\u001b[0m\u001b[0;34m,\u001b[0m \u001b[0;34m\"_cluster_coordinator\"\u001b[0m\u001b[0;34m,\u001b[0m \u001b[0;32mNone\u001b[0m\u001b[0;34m)\u001b[0m\u001b[0;34m:\u001b[0m\u001b[0;34m\u001b[0m\u001b[0;34m\u001b[0m\u001b[0m\n\u001b[1;32m   1398\u001b[0m     \u001b[0;32mreturn\u001b[0m \u001b[0m_ClusterCoordinatorDataHandler\u001b[0m\u001b[0;34m(\u001b[0m\u001b[0;34m*\u001b[0m\u001b[0margs\u001b[0m\u001b[0;34m,\u001b[0m \u001b[0;34m**\u001b[0m\u001b[0mkwargs\u001b[0m\u001b[0;34m)\u001b[0m\u001b[0;34m\u001b[0m\u001b[0;34m\u001b[0m\u001b[0m\n\u001b[0;32m-> 1399\u001b[0;31m   \u001b[0;32mreturn\u001b[0m \u001b[0mDataHandler\u001b[0m\u001b[0;34m(\u001b[0m\u001b[0;34m*\u001b[0m\u001b[0margs\u001b[0m\u001b[0;34m,\u001b[0m \u001b[0;34m**\u001b[0m\u001b[0mkwargs\u001b[0m\u001b[0;34m)\u001b[0m\u001b[0;34m\u001b[0m\u001b[0;34m\u001b[0m\u001b[0m\n\u001b[0m\u001b[1;32m   1400\u001b[0m \u001b[0;34m\u001b[0m\u001b[0m\n\u001b[1;32m   1401\u001b[0m \u001b[0;34m\u001b[0m\u001b[0m\n",
            "\u001b[0;32m/usr/local/lib/python3.7/dist-packages/keras/engine/data_adapter.py\u001b[0m in \u001b[0;36m__init__\u001b[0;34m(self, x, y, sample_weight, batch_size, steps_per_epoch, initial_epoch, epochs, shuffle, class_weight, max_queue_size, workers, use_multiprocessing, model, steps_per_execution, distribute)\u001b[0m\n\u001b[1;32m   1159\u001b[0m         \u001b[0muse_multiprocessing\u001b[0m\u001b[0;34m=\u001b[0m\u001b[0muse_multiprocessing\u001b[0m\u001b[0;34m,\u001b[0m\u001b[0;34m\u001b[0m\u001b[0;34m\u001b[0m\u001b[0m\n\u001b[1;32m   1160\u001b[0m         \u001b[0mdistribution_strategy\u001b[0m\u001b[0;34m=\u001b[0m\u001b[0mtf\u001b[0m\u001b[0;34m.\u001b[0m\u001b[0mdistribute\u001b[0m\u001b[0;34m.\u001b[0m\u001b[0mget_strategy\u001b[0m\u001b[0;34m(\u001b[0m\u001b[0;34m)\u001b[0m\u001b[0;34m,\u001b[0m\u001b[0;34m\u001b[0m\u001b[0;34m\u001b[0m\u001b[0m\n\u001b[0;32m-> 1161\u001b[0;31m         model=model)\n\u001b[0m\u001b[1;32m   1162\u001b[0m \u001b[0;34m\u001b[0m\u001b[0m\n\u001b[1;32m   1163\u001b[0m     \u001b[0mstrategy\u001b[0m \u001b[0;34m=\u001b[0m \u001b[0mtf\u001b[0m\u001b[0;34m.\u001b[0m\u001b[0mdistribute\u001b[0m\u001b[0;34m.\u001b[0m\u001b[0mget_strategy\u001b[0m\u001b[0;34m(\u001b[0m\u001b[0;34m)\u001b[0m\u001b[0;34m\u001b[0m\u001b[0;34m\u001b[0m\u001b[0m\n",
            "\u001b[0;32m/usr/local/lib/python3.7/dist-packages/keras/engine/data_adapter.py\u001b[0m in \u001b[0;36m__init__\u001b[0;34m(self, x, y, sample_weights, sample_weight_modes, batch_size, epochs, steps, shuffle, **kwargs)\u001b[0m\n\u001b[1;32m    324\u001b[0m       \u001b[0;32mreturn\u001b[0m \u001b[0mflat_dataset\u001b[0m\u001b[0;34m\u001b[0m\u001b[0;34m\u001b[0m\u001b[0m\n\u001b[1;32m    325\u001b[0m \u001b[0;34m\u001b[0m\u001b[0m\n\u001b[0;32m--> 326\u001b[0;31m     \u001b[0mindices_dataset\u001b[0m \u001b[0;34m=\u001b[0m \u001b[0mindices_dataset\u001b[0m\u001b[0;34m.\u001b[0m\u001b[0mflat_map\u001b[0m\u001b[0;34m(\u001b[0m\u001b[0mslice_batch_indices\u001b[0m\u001b[0;34m)\u001b[0m\u001b[0;34m\u001b[0m\u001b[0;34m\u001b[0m\u001b[0m\n\u001b[0m\u001b[1;32m    327\u001b[0m \u001b[0;34m\u001b[0m\u001b[0m\n\u001b[1;32m    328\u001b[0m     \u001b[0mdataset\u001b[0m \u001b[0;34m=\u001b[0m \u001b[0mself\u001b[0m\u001b[0;34m.\u001b[0m\u001b[0mslice_inputs\u001b[0m\u001b[0;34m(\u001b[0m\u001b[0mindices_dataset\u001b[0m\u001b[0;34m,\u001b[0m \u001b[0minputs\u001b[0m\u001b[0;34m)\u001b[0m\u001b[0;34m\u001b[0m\u001b[0;34m\u001b[0m\u001b[0m\n",
            "\u001b[0;32m/usr/local/lib/python3.7/dist-packages/tensorflow/python/data/ops/dataset_ops.py\u001b[0m in \u001b[0;36mflat_map\u001b[0;34m(self, map_func, name)\u001b[0m\n\u001b[1;32m   2058\u001b[0m       \u001b[0mDataset\u001b[0m\u001b[0;34m:\u001b[0m \u001b[0mA\u001b[0m\u001b[0;31m \u001b[0m\u001b[0;31m`\u001b[0m\u001b[0mDataset\u001b[0m\u001b[0;31m`\u001b[0m\u001b[0;34m.\u001b[0m\u001b[0;34m\u001b[0m\u001b[0;34m\u001b[0m\u001b[0m\n\u001b[1;32m   2059\u001b[0m     \"\"\"\n\u001b[0;32m-> 2060\u001b[0;31m     \u001b[0;32mreturn\u001b[0m \u001b[0mFlatMapDataset\u001b[0m\u001b[0;34m(\u001b[0m\u001b[0mself\u001b[0m\u001b[0;34m,\u001b[0m \u001b[0mmap_func\u001b[0m\u001b[0;34m,\u001b[0m \u001b[0mname\u001b[0m\u001b[0;34m=\u001b[0m\u001b[0mname\u001b[0m\u001b[0;34m)\u001b[0m\u001b[0;34m\u001b[0m\u001b[0;34m\u001b[0m\u001b[0m\n\u001b[0m\u001b[1;32m   2061\u001b[0m \u001b[0;34m\u001b[0m\u001b[0m\n\u001b[1;32m   2062\u001b[0m   def interleave(self,\n",
            "\u001b[0;32m/usr/local/lib/python3.7/dist-packages/tensorflow/python/data/ops/dataset_ops.py\u001b[0m in \u001b[0;36m__init__\u001b[0;34m(self, input_dataset, map_func, name)\u001b[0m\n\u001b[1;32m   5278\u001b[0m     \u001b[0mself\u001b[0m\u001b[0;34m.\u001b[0m\u001b[0m_input_dataset\u001b[0m \u001b[0;34m=\u001b[0m \u001b[0minput_dataset\u001b[0m\u001b[0;34m\u001b[0m\u001b[0;34m\u001b[0m\u001b[0m\n\u001b[1;32m   5279\u001b[0m     self._map_func = structured_function.StructuredFunctionWrapper(\n\u001b[0;32m-> 5280\u001b[0;31m         map_func, self._transformation_name(), dataset=input_dataset)\n\u001b[0m\u001b[1;32m   5281\u001b[0m     \u001b[0;32mif\u001b[0m \u001b[0;32mnot\u001b[0m \u001b[0misinstance\u001b[0m\u001b[0;34m(\u001b[0m\u001b[0mself\u001b[0m\u001b[0;34m.\u001b[0m\u001b[0m_map_func\u001b[0m\u001b[0;34m.\u001b[0m\u001b[0moutput_structure\u001b[0m\u001b[0;34m,\u001b[0m \u001b[0mDatasetSpec\u001b[0m\u001b[0;34m)\u001b[0m\u001b[0;34m:\u001b[0m\u001b[0;34m\u001b[0m\u001b[0;34m\u001b[0m\u001b[0m\n\u001b[1;32m   5282\u001b[0m       raise TypeError(\n",
            "\u001b[0;32m/usr/local/lib/python3.7/dist-packages/tensorflow/python/data/ops/structured_function.py\u001b[0m in \u001b[0;36m__init__\u001b[0;34m(self, func, transformation_name, dataset, input_classes, input_shapes, input_types, input_structure, add_to_graph, use_legacy_function, defun_kwargs)\u001b[0m\n\u001b[1;32m    269\u001b[0m         \u001b[0mfn_factory\u001b[0m \u001b[0;34m=\u001b[0m \u001b[0mtrace_tf_function\u001b[0m\u001b[0;34m(\u001b[0m\u001b[0mdefun_kwargs\u001b[0m\u001b[0;34m)\u001b[0m\u001b[0;34m\u001b[0m\u001b[0;34m\u001b[0m\u001b[0m\n\u001b[1;32m    270\u001b[0m \u001b[0;34m\u001b[0m\u001b[0m\n\u001b[0;32m--> 271\u001b[0;31m     \u001b[0mself\u001b[0m\u001b[0;34m.\u001b[0m\u001b[0m_function\u001b[0m \u001b[0;34m=\u001b[0m \u001b[0mfn_factory\u001b[0m\u001b[0;34m(\u001b[0m\u001b[0;34m)\u001b[0m\u001b[0;34m\u001b[0m\u001b[0;34m\u001b[0m\u001b[0m\n\u001b[0m\u001b[1;32m    272\u001b[0m     \u001b[0;31m# There is no graph to add in eager mode.\u001b[0m\u001b[0;34m\u001b[0m\u001b[0;34m\u001b[0m\u001b[0;34m\u001b[0m\u001b[0m\n\u001b[1;32m    273\u001b[0m     \u001b[0madd_to_graph\u001b[0m \u001b[0;34m&=\u001b[0m \u001b[0;32mnot\u001b[0m \u001b[0mcontext\u001b[0m\u001b[0;34m.\u001b[0m\u001b[0mexecuting_eagerly\u001b[0m\u001b[0;34m(\u001b[0m\u001b[0;34m)\u001b[0m\u001b[0;34m\u001b[0m\u001b[0;34m\u001b[0m\u001b[0m\n",
            "\u001b[0;32m/usr/local/lib/python3.7/dist-packages/tensorflow/python/eager/function.py\u001b[0m in \u001b[0;36mget_concrete_function\u001b[0;34m(self, *args, **kwargs)\u001b[0m\n\u001b[1;32m   3069\u001b[0m     \"\"\"\n\u001b[1;32m   3070\u001b[0m     graph_function = self._get_concrete_function_garbage_collected(\n\u001b[0;32m-> 3071\u001b[0;31m         *args, **kwargs)\n\u001b[0m\u001b[1;32m   3072\u001b[0m     \u001b[0mgraph_function\u001b[0m\u001b[0;34m.\u001b[0m\u001b[0m_garbage_collector\u001b[0m\u001b[0;34m.\u001b[0m\u001b[0mrelease\u001b[0m\u001b[0;34m(\u001b[0m\u001b[0;34m)\u001b[0m  \u001b[0;31m# pylint: disable=protected-access\u001b[0m\u001b[0;34m\u001b[0m\u001b[0;34m\u001b[0m\u001b[0m\n\u001b[1;32m   3073\u001b[0m     \u001b[0;32mreturn\u001b[0m \u001b[0mgraph_function\u001b[0m\u001b[0;34m\u001b[0m\u001b[0;34m\u001b[0m\u001b[0m\n",
            "\u001b[0;32m/usr/local/lib/python3.7/dist-packages/tensorflow/python/eager/function.py\u001b[0m in \u001b[0;36m_get_concrete_function_garbage_collected\u001b[0;34m(self, *args, **kwargs)\u001b[0m\n\u001b[1;32m   3034\u001b[0m       \u001b[0margs\u001b[0m\u001b[0;34m,\u001b[0m \u001b[0mkwargs\u001b[0m \u001b[0;34m=\u001b[0m \u001b[0;32mNone\u001b[0m\u001b[0;34m,\u001b[0m \u001b[0;32mNone\u001b[0m\u001b[0;34m\u001b[0m\u001b[0;34m\u001b[0m\u001b[0m\n\u001b[1;32m   3035\u001b[0m     \u001b[0;32mwith\u001b[0m \u001b[0mself\u001b[0m\u001b[0;34m.\u001b[0m\u001b[0m_lock\u001b[0m\u001b[0;34m:\u001b[0m\u001b[0;34m\u001b[0m\u001b[0;34m\u001b[0m\u001b[0m\n\u001b[0;32m-> 3036\u001b[0;31m       \u001b[0mgraph_function\u001b[0m\u001b[0;34m,\u001b[0m \u001b[0m_\u001b[0m \u001b[0;34m=\u001b[0m \u001b[0mself\u001b[0m\u001b[0;34m.\u001b[0m\u001b[0m_maybe_define_function\u001b[0m\u001b[0;34m(\u001b[0m\u001b[0margs\u001b[0m\u001b[0;34m,\u001b[0m \u001b[0mkwargs\u001b[0m\u001b[0;34m)\u001b[0m\u001b[0;34m\u001b[0m\u001b[0;34m\u001b[0m\u001b[0m\n\u001b[0m\u001b[1;32m   3037\u001b[0m       \u001b[0mseen_names\u001b[0m \u001b[0;34m=\u001b[0m \u001b[0mset\u001b[0m\u001b[0;34m(\u001b[0m\u001b[0;34m)\u001b[0m\u001b[0;34m\u001b[0m\u001b[0;34m\u001b[0m\u001b[0m\n\u001b[1;32m   3038\u001b[0m       captured = object_identity.ObjectIdentitySet(\n",
            "\u001b[0;32m/usr/local/lib/python3.7/dist-packages/tensorflow/python/eager/function.py\u001b[0m in \u001b[0;36m_maybe_define_function\u001b[0;34m(self, args, kwargs)\u001b[0m\n\u001b[1;32m   3290\u001b[0m \u001b[0;34m\u001b[0m\u001b[0m\n\u001b[1;32m   3291\u001b[0m           \u001b[0mself\u001b[0m\u001b[0;34m.\u001b[0m\u001b[0m_function_cache\u001b[0m\u001b[0;34m.\u001b[0m\u001b[0madd_call_context\u001b[0m\u001b[0;34m(\u001b[0m\u001b[0mcache_key\u001b[0m\u001b[0;34m.\u001b[0m\u001b[0mcall_context\u001b[0m\u001b[0;34m)\u001b[0m\u001b[0;34m\u001b[0m\u001b[0;34m\u001b[0m\u001b[0m\n\u001b[0;32m-> 3292\u001b[0;31m           \u001b[0mgraph_function\u001b[0m \u001b[0;34m=\u001b[0m \u001b[0mself\u001b[0m\u001b[0;34m.\u001b[0m\u001b[0m_create_graph_function\u001b[0m\u001b[0;34m(\u001b[0m\u001b[0margs\u001b[0m\u001b[0;34m,\u001b[0m \u001b[0mkwargs\u001b[0m\u001b[0;34m)\u001b[0m\u001b[0;34m\u001b[0m\u001b[0;34m\u001b[0m\u001b[0m\n\u001b[0m\u001b[1;32m   3293\u001b[0m           self._function_cache.add(cache_key, cache_key_deletion_observer,\n\u001b[1;32m   3294\u001b[0m                                    graph_function)\n",
            "\u001b[0;32m/usr/local/lib/python3.7/dist-packages/tensorflow/python/eager/function.py\u001b[0m in \u001b[0;36m_create_graph_function\u001b[0;34m(self, args, kwargs, override_flat_arg_shapes)\u001b[0m\n\u001b[1;32m   3138\u001b[0m             \u001b[0marg_names\u001b[0m\u001b[0;34m=\u001b[0m\u001b[0marg_names\u001b[0m\u001b[0;34m,\u001b[0m\u001b[0;34m\u001b[0m\u001b[0;34m\u001b[0m\u001b[0m\n\u001b[1;32m   3139\u001b[0m             \u001b[0moverride_flat_arg_shapes\u001b[0m\u001b[0;34m=\u001b[0m\u001b[0moverride_flat_arg_shapes\u001b[0m\u001b[0;34m,\u001b[0m\u001b[0;34m\u001b[0m\u001b[0;34m\u001b[0m\u001b[0m\n\u001b[0;32m-> 3140\u001b[0;31m             capture_by_value=self._capture_by_value),\n\u001b[0m\u001b[1;32m   3141\u001b[0m         \u001b[0mself\u001b[0m\u001b[0;34m.\u001b[0m\u001b[0m_function_attributes\u001b[0m\u001b[0;34m,\u001b[0m\u001b[0;34m\u001b[0m\u001b[0;34m\u001b[0m\u001b[0m\n\u001b[1;32m   3142\u001b[0m         \u001b[0mfunction_spec\u001b[0m\u001b[0;34m=\u001b[0m\u001b[0mself\u001b[0m\u001b[0;34m.\u001b[0m\u001b[0mfunction_spec\u001b[0m\u001b[0;34m,\u001b[0m\u001b[0;34m\u001b[0m\u001b[0;34m\u001b[0m\u001b[0m\n",
            "\u001b[0;32m/usr/local/lib/python3.7/dist-packages/tensorflow/python/framework/func_graph.py\u001b[0m in \u001b[0;36mfunc_graph_from_py_func\u001b[0;34m(name, python_func, args, kwargs, signature, func_graph, autograph, autograph_options, add_control_dependencies, arg_names, op_return_value, collections, capture_by_value, override_flat_arg_shapes, acd_record_initial_resource_uses)\u001b[0m\n\u001b[1;32m   1159\u001b[0m         \u001b[0m_\u001b[0m\u001b[0;34m,\u001b[0m \u001b[0moriginal_func\u001b[0m \u001b[0;34m=\u001b[0m \u001b[0mtf_decorator\u001b[0m\u001b[0;34m.\u001b[0m\u001b[0munwrap\u001b[0m\u001b[0;34m(\u001b[0m\u001b[0mpython_func\u001b[0m\u001b[0;34m)\u001b[0m\u001b[0;34m\u001b[0m\u001b[0;34m\u001b[0m\u001b[0m\n\u001b[1;32m   1160\u001b[0m \u001b[0;34m\u001b[0m\u001b[0m\n\u001b[0;32m-> 1161\u001b[0;31m       \u001b[0mfunc_outputs\u001b[0m \u001b[0;34m=\u001b[0m \u001b[0mpython_func\u001b[0m\u001b[0;34m(\u001b[0m\u001b[0;34m*\u001b[0m\u001b[0mfunc_args\u001b[0m\u001b[0;34m,\u001b[0m \u001b[0;34m**\u001b[0m\u001b[0mfunc_kwargs\u001b[0m\u001b[0;34m)\u001b[0m\u001b[0;34m\u001b[0m\u001b[0;34m\u001b[0m\u001b[0m\n\u001b[0m\u001b[1;32m   1162\u001b[0m \u001b[0;34m\u001b[0m\u001b[0m\n\u001b[1;32m   1163\u001b[0m       \u001b[0;31m# invariant: `func_outputs` contains only Tensors, CompositeTensors,\u001b[0m\u001b[0;34m\u001b[0m\u001b[0;34m\u001b[0m\u001b[0;34m\u001b[0m\u001b[0m\n",
            "\u001b[0;32m/usr/local/lib/python3.7/dist-packages/tensorflow/python/data/ops/structured_function.py\u001b[0m in \u001b[0;36mwrapped_fn\u001b[0;34m(*args)\u001b[0m\n\u001b[1;32m    246\u001b[0m           attributes=defun_kwargs)\n\u001b[1;32m    247\u001b[0m       \u001b[0;32mdef\u001b[0m \u001b[0mwrapped_fn\u001b[0m\u001b[0;34m(\u001b[0m\u001b[0;34m*\u001b[0m\u001b[0margs\u001b[0m\u001b[0;34m)\u001b[0m\u001b[0;34m:\u001b[0m  \u001b[0;31m# pylint: disable=missing-docstring\u001b[0m\u001b[0;34m\u001b[0m\u001b[0;34m\u001b[0m\u001b[0m\n\u001b[0;32m--> 248\u001b[0;31m         \u001b[0mret\u001b[0m \u001b[0;34m=\u001b[0m \u001b[0mwrapper_helper\u001b[0m\u001b[0;34m(\u001b[0m\u001b[0;34m*\u001b[0m\u001b[0margs\u001b[0m\u001b[0;34m)\u001b[0m\u001b[0;34m\u001b[0m\u001b[0;34m\u001b[0m\u001b[0m\n\u001b[0m\u001b[1;32m    249\u001b[0m         \u001b[0mret\u001b[0m \u001b[0;34m=\u001b[0m \u001b[0mstructure\u001b[0m\u001b[0;34m.\u001b[0m\u001b[0mto_tensor_list\u001b[0m\u001b[0;34m(\u001b[0m\u001b[0mself\u001b[0m\u001b[0;34m.\u001b[0m\u001b[0m_output_structure\u001b[0m\u001b[0;34m,\u001b[0m \u001b[0mret\u001b[0m\u001b[0;34m)\u001b[0m\u001b[0;34m\u001b[0m\u001b[0;34m\u001b[0m\u001b[0m\n\u001b[1;32m    250\u001b[0m         \u001b[0;32mreturn\u001b[0m \u001b[0;34m[\u001b[0m\u001b[0mops\u001b[0m\u001b[0;34m.\u001b[0m\u001b[0mconvert_to_tensor\u001b[0m\u001b[0;34m(\u001b[0m\u001b[0mt\u001b[0m\u001b[0;34m)\u001b[0m \u001b[0;32mfor\u001b[0m \u001b[0mt\u001b[0m \u001b[0;32min\u001b[0m \u001b[0mret\u001b[0m\u001b[0;34m]\u001b[0m\u001b[0;34m\u001b[0m\u001b[0;34m\u001b[0m\u001b[0m\n",
            "\u001b[0;32m/usr/local/lib/python3.7/dist-packages/tensorflow/python/data/ops/structured_function.py\u001b[0m in \u001b[0;36mwrapper_helper\u001b[0;34m(*args)\u001b[0m\n\u001b[1;32m    175\u001b[0m       \u001b[0;32mif\u001b[0m \u001b[0;32mnot\u001b[0m \u001b[0m_should_unpack\u001b[0m\u001b[0;34m(\u001b[0m\u001b[0mnested_args\u001b[0m\u001b[0;34m)\u001b[0m\u001b[0;34m:\u001b[0m\u001b[0;34m\u001b[0m\u001b[0;34m\u001b[0m\u001b[0m\n\u001b[1;32m    176\u001b[0m         \u001b[0mnested_args\u001b[0m \u001b[0;34m=\u001b[0m \u001b[0;34m(\u001b[0m\u001b[0mnested_args\u001b[0m\u001b[0;34m,\u001b[0m\u001b[0;34m)\u001b[0m\u001b[0;34m\u001b[0m\u001b[0;34m\u001b[0m\u001b[0m\n\u001b[0;32m--> 177\u001b[0;31m       \u001b[0mret\u001b[0m \u001b[0;34m=\u001b[0m \u001b[0mautograph\u001b[0m\u001b[0;34m.\u001b[0m\u001b[0mtf_convert\u001b[0m\u001b[0;34m(\u001b[0m\u001b[0mself\u001b[0m\u001b[0;34m.\u001b[0m\u001b[0m_func\u001b[0m\u001b[0;34m,\u001b[0m \u001b[0mag_ctx\u001b[0m\u001b[0;34m)\u001b[0m\u001b[0;34m(\u001b[0m\u001b[0;34m*\u001b[0m\u001b[0mnested_args\u001b[0m\u001b[0;34m)\u001b[0m\u001b[0;34m\u001b[0m\u001b[0;34m\u001b[0m\u001b[0m\n\u001b[0m\u001b[1;32m    178\u001b[0m       \u001b[0;32mif\u001b[0m \u001b[0m_should_pack\u001b[0m\u001b[0;34m(\u001b[0m\u001b[0mret\u001b[0m\u001b[0;34m)\u001b[0m\u001b[0;34m:\u001b[0m\u001b[0;34m\u001b[0m\u001b[0;34m\u001b[0m\u001b[0m\n\u001b[1;32m    179\u001b[0m         \u001b[0mret\u001b[0m \u001b[0;34m=\u001b[0m \u001b[0mtuple\u001b[0m\u001b[0;34m(\u001b[0m\u001b[0mret\u001b[0m\u001b[0;34m)\u001b[0m\u001b[0;34m\u001b[0m\u001b[0;34m\u001b[0m\u001b[0m\n",
            "\u001b[0;32m/usr/local/lib/python3.7/dist-packages/tensorflow/python/autograph/impl/api.py\u001b[0m in \u001b[0;36mwrapper\u001b[0;34m(*args, **kwargs)\u001b[0m\n\u001b[1;32m    687\u001b[0m       \u001b[0;32mtry\u001b[0m\u001b[0;34m:\u001b[0m\u001b[0;34m\u001b[0m\u001b[0;34m\u001b[0m\u001b[0m\n\u001b[1;32m    688\u001b[0m         \u001b[0;32mwith\u001b[0m \u001b[0mconversion_ctx\u001b[0m\u001b[0;34m:\u001b[0m\u001b[0;34m\u001b[0m\u001b[0;34m\u001b[0m\u001b[0m\n\u001b[0;32m--> 689\u001b[0;31m           \u001b[0;32mreturn\u001b[0m \u001b[0mconverted_call\u001b[0m\u001b[0;34m(\u001b[0m\u001b[0mf\u001b[0m\u001b[0;34m,\u001b[0m \u001b[0margs\u001b[0m\u001b[0;34m,\u001b[0m \u001b[0mkwargs\u001b[0m\u001b[0;34m,\u001b[0m \u001b[0moptions\u001b[0m\u001b[0;34m=\u001b[0m\u001b[0moptions\u001b[0m\u001b[0;34m)\u001b[0m\u001b[0;34m\u001b[0m\u001b[0;34m\u001b[0m\u001b[0m\n\u001b[0m\u001b[1;32m    690\u001b[0m       \u001b[0;32mexcept\u001b[0m \u001b[0mException\u001b[0m \u001b[0;32mas\u001b[0m \u001b[0me\u001b[0m\u001b[0;34m:\u001b[0m  \u001b[0;31m# pylint:disable=broad-except\u001b[0m\u001b[0;34m\u001b[0m\u001b[0;34m\u001b[0m\u001b[0m\n\u001b[1;32m    691\u001b[0m         \u001b[0;32mif\u001b[0m \u001b[0mhasattr\u001b[0m\u001b[0;34m(\u001b[0m\u001b[0me\u001b[0m\u001b[0;34m,\u001b[0m \u001b[0;34m'ag_error_metadata'\u001b[0m\u001b[0;34m)\u001b[0m\u001b[0;34m:\u001b[0m\u001b[0;34m\u001b[0m\u001b[0;34m\u001b[0m\u001b[0m\n",
            "\u001b[0;32m/usr/local/lib/python3.7/dist-packages/tensorflow/python/autograph/impl/api.py\u001b[0m in \u001b[0;36mconverted_call\u001b[0;34m(f, args, kwargs, caller_fn_scope, options)\u001b[0m\n\u001b[1;32m    371\u001b[0m       \u001b[0;32mreturn\u001b[0m \u001b[0mpy_builtins\u001b[0m\u001b[0;34m.\u001b[0m\u001b[0moverload_of\u001b[0m\u001b[0;34m(\u001b[0m\u001b[0mf\u001b[0m\u001b[0;34m)\u001b[0m\u001b[0;34m(\u001b[0m\u001b[0;34m*\u001b[0m\u001b[0margs\u001b[0m\u001b[0;34m)\u001b[0m\u001b[0;34m\u001b[0m\u001b[0;34m\u001b[0m\u001b[0m\n\u001b[1;32m    372\u001b[0m \u001b[0;34m\u001b[0m\u001b[0m\n\u001b[0;32m--> 373\u001b[0;31m   \u001b[0;32mif\u001b[0m \u001b[0mconversion\u001b[0m\u001b[0;34m.\u001b[0m\u001b[0mis_unsupported\u001b[0m\u001b[0;34m(\u001b[0m\u001b[0mf\u001b[0m\u001b[0;34m)\u001b[0m\u001b[0;34m:\u001b[0m\u001b[0;34m\u001b[0m\u001b[0;34m\u001b[0m\u001b[0m\n\u001b[0m\u001b[1;32m    374\u001b[0m     \u001b[0;32mreturn\u001b[0m \u001b[0m_call_unconverted\u001b[0m\u001b[0;34m(\u001b[0m\u001b[0mf\u001b[0m\u001b[0;34m,\u001b[0m \u001b[0margs\u001b[0m\u001b[0;34m,\u001b[0m \u001b[0mkwargs\u001b[0m\u001b[0;34m,\u001b[0m \u001b[0moptions\u001b[0m\u001b[0;34m)\u001b[0m\u001b[0;34m\u001b[0m\u001b[0;34m\u001b[0m\u001b[0m\n\u001b[1;32m    375\u001b[0m \u001b[0;34m\u001b[0m\u001b[0m\n",
            "\u001b[0;32m/usr/local/lib/python3.7/dist-packages/tensorflow/python/autograph/impl/conversion.py\u001b[0m in \u001b[0;36mis_unsupported\u001b[0;34m(o)\u001b[0m\n\u001b[1;32m     95\u001b[0m   if any(\n\u001b[1;32m     96\u001b[0m       \u001b[0m_is_of_known_loaded_module\u001b[0m\u001b[0;34m(\u001b[0m\u001b[0mo\u001b[0m\u001b[0;34m,\u001b[0m \u001b[0mm\u001b[0m\u001b[0;34m)\u001b[0m\u001b[0;34m\u001b[0m\u001b[0;34m\u001b[0m\u001b[0m\n\u001b[0;32m---> 97\u001b[0;31m       for m in ('collections', 'pdb', 'copy', 'inspect', 're')):\n\u001b[0m\u001b[1;32m     98\u001b[0m     \u001b[0mlogging\u001b[0m\u001b[0;34m.\u001b[0m\u001b[0mlog\u001b[0m\u001b[0;34m(\u001b[0m\u001b[0;36m2\u001b[0m\u001b[0;34m,\u001b[0m \u001b[0;34m'Permanently allowed: %s: part of builtin module'\u001b[0m\u001b[0;34m,\u001b[0m \u001b[0mo\u001b[0m\u001b[0;34m)\u001b[0m\u001b[0;34m\u001b[0m\u001b[0;34m\u001b[0m\u001b[0m\n\u001b[1;32m     99\u001b[0m     \u001b[0;32mreturn\u001b[0m \u001b[0;32mTrue\u001b[0m\u001b[0;34m\u001b[0m\u001b[0;34m\u001b[0m\u001b[0m\n",
            "\u001b[0;32m/usr/local/lib/python3.7/dist-packages/tensorflow/python/autograph/impl/conversion.py\u001b[0m in \u001b[0;36m<genexpr>\u001b[0;34m(.0)\u001b[0m\n\u001b[1;32m     95\u001b[0m   if any(\n\u001b[1;32m     96\u001b[0m       \u001b[0m_is_of_known_loaded_module\u001b[0m\u001b[0;34m(\u001b[0m\u001b[0mo\u001b[0m\u001b[0;34m,\u001b[0m \u001b[0mm\u001b[0m\u001b[0;34m)\u001b[0m\u001b[0;34m\u001b[0m\u001b[0;34m\u001b[0m\u001b[0m\n\u001b[0;32m---> 97\u001b[0;31m       for m in ('collections', 'pdb', 'copy', 'inspect', 're')):\n\u001b[0m\u001b[1;32m     98\u001b[0m     \u001b[0mlogging\u001b[0m\u001b[0;34m.\u001b[0m\u001b[0mlog\u001b[0m\u001b[0;34m(\u001b[0m\u001b[0;36m2\u001b[0m\u001b[0;34m,\u001b[0m \u001b[0;34m'Permanently allowed: %s: part of builtin module'\u001b[0m\u001b[0;34m,\u001b[0m \u001b[0mo\u001b[0m\u001b[0;34m)\u001b[0m\u001b[0;34m\u001b[0m\u001b[0;34m\u001b[0m\u001b[0m\n\u001b[1;32m     99\u001b[0m     \u001b[0;32mreturn\u001b[0m \u001b[0;32mTrue\u001b[0m\u001b[0;34m\u001b[0m\u001b[0;34m\u001b[0m\u001b[0m\n",
            "\u001b[0;32m/usr/local/lib/python3.7/dist-packages/tensorflow/python/autograph/impl/conversion.py\u001b[0m in \u001b[0;36m_is_of_known_loaded_module\u001b[0;34m(f, module_name)\u001b[0m\n\u001b[1;32m     35\u001b[0m   \u001b[0;32mif\u001b[0m \u001b[0mmod\u001b[0m \u001b[0;32mis\u001b[0m \u001b[0;32mNone\u001b[0m\u001b[0;34m:\u001b[0m\u001b[0;34m\u001b[0m\u001b[0;34m\u001b[0m\u001b[0m\n\u001b[1;32m     36\u001b[0m     \u001b[0;32mreturn\u001b[0m \u001b[0;32mFalse\u001b[0m\u001b[0;34m\u001b[0m\u001b[0;34m\u001b[0m\u001b[0m\n\u001b[0;32m---> 37\u001b[0;31m   \u001b[0;32mif\u001b[0m \u001b[0many\u001b[0m\u001b[0;34m(\u001b[0m\u001b[0mv\u001b[0m \u001b[0;32mis\u001b[0m \u001b[0;32mnot\u001b[0m \u001b[0;32mNone\u001b[0m \u001b[0;32mfor\u001b[0m \u001b[0mv\u001b[0m \u001b[0;32min\u001b[0m \u001b[0mmod\u001b[0m\u001b[0;34m.\u001b[0m\u001b[0m__dict__\u001b[0m\u001b[0;34m.\u001b[0m\u001b[0mvalues\u001b[0m\u001b[0;34m(\u001b[0m\u001b[0;34m)\u001b[0m \u001b[0;32mif\u001b[0m \u001b[0mf\u001b[0m \u001b[0;32mis\u001b[0m \u001b[0mv\u001b[0m\u001b[0;34m)\u001b[0m\u001b[0;34m:\u001b[0m\u001b[0;34m\u001b[0m\u001b[0;34m\u001b[0m\u001b[0m\n\u001b[0m\u001b[1;32m     38\u001b[0m     \u001b[0;32mreturn\u001b[0m \u001b[0;32mTrue\u001b[0m\u001b[0;34m\u001b[0m\u001b[0;34m\u001b[0m\u001b[0m\n\u001b[1;32m     39\u001b[0m   \u001b[0;32mreturn\u001b[0m \u001b[0;32mFalse\u001b[0m\u001b[0;34m\u001b[0m\u001b[0;34m\u001b[0m\u001b[0m\n",
            "\u001b[0;32m/usr/local/lib/python3.7/dist-packages/tensorflow/python/autograph/impl/conversion.py\u001b[0m in \u001b[0;36m<genexpr>\u001b[0;34m(.0)\u001b[0m\n\u001b[1;32m     35\u001b[0m   \u001b[0;32mif\u001b[0m \u001b[0mmod\u001b[0m \u001b[0;32mis\u001b[0m \u001b[0;32mNone\u001b[0m\u001b[0;34m:\u001b[0m\u001b[0;34m\u001b[0m\u001b[0;34m\u001b[0m\u001b[0m\n\u001b[1;32m     36\u001b[0m     \u001b[0;32mreturn\u001b[0m \u001b[0;32mFalse\u001b[0m\u001b[0;34m\u001b[0m\u001b[0;34m\u001b[0m\u001b[0m\n\u001b[0;32m---> 37\u001b[0;31m   \u001b[0;32mif\u001b[0m \u001b[0many\u001b[0m\u001b[0;34m(\u001b[0m\u001b[0mv\u001b[0m \u001b[0;32mis\u001b[0m \u001b[0;32mnot\u001b[0m \u001b[0;32mNone\u001b[0m \u001b[0;32mfor\u001b[0m \u001b[0mv\u001b[0m \u001b[0;32min\u001b[0m \u001b[0mmod\u001b[0m\u001b[0;34m.\u001b[0m\u001b[0m__dict__\u001b[0m\u001b[0;34m.\u001b[0m\u001b[0mvalues\u001b[0m\u001b[0;34m(\u001b[0m\u001b[0;34m)\u001b[0m \u001b[0;32mif\u001b[0m \u001b[0mf\u001b[0m \u001b[0;32mis\u001b[0m \u001b[0mv\u001b[0m\u001b[0;34m)\u001b[0m\u001b[0;34m:\u001b[0m\u001b[0;34m\u001b[0m\u001b[0;34m\u001b[0m\u001b[0m\n\u001b[0m\u001b[1;32m     38\u001b[0m     \u001b[0;32mreturn\u001b[0m \u001b[0;32mTrue\u001b[0m\u001b[0;34m\u001b[0m\u001b[0;34m\u001b[0m\u001b[0m\n\u001b[1;32m     39\u001b[0m   \u001b[0;32mreturn\u001b[0m \u001b[0;32mFalse\u001b[0m\u001b[0;34m\u001b[0m\u001b[0;34m\u001b[0m\u001b[0m\n",
            "\u001b[0;31mKeyboardInterrupt\u001b[0m: "
          ]
        }
      ],
      "source": [
        "# SAVING VARIABLES\n",
        "R_save = np.zeros([N_episodes, max_T ])\n",
        "N_moves_save = np.zeros([N_episodes])\n",
        "\n",
        "S,X,allowed_a=env.Initialise_game()\n",
        "\n",
        "N_a=np.shape(allowed_a)[0]   # TOTAL NUMBER OF POSSIBLE ACTIONS\n",
        "N_in=np.shape(X)[0]    ## INPUT SIZE\n",
        "\n",
        "model = build_model()\n",
        "batch_size = 32\n",
        "\n",
        "for e in range(N_episodes):\n",
        "    S, X, allowed_a = env.Initialise_game()\n",
        "    X = np.reshape(X, [1, N_in])\n",
        "    for time in range(max_T):\n",
        "        a = greedy(model, X, epsilon_0, allowed_a)\n",
        "        S_next, X_next, allowed_a_next, R, Done = env.OneStep(a)\n",
        "        R_save[e, time] = np.copy(R)\n",
        "        N_moves_save[e] = np.copy(time+1)\n",
        "\n",
        "        if Done == 1:\n",
        "            print(\"episode: {}/{}, score: {}, e: {:.2}\"\n",
        "                  .format(e, N_episodes, time, epsilon_0))\n",
        "            break\n",
        "\n",
        "\n",
        "        X_next = np.reshape(X_next, [1, N_in])\n",
        "        #next_state = np.reshape(next_state, [1, N_a])\n",
        "        memory.append((X, a, R, X_next, Done))\n",
        "        X = X_next\n",
        "        allowed_a = allowed_a_next\n",
        "\n",
        "        if len(memory) > batch_size:\n",
        "            replay(model, batch_size)\n",
        "            epsilon_0 = epsilon_0/ (1 + beta * e)\n",
        "\n",
        "\n",
        "    if e % 10 == 0:\n",
        "        save(model, \"qlearning.h5\")"
      ],
      "id": "Tda1-6DYLLuQ"
    },
    {
      "cell_type": "code",
      "source": [
        "testmodel = build_model()\n",
        "load(testmodel, \"qlearning.h5\")\n",
        "N_episodes_test = 20\n",
        "\n",
        "# SAVING VARIABLES\n",
        "R_save = np.zeros([N_episodes, max_T ])\n",
        "N_moves_save = np.zeros([N_episodes])\n",
        "\n",
        "S,X,allowed_a=env.Initialise_game()\n",
        "\n",
        "N_a=np.shape(allowed_a)[0]   # TOTAL NUMBER OF POSSIBLE ACTIONS\n",
        "N_in=np.shape(X)[0]    ## INPUT SIZE\n",
        "\n",
        "for e in range(N_episodes_test):\n",
        "    S, X, allowed_a = env.Initialise_game()\n",
        "    X = np.reshape(X, [1, N_in])\n",
        "    for time in range(max_T):\n",
        "        a = greedy(testmodel, X, epsilon_0, allowed_a)\n",
        "        S_next, X_next, allowed_a_next, R, Done = env.OneStep(a)\n",
        "        R_save[e, time] = np.copy(R)\n",
        "        N_moves_save[e] = np.copy(time+1)\n",
        "\n",
        "        if Done == 1:\n",
        "            print(\"episode: {}/{}, score: {}, e: {:.2}\"\n",
        "                  .format(e, N_episodes_test, time, epsilon_0))\n",
        "            break\n",
        "\n",
        "\n",
        "        X_next = np.reshape(X_next, [1, N_in])\n",
        "        #next_state = np.reshape(next_state, [1, N_a])\n",
        "        X = X_next\n",
        "        allowed_a = allowed_a_next"
      ],
      "metadata": {
        "colab": {
          "base_uri": "https://localhost:8080/"
        },
        "id": "NekQAC1NJGkL",
        "outputId": "1ef3f66f-0d64-4c47-a42d-89303aad69c0"
      },
      "id": "NekQAC1NJGkL",
      "execution_count": 24,
      "outputs": [
        {
          "output_type": "stream",
          "name": "stderr",
          "text": [
            "/usr/local/lib/python3.7/dist-packages/keras/optimizer_v2/adam.py:105: UserWarning: The `lr` argument is deprecated, use `learning_rate` instead.\n",
            "  super(Adam, self).__init__(name, **kwargs)\n"
          ]
        },
        {
          "output_type": "stream",
          "name": "stdout",
          "text": [
            "episode: 0/20, score: 3, e: 0.012\n",
            "episode: 4/20, score: 2, e: 0.012\n",
            "episode: 5/20, score: 75, e: 0.012\n",
            "episode: 6/20, score: 2, e: 0.012\n",
            "episode: 7/20, score: 10, e: 0.012\n",
            "episode: 8/20, score: 53, e: 0.012\n",
            "episode: 9/20, score: 0, e: 0.012\n",
            "episode: 10/20, score: 1, e: 0.012\n",
            "episode: 11/20, score: 1, e: 0.012\n",
            "episode: 12/20, score: 1, e: 0.012\n",
            "episode: 15/20, score: 2, e: 0.012\n",
            "episode: 16/20, score: 1, e: 0.012\n",
            "episode: 17/20, score: 2, e: 0.012\n",
            "episode: 18/20, score: 50, e: 0.012\n"
          ]
        }
      ]
    },
    {
      "cell_type": "code",
      "source": [
        "avg = np.sum(N_moves_save) / N_episodes_test\n",
        "print(avg)"
      ],
      "metadata": {
        "colab": {
          "base_uri": "https://localhost:8080/"
        },
        "id": "sORq113lN9Tv",
        "outputId": "c7966070-59b3-4aa4-b19e-0eb8bb336d5b"
      },
      "id": "sORq113lN9Tv",
      "execution_count": 25,
      "outputs": [
        {
          "output_type": "stream",
          "name": "stdout",
          "text": [
            "70.85\n"
          ]
        }
      ]
    },
    {
      "cell_type": "code",
      "execution_count": 26,
      "metadata": {
        "colab": {
          "base_uri": "https://localhost:8080/",
          "height": 1000
        },
        "id": "a9e1cd9b",
        "outputId": "43b1d473-bef2-41bc-82a2-eb692716e1b5"
      },
      "outputs": [
        {
          "output_type": "execute_result",
          "data": {
            "text/plain": [
              "[<matplotlib.lines.Line2D at 0x7fda96f3fd50>,\n",
              " <matplotlib.lines.Line2D at 0x7fda91154d50>,\n",
              " <matplotlib.lines.Line2D at 0x7fda96a246d0>,\n",
              " <matplotlib.lines.Line2D at 0x7fda96a24250>,\n",
              " <matplotlib.lines.Line2D at 0x7fda96a24290>,\n",
              " <matplotlib.lines.Line2D at 0x7fda94ae9d10>,\n",
              " <matplotlib.lines.Line2D at 0x7fda94ae9950>,\n",
              " <matplotlib.lines.Line2D at 0x7fda94ae9390>,\n",
              " <matplotlib.lines.Line2D at 0x7fda96a24ed0>,\n",
              " <matplotlib.lines.Line2D at 0x7fda94ae96d0>,\n",
              " <matplotlib.lines.Line2D at 0x7fda91154d10>,\n",
              " <matplotlib.lines.Line2D at 0x7fda96b8c150>,\n",
              " <matplotlib.lines.Line2D at 0x7fda96b8c450>,\n",
              " <matplotlib.lines.Line2D at 0x7fda96b8c410>,\n",
              " <matplotlib.lines.Line2D at 0x7fda96b8cd50>,\n",
              " <matplotlib.lines.Line2D at 0x7fda96b8cf10>,\n",
              " <matplotlib.lines.Line2D at 0x7fda95694f90>,\n",
              " <matplotlib.lines.Line2D at 0x7fda956947d0>,\n",
              " <matplotlib.lines.Line2D at 0x7fda95694ad0>,\n",
              " <matplotlib.lines.Line2D at 0x7fda95694790>,\n",
              " <matplotlib.lines.Line2D at 0x7fda95694290>,\n",
              " <matplotlib.lines.Line2D at 0x7fda95694f50>,\n",
              " <matplotlib.lines.Line2D at 0x7fda95694490>,\n",
              " <matplotlib.lines.Line2D at 0x7fda95694d50>,\n",
              " <matplotlib.lines.Line2D at 0x7fda91914f10>,\n",
              " <matplotlib.lines.Line2D at 0x7fda91914150>,\n",
              " <matplotlib.lines.Line2D at 0x7fda919148d0>,\n",
              " <matplotlib.lines.Line2D at 0x7fda91914f90>,\n",
              " <matplotlib.lines.Line2D at 0x7fda93ad4dd0>,\n",
              " <matplotlib.lines.Line2D at 0x7fda93ad4810>,\n",
              " <matplotlib.lines.Line2D at 0x7fda93ad49d0>,\n",
              " <matplotlib.lines.Line2D at 0x7fda956152d0>,\n",
              " <matplotlib.lines.Line2D at 0x7fda95615350>,\n",
              " <matplotlib.lines.Line2D at 0x7fda95615550>,\n",
              " <matplotlib.lines.Line2D at 0x7fda95615450>,\n",
              " <matplotlib.lines.Line2D at 0x7fda93b21ad0>,\n",
              " <matplotlib.lines.Line2D at 0x7fda93b21910>,\n",
              " <matplotlib.lines.Line2D at 0x7fda96a57f50>,\n",
              " <matplotlib.lines.Line2D at 0x7fda91435390>,\n",
              " <matplotlib.lines.Line2D at 0x7fda96d100d0>,\n",
              " <matplotlib.lines.Line2D at 0x7fda96aed210>,\n",
              " <matplotlib.lines.Line2D at 0x7fda915df510>,\n",
              " <matplotlib.lines.Line2D at 0x7fda915df050>,\n",
              " <matplotlib.lines.Line2D at 0x7fda915df610>,\n",
              " <matplotlib.lines.Line2D at 0x7fda915dfb50>,\n",
              " <matplotlib.lines.Line2D at 0x7fda915df7d0>,\n",
              " <matplotlib.lines.Line2D at 0x7fda915dfad0>,\n",
              " <matplotlib.lines.Line2D at 0x7fda915df1d0>,\n",
              " <matplotlib.lines.Line2D at 0x7fda915af410>,\n",
              " <matplotlib.lines.Line2D at 0x7fda915aff10>,\n",
              " <matplotlib.lines.Line2D at 0x7fda915af810>,\n",
              " <matplotlib.lines.Line2D at 0x7fda915af310>,\n",
              " <matplotlib.lines.Line2D at 0x7fda96ebd6d0>,\n",
              " <matplotlib.lines.Line2D at 0x7fda96ebd950>,\n",
              " <matplotlib.lines.Line2D at 0x7fda96ebdc10>,\n",
              " <matplotlib.lines.Line2D at 0x7fda96ebd8d0>,\n",
              " <matplotlib.lines.Line2D at 0x7fdb0018fbd0>,\n",
              " <matplotlib.lines.Line2D at 0x7fdb0018f790>,\n",
              " <matplotlib.lines.Line2D at 0x7fdb0018f410>,\n",
              " <matplotlib.lines.Line2D at 0x7fdb0018f710>,\n",
              " <matplotlib.lines.Line2D at 0x7fda94721890>,\n",
              " <matplotlib.lines.Line2D at 0x7fda94721990>,\n",
              " <matplotlib.lines.Line2D at 0x7fda94721e10>,\n",
              " <matplotlib.lines.Line2D at 0x7fda947211d0>,\n",
              " <matplotlib.lines.Line2D at 0x7fda947217d0>,\n",
              " <matplotlib.lines.Line2D at 0x7fda94721050>,\n",
              " <matplotlib.lines.Line2D at 0x7fda94721bd0>,\n",
              " <matplotlib.lines.Line2D at 0x7fda9192b890>,\n",
              " <matplotlib.lines.Line2D at 0x7fda9192b910>,\n",
              " <matplotlib.lines.Line2D at 0x7fda9192bf50>,\n",
              " <matplotlib.lines.Line2D at 0x7fda9192b3d0>,\n",
              " <matplotlib.lines.Line2D at 0x7fda94a5d4d0>,\n",
              " <matplotlib.lines.Line2D at 0x7fda94a5d510>,\n",
              " <matplotlib.lines.Line2D at 0x7fda94a5da50>,\n",
              " <matplotlib.lines.Line2D at 0x7fda94a5d790>,\n",
              " <matplotlib.lines.Line2D at 0x7fda94a5d050>,\n",
              " <matplotlib.lines.Line2D at 0x7fda94a5dc10>,\n",
              " <matplotlib.lines.Line2D at 0x7fda94a5ddd0>,\n",
              " <matplotlib.lines.Line2D at 0x7fda915b85d0>,\n",
              " <matplotlib.lines.Line2D at 0x7fda915b8890>,\n",
              " <matplotlib.lines.Line2D at 0x7fda915b8750>,\n",
              " <matplotlib.lines.Line2D at 0x7fda915b8a50>,\n",
              " <matplotlib.lines.Line2D at 0x7fda915b8390>,\n",
              " <matplotlib.lines.Line2D at 0x7fda915b8290>,\n",
              " <matplotlib.lines.Line2D at 0x7fda915b8710>,\n",
              " <matplotlib.lines.Line2D at 0x7fda915b8a10>,\n",
              " <matplotlib.lines.Line2D at 0x7fda95a02250>,\n",
              " <matplotlib.lines.Line2D at 0x7fda95a02050>,\n",
              " <matplotlib.lines.Line2D at 0x7fda95a02350>,\n",
              " <matplotlib.lines.Line2D at 0x7fda95a02110>,\n",
              " <matplotlib.lines.Line2D at 0x7fda95a02710>,\n",
              " <matplotlib.lines.Line2D at 0x7fda95a029d0>,\n",
              " <matplotlib.lines.Line2D at 0x7fda95a02f90>,\n",
              " <matplotlib.lines.Line2D at 0x7fda95a02a10>,\n",
              " <matplotlib.lines.Line2D at 0x7fda95a02950>,\n",
              " <matplotlib.lines.Line2D at 0x7fda95a0b910>,\n",
              " <matplotlib.lines.Line2D at 0x7fda95a0b690>,\n",
              " <matplotlib.lines.Line2D at 0x7fda95a0b3d0>,\n",
              " <matplotlib.lines.Line2D at 0x7fda95a0b890>,\n",
              " <matplotlib.lines.Line2D at 0x7fda95a0bbd0>,\n",
              " <matplotlib.lines.Line2D at 0x7fda95a0b050>,\n",
              " <matplotlib.lines.Line2D at 0x7fda95a0bfd0>,\n",
              " <matplotlib.lines.Line2D at 0x7fda95a0b510>,\n",
              " <matplotlib.lines.Line2D at 0x7fda95a0b850>,\n",
              " <matplotlib.lines.Line2D at 0x7fda915e00d0>,\n",
              " <matplotlib.lines.Line2D at 0x7fda915e0950>,\n",
              " <matplotlib.lines.Line2D at 0x7fda915e03d0>,\n",
              " <matplotlib.lines.Line2D at 0x7fda915e0810>,\n",
              " <matplotlib.lines.Line2D at 0x7fda915e0b50>,\n",
              " <matplotlib.lines.Line2D at 0x7fda915e0990>,\n",
              " <matplotlib.lines.Line2D at 0x7fda915e0fd0>,\n",
              " <matplotlib.lines.Line2D at 0x7fda913fc890>,\n",
              " <matplotlib.lines.Line2D at 0x7fda913fc3d0>,\n",
              " <matplotlib.lines.Line2D at 0x7fda913fc9d0>,\n",
              " <matplotlib.lines.Line2D at 0x7fda913fca10>,\n",
              " <matplotlib.lines.Line2D at 0x7fda913fcd50>,\n",
              " <matplotlib.lines.Line2D at 0x7fda913fce90>,\n",
              " <matplotlib.lines.Line2D at 0x7fda913fc1d0>,\n",
              " <matplotlib.lines.Line2D at 0x7fda913fcf10>,\n",
              " <matplotlib.lines.Line2D at 0x7fda972a7390>,\n",
              " <matplotlib.lines.Line2D at 0x7fda972a74d0>,\n",
              " <matplotlib.lines.Line2D at 0x7fda972a7d50>,\n",
              " <matplotlib.lines.Line2D at 0x7fda972a72d0>,\n",
              " <matplotlib.lines.Line2D at 0x7fda972a7250>,\n",
              " <matplotlib.lines.Line2D at 0x7fda972a7a90>,\n",
              " <matplotlib.lines.Line2D at 0x7fdb00077190>,\n",
              " <matplotlib.lines.Line2D at 0x7fdb000773d0>,\n",
              " <matplotlib.lines.Line2D at 0x7fdb00077a10>,\n",
              " <matplotlib.lines.Line2D at 0x7fdb000779d0>,\n",
              " <matplotlib.lines.Line2D at 0x7fdb00077f50>,\n",
              " <matplotlib.lines.Line2D at 0x7fdb00077550>,\n",
              " <matplotlib.lines.Line2D at 0x7fdb00077bd0>,\n",
              " <matplotlib.lines.Line2D at 0x7fda94ad92d0>,\n",
              " <matplotlib.lines.Line2D at 0x7fda94ad9190>,\n",
              " <matplotlib.lines.Line2D at 0x7fda94ad9d50>,\n",
              " <matplotlib.lines.Line2D at 0x7fda94ad9f10>,\n",
              " <matplotlib.lines.Line2D at 0x7fda94ad9e10>,\n",
              " <matplotlib.lines.Line2D at 0x7fda94ad9950>,\n",
              " <matplotlib.lines.Line2D at 0x7fda94ad9b90>,\n",
              " <matplotlib.lines.Line2D at 0x7fda94ad9bd0>,\n",
              " <matplotlib.lines.Line2D at 0x7fdb00133190>,\n",
              " <matplotlib.lines.Line2D at 0x7fdb00133d50>,\n",
              " <matplotlib.lines.Line2D at 0x7fdb00133390>,\n",
              " <matplotlib.lines.Line2D at 0x7fdb00133610>,\n",
              " <matplotlib.lines.Line2D at 0x7fdb00133310>,\n",
              " <matplotlib.lines.Line2D at 0x7fdb00133890>,\n",
              " <matplotlib.lines.Line2D at 0x7fda953a7350>,\n",
              " <matplotlib.lines.Line2D at 0x7fda953a7b50>,\n",
              " <matplotlib.lines.Line2D at 0x7fda953a7dd0>,\n",
              " <matplotlib.lines.Line2D at 0x7fda953a7790>,\n",
              " <matplotlib.lines.Line2D at 0x7fda953a7490>,\n",
              " <matplotlib.lines.Line2D at 0x7fda953a7210>,\n",
              " <matplotlib.lines.Line2D at 0x7fda953a7950>,\n",
              " <matplotlib.lines.Line2D at 0x7fda953a7c90>,\n",
              " <matplotlib.lines.Line2D at 0x7fda94af1e10>,\n",
              " <matplotlib.lines.Line2D at 0x7fda94af1990>,\n",
              " <matplotlib.lines.Line2D at 0x7fda94af16d0>,\n",
              " <matplotlib.lines.Line2D at 0x7fda94af1890>,\n",
              " <matplotlib.lines.Line2D at 0x7fda9695ce50>,\n",
              " <matplotlib.lines.Line2D at 0x7fda96d58f50>,\n",
              " <matplotlib.lines.Line2D at 0x7fda96d588d0>,\n",
              " <matplotlib.lines.Line2D at 0x7fda96d58090>,\n",
              " <matplotlib.lines.Line2D at 0x7fda96d58890>,\n",
              " <matplotlib.lines.Line2D at 0x7fda96d585d0>,\n",
              " <matplotlib.lines.Line2D at 0x7fda96d58cd0>,\n",
              " <matplotlib.lines.Line2D at 0x7fda96d58550>,\n",
              " <matplotlib.lines.Line2D at 0x7fda96d58e50>,\n",
              " <matplotlib.lines.Line2D at 0x7fda96913990>,\n",
              " <matplotlib.lines.Line2D at 0x7fda96a9d590>,\n",
              " <matplotlib.lines.Line2D at 0x7fda947dac50>,\n",
              " <matplotlib.lines.Line2D at 0x7fda947da2d0>,\n",
              " <matplotlib.lines.Line2D at 0x7fda947dab90>,\n",
              " <matplotlib.lines.Line2D at 0x7fda947da510>,\n",
              " <matplotlib.lines.Line2D at 0x7fda947da910>,\n",
              " <matplotlib.lines.Line2D at 0x7fda95796550>,\n",
              " <matplotlib.lines.Line2D at 0x7fda95796a50>,\n",
              " <matplotlib.lines.Line2D at 0x7fda95796e10>,\n",
              " <matplotlib.lines.Line2D at 0x7fda95796210>,\n",
              " <matplotlib.lines.Line2D at 0x7fda957969d0>,\n",
              " <matplotlib.lines.Line2D at 0x7fda95796a90>,\n",
              " <matplotlib.lines.Line2D at 0x7fda968865d0>,\n",
              " <matplotlib.lines.Line2D at 0x7fda968863d0>,\n",
              " <matplotlib.lines.Line2D at 0x7fda96886ad0>,\n",
              " <matplotlib.lines.Line2D at 0x7fda955b0790>,\n",
              " <matplotlib.lines.Line2D at 0x7fda955b0650>,\n",
              " <matplotlib.lines.Line2D at 0x7fda955b0150>,\n",
              " <matplotlib.lines.Line2D at 0x7fda955b0510>,\n",
              " <matplotlib.lines.Line2D at 0x7fda955b0290>,\n",
              " <matplotlib.lines.Line2D at 0x7fda955b0d50>,\n",
              " <matplotlib.lines.Line2D at 0x7fda955b0890>,\n",
              " <matplotlib.lines.Line2D at 0x7fda96994750>,\n",
              " <matplotlib.lines.Line2D at 0x7fda969942d0>,\n",
              " <matplotlib.lines.Line2D at 0x7fda96994b50>,\n",
              " <matplotlib.lines.Line2D at 0x7fda96994950>,\n",
              " <matplotlib.lines.Line2D at 0x7fda95757b10>,\n",
              " <matplotlib.lines.Line2D at 0x7fda95757650>,\n",
              " <matplotlib.lines.Line2D at 0x7fda95757490>,\n",
              " <matplotlib.lines.Line2D at 0x7fda95757050>,\n",
              " <matplotlib.lines.Line2D at 0x7fda95757d50>,\n",
              " <matplotlib.lines.Line2D at 0x7fda95757ed0>]"
            ]
          },
          "metadata": {},
          "execution_count": 26
        },
        {
          "output_type": "display_data",
          "data": {
            "text/plain": [
              "<Figure size 432x288 with 1 Axes>"
            ],
            "image/png": "[encoded data removed]"
          },
          "metadata": {
            "needs_background": "light"
          }
        }
      ],
      "source": [
        "import matplotlib.pyplot as plt\n",
        "\n",
        "fig, ax = plt.subplots(figsize=(6,4))\n",
        "ax.xlim=()\n",
        "ax.ylim=()\n",
        "\n",
        "ax.plot(np.linspace(1, N_episodes, num=N_episodes), R_save)\n"
      ],
      "id": "a9e1cd9b"
    },
    {
      "cell_type": "code",
      "execution_count": 27,
      "metadata": {
        "colab": {
          "base_uri": "https://localhost:8080/"
        },
        "id": "880d3ce8",
        "outputId": "d6e78832-940f-4400-c04d-2471065f25ca"
      },
      "outputs": [
        {
          "output_type": "execute_result",
          "data": {
            "text/plain": [
              "0.2834"
            ]
          },
          "metadata": {},
          "execution_count": 27
        }
      ],
      "source": [
        "np.average(N_moves_save)"
      ],
      "id": "880d3ce8"
    },
    {
      "cell_type": "code",
      "execution_count": 28,
      "metadata": {
        "colab": {
          "base_uri": "https://localhost:8080/",
          "height": 283
        },
        "id": "427425ff",
        "outputId": "5b0de46e-5995-4c63-b882-637cfb31d669"
      },
      "outputs": [
        {
          "output_type": "execute_result",
          "data": {
            "text/plain": [
              "[<matplotlib.lines.Line2D at 0x7fda96beddd0>]"
            ]
          },
          "metadata": {},
          "execution_count": 28
        },
        {
          "output_type": "display_data",
          "data": {
            "text/plain": [
              "<Figure size 432x288 with 1 Axes>"
            ],
            "image/png": "[encoded data removed]"
          },
          "metadata": {
            "needs_background": "light"
          }
        }
      ],
      "source": [
        "fig, ax = plt.subplots(figsize=(6,4))\n",
        "ax.xlim=()\n",
        "ax.ylim=()\n",
        "\n",
        "ax.plot(np.linspace(1, N_episodes, num=N_episodes), N_moves_save)"
      ],
      "id": "427425ff"
    },
    {
      "cell_type": "code",
      "execution_count": null,
      "metadata": {
        "id": "p01bMjfpxSC_"
      },
      "outputs": [],
      "source": [
        ""
      ],
      "id": "p01bMjfpxSC_"
    }
  ],
  "metadata": {
    "accelerator": "GPU",
    "colab": {
      "collapsed_sections": [],
      "name": "Assignment.ipynb",
      "provenance": []
    },
    "kernelspec": {
      "display_name": "Python 3",
      "language": "python",
      "name": "python3"
    },
    "language_info": {
      "codemirror_mode": {
        "name": "ipython",
        "version": 3
      },
      "file_extension": ".py",
      "mimetype": "text/x-python",
      "name": "python",
      "nbconvert_exporter": "python",
      "pygments_lexer": "ipython3",
      "version": "3.8.8"
    }
  },
  "nbformat": 4,
  "nbformat_minor": 5
}